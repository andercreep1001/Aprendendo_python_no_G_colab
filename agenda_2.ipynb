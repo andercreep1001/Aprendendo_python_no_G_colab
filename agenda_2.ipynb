{
  "nbformat": 4,
  "nbformat_minor": 0,
  "metadata": {
    "colab": {
      "name": "agenda_2.ipynb",
      "provenance": [],
      "authorship_tag": "ABX9TyMEltJ8WBD5v/CvgvyxMXvC",
      "include_colab_link": true
    },
    "kernelspec": {
      "name": "python3",
      "display_name": "Python 3"
    },
    "language_info": {
      "name": "python"
    }
  },
  "cells": [
    {
      "cell_type": "markdown",
      "metadata": {
        "id": "view-in-github",
        "colab_type": "text"
      },
      "source": [
        "<a href=\"https://colab.research.google.com/github/andercreep1001/Aprendendo_python_no_G_colab/blob/main/agenda_2.ipynb\" target=\"_parent\"><img src=\"https://colab.research.google.com/assets/colab-badge.svg\" alt=\"Open In Colab\"/></a>"
      ]
    },
    {
      "cell_type": "markdown",
      "metadata": {
        "id": "ZHIw4sMfDshL"
      },
      "source": [
        "# ***Agenda 2***"
      ]
    },
    {
      "cell_type": "code",
      "metadata": {
        "colab": {
          "base_uri": "https://localhost:8080/"
        },
        "id": "ycLyeBVsD1wq",
        "outputId": "366b377b-73f2-4de1-a06c-a12dd8a6a4de"
      },
      "source": [
        "AGENDA = {}\n",
        "\n",
        "AGENDA['tais'] = {'fone':'99999999', 'endereco':'avenida 01', 'email':'tais@gmail.com'}\n",
        "AGENDA['agnes'] = {'fone':'8888888', 'endereco':'avenida 02', 'email':'agnes@gmail.com'}\n",
        "\n",
        "print(AGENDA['agnes'])"
      ],
      "execution_count": 3,
      "outputs": [
        {
          "output_type": "stream",
          "text": [
            "{'fone': '8888888', 'endereco': 'avenida 02', 'email': 'agnes@gmail.com'}\n"
          ],
          "name": "stdout"
        }
      ]
    }
  ]
}