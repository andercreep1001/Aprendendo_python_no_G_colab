{
  "nbformat": 4,
  "nbformat_minor": 0,
  "metadata": {
    "colab": {
      "name": "agenda_2.ipynb",
      "provenance": [],
      "authorship_tag": "ABX9TyOsPfJIqXN5hmIYa1z6qdG3",
      "include_colab_link": true
    },
    "kernelspec": {
      "name": "python3",
      "display_name": "Python 3"
    },
    "language_info": {
      "name": "python"
    }
  },
  "cells": [
    {
      "cell_type": "markdown",
      "metadata": {
        "id": "view-in-github",
        "colab_type": "text"
      },
      "source": [
        "<a href=\"https://colab.research.google.com/github/andercreep1001/Aprendendo_python_no_G_colab/blob/main/agenda_2.ipynb\" target=\"_parent\"><img src=\"https://colab.research.google.com/assets/colab-badge.svg\" alt=\"Open In Colab\"/></a>"
      ]
    },
    {
      "cell_type": "markdown",
      "metadata": {
        "id": "ZHIw4sMfDshL"
      },
      "source": [
        "# ***Agenda 2***"
      ]
    },
    {
      "cell_type": "code",
      "metadata": {
        "colab": {
          "base_uri": "https://localhost:8080/"
        },
        "id": "ycLyeBVsD1wq",
        "outputId": "8690eace-4290-43f7-b79d-88c1e54862d0"
      },
      "source": [
        "AGENDA = {}\n",
        "\n",
        "AGENDA['tais'] = {'fone':'99999999', 'endereco':'avenida 01', 'email':'tais@gmail.com'}\n",
        "AGENDA['agnes'] = {'fone':'8888888', 'endereco':'avenida 02', 'email':'agnes@gmail.com'}\n",
        "\n",
        "#print(AGENDA['agnes'])\n",
        "\n",
        "\n",
        "def mostrar_contato():\n",
        "  for contato in AGENDA:\n",
        "    print('___________________________________________________________________')\n",
        "    print('Nome: ', contato)\n",
        "    print('Telefone: ', AGENDA[contato]['fone'])\n",
        "    print('Endereço: ', AGENDA[contato]['endereco'])\n",
        "    print('E-mail: ', AGENDA[contato]['email'])\n",
        "    print('___________________________________________________________________')\n",
        "\n",
        "mostrar_contato()"
      ],
      "execution_count": 13,
      "outputs": [
        {
          "output_type": "stream",
          "text": [
            "___________________________________________________________________\n",
            "Nome:  tais\n",
            "Telefone:  99999999\n",
            "Endereço:  avenida 01\n",
            "E-mail:  tais@gmail.com\n",
            "___________________________________________________________________\n",
            "___________________________________________________________________\n",
            "Nome:  agnes\n",
            "Telefone:  8888888\n",
            "Endereço:  avenida 02\n",
            "E-mail:  agnes@gmail.com\n",
            "___________________________________________________________________\n"
          ],
          "name": "stdout"
        }
      ]
    }
  ]
}