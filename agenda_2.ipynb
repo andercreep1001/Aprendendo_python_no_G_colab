{
  "nbformat": 4,
  "nbformat_minor": 0,
  "metadata": {
    "colab": {
      "name": "agenda_2.ipynb",
      "provenance": [],
      "authorship_tag": "ABX9TyNmx32bsS0DQFgdXAChVjuq",
      "include_colab_link": true
    },
    "kernelspec": {
      "name": "python3",
      "display_name": "Python 3"
    },
    "language_info": {
      "name": "python"
    }
  },
  "cells": [
    {
      "cell_type": "markdown",
      "metadata": {
        "id": "view-in-github",
        "colab_type": "text"
      },
      "source": [
        "<a href=\"https://colab.research.google.com/github/andercreep1001/Aprendendo_python_no_G_colab/blob/main/agenda_2.ipynb\" target=\"_parent\"><img src=\"https://colab.research.google.com/assets/colab-badge.svg\" alt=\"Open In Colab\"/></a>"
      ]
    },
    {
      "cell_type": "markdown",
      "metadata": {
        "id": "ZHIw4sMfDshL"
      },
      "source": [
        "# ***Agenda 2***"
      ]
    },
    {
      "cell_type": "code",
      "metadata": {
        "colab": {
          "base_uri": "https://localhost:8080/"
        },
        "id": "ycLyeBVsD1wq",
        "outputId": "09b437b4-68a8-44c3-dc17-f0e588c2e621"
      },
      "source": [
        "while True:\n",
        "  AGENDA = {}\n",
        "\n",
        "  AGENDA['Taís'] = {'fone':'99999999', 'endereco':'avenida 01', 'email':'tais@gmail.com'}\n",
        "  AGENDA['Agnes'] = {'fone':'8888888', 'endereco':'avenida 02', 'email':'agnes@gmail.com'}\n",
        "\n",
        "  #print(AGENDA['agnes'])\n",
        "\n",
        "  \"\"\"\n",
        "  def mostrar_contato():\n",
        "    for contato in AGENDA:\n",
        "      print('___________________________________________________________________')\n",
        "      print('Nome: ', contato)\n",
        "      print('Telefone: ', AGENDA[contato]['fone'])\n",
        "      print('Endereço: ', AGENDA[contato]['endereco'])\n",
        "      print('E-mail: ', AGENDA[contato]['email'])\n",
        "      print('___________________________________________________________________')\n",
        "  \"\"\"\n",
        "\n",
        "  def mostrar_contato():\n",
        "    for contato in AGENDA:\n",
        "      print(buscar_contato(contato))\n",
        "\n",
        "\n",
        "  def buscar_contato(contato):\n",
        "    print('___________________________________________________________________')\n",
        "    print('Nome: ', contato)\n",
        "    print('Telefone: ', AGENDA[contato]['fone'])\n",
        "    print('Endereço: ', AGENDA[contato]['endereco'])\n",
        "    print('E-mail: ', AGENDA[contato]['email'])\n",
        "    print('___________________________________________________________________')\n",
        "\n",
        "\n",
        "  def incluir_contato(contato, fone, endereco, email):\n",
        "    AGENDA[contato] = {'fone':fone, 'endereco':endereco, 'email':email}\n",
        "    print(f\"O contato {contato} foi inserido com sucesso.\")\n",
        "\n",
        "  def editar_contato(contato, fone, endereco, email):\n",
        "    AGENDA[contato] = {\n",
        "        'fone':fone, 'endereco':endereco, 'email':email\n",
        "    }  \n",
        "    print(f\"O contato {contato} foi alterado com sucesso.\")\n",
        "\n",
        "\n",
        "  def excluir_contato(contato):\n",
        "    AGENDA.pop(contato) #excluir o objeto do dicionarioa\n",
        "    print(f\"O contato {contato} foi excluido com sucesso.\")\n",
        "\n",
        "\n",
        "  def mostrar_menu():\n",
        "    print('1 - Mostrar todos os contatos')\n",
        "    print('2 - Buscar um contatos')\n",
        "    print('3 - Incluir um contatos')\n",
        "    print('4 - Editar contatos')\n",
        "    print('5 - Ecluir um contatos')\n",
        "    print('0 - Sair da agenda\\n')\n",
        "\n",
        "  mostrar_menu()\n",
        "\n",
        "  opcao = int(input('Digite uma opção: '))\n",
        "\n",
        "  if opcao == 1:\n",
        "    mostrar_contato()\n",
        "  elif opcao == 2:\n",
        "    contato = input('Digite o contato: ')\n",
        "    buscar_contato(contato)\n",
        "  elif opcao == 3:\n",
        "    contato = input('Digite o contato: ')\n",
        "    fone = input('Digite o fone: ')\n",
        "    endereco = input('Digite o endereco: ')\n",
        "    email = input('Digite o email: ')\n",
        "    incluir_contato(contato, fone, endereco, email)   \n",
        "  elif opcao == 4:\n",
        "    contato = input(\"Insera o contato que quer editar: \")\n",
        "    fone = input(f\"{AGENDA[contato]['fone']}: inseria o novo numero: \")\n",
        "    endereco = input(f\"{AGENDA[contato]['endereco']}: insira novo endereço: \")\n",
        "    email = input(f\"{AGENDA[contato]['email']}: insira novo email: \")\n",
        "    editar_contato(contato, fone, endereco, email)  \n",
        "    print(f\"nome: {contato}, fone: {fone}, enereço: {endereco}, email: {email}\")\n",
        "  elif opcao == 5:\n",
        "    contato = input('Insira o contato para excluir: ')\n",
        "    excluir_contato(contato)\n",
        "    mostrar_contato()\n",
        "  elif opcao == 0:\n",
        "    print('Sair do jogo') \n",
        "    break         \n",
        "  else:\n",
        "    print('game over')\n",
        "    break\n",
        "    \n",
        "\n",
        "\n",
        "\n",
        "\n",
        "  #incluir_contato('Leticia', '7777777', 'avenida 03', 'leticia@gmail.com')\n",
        "\n",
        "  #incluir_contato('Paula', '6666666', 'avenida 04', 'paula@gmail.com')\n",
        "\n",
        "  #editar_contato('Taís', '222222222', 'avenida 05', 'taisgata@gmail.com')\n",
        "\n",
        "  #mostrar_menu()\n",
        "\n",
        "  #excluir_contato(\"Agnes\")\n",
        "\n",
        "  #mostrar_contato()\n",
        "\n",
        "  #buscar_contato('Agnes')"
      ],
      "execution_count": 30,
      "outputs": [
        {
          "output_type": "stream",
          "text": [
            "1 - Mostrar todos os contatos\n",
            "2 - Buscar um contatos\n",
            "3 - Incluir um contatos\n",
            "4 - Editar contatos\n",
            "5 - Ecluir um contatos\n",
            "0 - Sair da agenda\n",
            "\n",
            "Digite uma opção: 8\n",
            "game over\n"
          ],
          "name": "stdout"
        }
      ]
    }
  ]
}