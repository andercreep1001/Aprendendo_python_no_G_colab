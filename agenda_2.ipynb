{
  "nbformat": 4,
  "nbformat_minor": 0,
  "metadata": {
    "colab": {
      "name": "agenda_2.ipynb",
      "provenance": [],
      "authorship_tag": "ABX9TyME4yjULXFoAez7bOBgqEm2",
      "include_colab_link": true
    },
    "kernelspec": {
      "name": "python3",
      "display_name": "Python 3"
    },
    "language_info": {
      "name": "python"
    }
  },
  "cells": [
    {
      "cell_type": "markdown",
      "metadata": {
        "id": "view-in-github",
        "colab_type": "text"
      },
      "source": [
        "<a href=\"https://colab.research.google.com/github/andercreep1001/Aprendendo_python_no_G_colab/blob/main/agenda_2.ipynb\" target=\"_parent\"><img src=\"https://colab.research.google.com/assets/colab-badge.svg\" alt=\"Open In Colab\"/></a>"
      ]
    },
    {
      "cell_type": "markdown",
      "metadata": {
        "id": "ZHIw4sMfDshL"
      },
      "source": [
        "# ***Agenda 2***"
      ]
    },
    {
      "cell_type": "code",
      "metadata": {
        "colab": {
          "base_uri": "https://localhost:8080/"
        },
        "id": "ycLyeBVsD1wq",
        "outputId": "eee6eeba-a573-4043-9874-c191076bf87c"
      },
      "source": [
        "AGENDA = {}\n",
        "\n",
        "AGENDA['Taís'] = {'fone':'99999999', 'endereco':'avenida 01', 'email':'tais@gmail.com'}\n",
        "AGENDA['Agnes'] = {'fone':'8888888', 'endereco':'avenida 02', 'email':'agnes@gmail.com'}\n",
        "\n",
        "#print(AGENDA['agnes'])\n",
        "\n",
        "\"\"\"\n",
        "def mostrar_contato():\n",
        "  for contato in AGENDA:\n",
        "    print('___________________________________________________________________')\n",
        "    print('Nome: ', contato)\n",
        "    print('Telefone: ', AGENDA[contato]['fone'])\n",
        "    print('Endereço: ', AGENDA[contato]['endereco'])\n",
        "    print('E-mail: ', AGENDA[contato]['email'])\n",
        "    print('___________________________________________________________________')\n",
        "\"\"\"\n",
        "\n",
        "def mostrar_contato():\n",
        "  for contato in AGENDA:\n",
        "    print(buscar_contato(contato))\n",
        "\n",
        "\n",
        "def buscar_contato(contato):\n",
        "  print('___________________________________________________________________')\n",
        "  print('Nome: ', contato)\n",
        "  print('Telefone: ', AGENDA[contato]['fone'])\n",
        "  print('Endereço: ', AGENDA[contato]['endereco'])\n",
        "  print('E-mail: ', AGENDA[contato]['email'])\n",
        "  print('___________________________________________________________________')\n",
        "\n",
        "\n",
        "def incluir_contato(contato, fone, endereco, email):\n",
        "  AGENDA[contato] = {'fone':fone, 'endereco':endereco, 'email':email}\n",
        "  print(f\"O contato {contato} foi inserido com sucesso.\")\n",
        "\n",
        "\n",
        "incluir_contato('Leticia', '7777777', 'avenida 03', 'leticia@gmail.com')\n",
        "mostrar_contato()\n",
        "#buscar_contato('Agnes')"
      ],
      "execution_count": 33,
      "outputs": [
        {
          "output_type": "stream",
          "text": [
            "O contato Leticia foi inserido com sucesso.\n",
            "___________________________________________________________________\n",
            "Nome:  Taís\n",
            "Telefone:  99999999\n",
            "Endereço:  avenida 01\n",
            "E-mail:  tais@gmail.com\n",
            "___________________________________________________________________\n",
            "None\n",
            "___________________________________________________________________\n",
            "Nome:  Agnes\n",
            "Telefone:  8888888\n",
            "Endereço:  avenida 02\n",
            "E-mail:  agnes@gmail.com\n",
            "___________________________________________________________________\n",
            "None\n",
            "___________________________________________________________________\n",
            "Nome:  Leticia\n",
            "Telefone:  7777777\n",
            "Endereço:  avenida 03\n",
            "E-mail:  leticia@gmail.com\n",
            "___________________________________________________________________\n",
            "None\n"
          ],
          "name": "stdout"
        }
      ]
    }
  ]
}