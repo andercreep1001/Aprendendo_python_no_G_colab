{
  "nbformat": 4,
  "nbformat_minor": 0,
  "metadata": {
    "colab": {
      "name": "agenda_2.ipynb",
      "provenance": [],
      "authorship_tag": "ABX9TyMBSAyC/R4yYTBMxFRgVEcl",
      "include_colab_link": true
    },
    "kernelspec": {
      "name": "python3",
      "display_name": "Python 3"
    },
    "language_info": {
      "name": "python"
    }
  },
  "cells": [
    {
      "cell_type": "markdown",
      "metadata": {
        "id": "view-in-github",
        "colab_type": "text"
      },
      "source": [
        "<a href=\"https://colab.research.google.com/github/andercreep1001/Aprendendo_python_no_G_colab/blob/main/agenda_2.ipynb\" target=\"_parent\"><img src=\"https://colab.research.google.com/assets/colab-badge.svg\" alt=\"Open In Colab\"/></a>"
      ]
    },
    {
      "cell_type": "markdown",
      "metadata": {
        "id": "ZHIw4sMfDshL"
      },
      "source": [
        "# ***Agenda 2***"
      ]
    },
    {
      "cell_type": "code",
      "metadata": {
        "colab": {
          "base_uri": "https://localhost:8080/"
        },
        "id": "ycLyeBVsD1wq",
        "outputId": "19dab2c8-a44a-4b1f-c31b-b7414d49cd55"
      },
      "source": [
        "AGENDA = {}\n",
        "\n",
        "AGENDA['Taís'] = {'fone':'99999999', 'endereco':'avenida 01', 'email':'tais@gmail.com'}\n",
        "AGENDA['Agnes'] = {'fone':'8888888', 'endereco':'avenida 02', 'email':'agnes@gmail.com'}\n",
        "\n",
        "#print(AGENDA['agnes'])\n",
        "\n",
        "\"\"\"\n",
        "def mostrar_contato():\n",
        "  for contato in AGENDA:\n",
        "    print('___________________________________________________________________')\n",
        "    print('Nome: ', contato)\n",
        "    print('Telefone: ', AGENDA[contato]['fone'])\n",
        "    print('Endereço: ', AGENDA[contato]['endereco'])\n",
        "    print('E-mail: ', AGENDA[contato]['email'])\n",
        "    print('___________________________________________________________________')\n",
        "\"\"\"\n",
        "\n",
        "def mostrar_contato():\n",
        "  for contato in AGENDA:\n",
        "    print(buscar_contato(contato))\n",
        "\n",
        "\n",
        "def buscar_contato(contato):\n",
        "  print('___________________________________________________________________')\n",
        "  print('Nome: ', contato)\n",
        "  print('Telefone: ', AGENDA[contato]['fone'])\n",
        "  print('Endereço: ', AGENDA[contato]['endereco'])\n",
        "  print('E-mail: ', AGENDA[contato]['email'])\n",
        "  print('___________________________________________________________________')\n",
        "\n",
        "\n",
        "def incluir_contato(contato, fone, endereco, email):\n",
        "  AGENDA[contato] = {'fone':fone, 'endereco':endereco, 'email':email}\n",
        "  print(f\"O contato {contato} foi inserido com sucesso.\")\n",
        "\n",
        "def editar_contato(contato, fone, endereco, email):\n",
        "  AGENDA[contato] = {\n",
        "      'fone':fone, 'endereco':endereco, 'email':email\n",
        "  }  \n",
        "  print(f\"O contato {contato} foi alterado com sucesso.\")\n",
        "\n",
        "\n",
        "def excluir_contato(contato):\n",
        "  AGENDA.pop(contato) #excluir o objeto do dicionarioa\n",
        "  print(f\"O contato {contato} foi excluido com sucesso.\")\n",
        "\n",
        "\n",
        "\n",
        "#incluir_contato('Leticia', '7777777', 'avenida 03', 'leticia@gmail.com')\n",
        "\n",
        "#incluir_contato('Paula', '6666666', 'avenida 04', 'paula@gmail.com')\n",
        "\n",
        "#editar_contato('Taís', '222222222', 'avenida 05', 'taisgata@gmail.com')\n",
        "\n",
        "excluir_contato(\"Agnes\")\n",
        "\n",
        "mostrar_contato()\n",
        "\n",
        "#buscar_contato('Agnes')"
      ],
      "execution_count": 9,
      "outputs": [
        {
          "output_type": "stream",
          "text": [
            "O contato Agnes foi excluido com sucesso.\n",
            "___________________________________________________________________\n",
            "Nome:  Taís\n",
            "Telefone:  99999999\n",
            "Endereço:  avenida 01\n",
            "E-mail:  tais@gmail.com\n",
            "___________________________________________________________________\n",
            "None\n"
          ],
          "name": "stdout"
        }
      ]
    }
  ]
}