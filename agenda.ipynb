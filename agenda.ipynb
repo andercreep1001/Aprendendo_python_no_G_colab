{
  "nbformat": 4,
  "nbformat_minor": 0,
  "metadata": {
    "colab": {
      "name": "agenda.ipynb",
      "provenance": [],
      "authorship_tag": "ABX9TyP78hJZ/1TUSgTUbetIbNDF",
      "include_colab_link": true
    },
    "kernelspec": {
      "name": "python3",
      "display_name": "Python 3"
    },
    "language_info": {
      "name": "python"
    }
  },
  "cells": [
    {
      "cell_type": "markdown",
      "metadata": {
        "id": "view-in-github",
        "colab_type": "text"
      },
      "source": [
        "<a href=\"https://colab.research.google.com/github/andercreep1001/Aprendendo_python_no_G_colab/blob/main/agenda.ipynb\" target=\"_parent\"><img src=\"https://colab.research.google.com/assets/colab-badge.svg\" alt=\"Open In Colab\"/></a>"
      ]
    },
    {
      "cell_type": "markdown",
      "source": [
        "Agenda"
      ],
      "metadata": {
        "id": "y7DxJHcUeNY9"
      }
    },
    {
      "cell_type": "code",
      "source": [
        "AGENDA = {\n",
        "    'Agnes':'99999',\n",
        "    'Glauci':'99999',\n",
        "    'Mercur':'99999',\n",
        "    'Page':'99999',\n",
        "}\n",
        "\n",
        "print(AGENDA)"
      ],
      "metadata": {
        "colab": {
          "base_uri": "https://localhost:8080/"
        },
        "id": "jkLsdeioeQdE",
        "outputId": "b170c3ac-64a9-4fb6-baf7-f7d0ee8ea209"
      },
      "execution_count": null,
      "outputs": [
        {
          "output_type": "stream",
          "name": "stdout",
          "text": [
            "{'Agnes': '99999', 'Glauci': '99999', 'Mercur': '99999', 'Page': '99999'}\n"
          ]
        }
      ]
    },
    {
      "cell_type": "markdown",
      "source": [
        "Agenda 2"
      ],
      "metadata": {
        "id": "O2YKZuhie6Sk"
      }
    },
    {
      "cell_type": "code",
      "source": [
        "AGENDA = {\n",
        "    'Agnes':{\n",
        "        'fone':'999999999',\n",
        "        'email':'agnes@gmail.com',\n",
        "        'endereco':'rua d '\n",
        "    },\n",
        "    'Glauci':{\n",
        "        'fone':'8888888888',\n",
        "        'email':'glauci@gmail.com',\n",
        "        'endereco':'rua ggg '\n",
        "    },\n",
        "    'Mercur':{\n",
        "        'fone':'7777777777',\n",
        "        'email':'mercur@gmail.com',\n",
        "        'endereco':'rua fffffffff '\n",
        "    }   \n",
        "}\n",
        "\n",
        "for contato in AGENDA.values():\n",
        "    print(contato)\n",
        "\n",
        "print(AGENDA['Glauci']['fone'])\n",
        "print(AGENDA['Glauci']['endereco'])\n",
        "print(AGENDA['Mercur']['endereco'])\n",
        "\n",
        "AGENDA['Mercur']['endereco'] = 'rua kkkk'\n",
        "print(AGENDA['Mercur']['endereco'])\n",
        "\n",
        "AGENDA['Page'] = {\n",
        "    'fone':'66666666',\n",
        "    'email':'page@gmail.com',\n",
        "    'endereco':'rua ppppppp'\n",
        "}\n",
        "\n",
        "for contato in AGENDA.values():\n",
        "    print(contato['email'])"
      ],
      "metadata": {
        "colab": {
          "base_uri": "https://localhost:8080/"
        },
        "id": "9w5XlK0Oe9G7",
        "outputId": "608284f5-284e-4545-e6f7-db1355a006c9"
      },
      "execution_count": null,
      "outputs": [
        {
          "output_type": "stream",
          "name": "stdout",
          "text": [
            "{'fone': '999999999', 'email': 'agnes@gmail.com', 'endereco': 'rua d '}\n",
            "{'fone': '8888888888', 'email': 'glauci@gmail.com', 'endereco': 'rua ggg '}\n",
            "{'fone': '7777777777', 'email': 'mercur@gmail.com', 'endereco': 'rua fffffffff '}\n",
            "8888888888\n",
            "rua ggg \n",
            "rua fffffffff \n",
            "rua kkkk\n",
            "agnes@gmail.com\n",
            "glauci@gmail.com\n",
            "mercur@gmail.com\n",
            "page@gmail.com\n"
          ]
        }
      ]
    },
    {
      "cell_type": "markdown",
      "source": [
        "Agenda"
      ],
      "metadata": {
        "id": "LdzU--kPqhKy"
      }
    },
    {
      "cell_type": "code",
      "source": [
        "from types import MethodDescriptorType\n",
        "AGENDA = {}\n",
        "\n",
        "AGENDA['Agnes'] = {\n",
        "    'fone':'999999999',\n",
        "    'email':'agnes@gmail.com',\n",
        "    'endereco':'rua d '\n",
        "}\n",
        "    \n",
        "AGENDA['Glauci'] = {\n",
        "    'fone':'8888888888',\n",
        "    'email':'glauci@gmail.com',\n",
        "    'endereco':'rua ggg '\n",
        "}\n",
        "\n",
        "AGENDA['Mercur'] = {\n",
        "    'fone':'7777777777',\n",
        "    'email':'mercur@gmail.com',\n",
        "    'endereco':'rua fffffffff '\n",
        "}   \n",
        "\n",
        "'''\n",
        "def mostrar_contato():\n",
        "    #print(AGENDA)\n",
        "    for contato in AGENDA:\n",
        "        print('Nome:',contato)\n",
        "        print('Fone:', AGENDA[contato]['fone'])\n",
        "        print('Email:', AGENDA[contato]['email'])\n",
        "        print('Endereço:', AGENDA[contato]['endereco'])\n",
        "        print('------------------------------------------')\n",
        "'''\n",
        "\n",
        "def mostrar_contato():\n",
        "    for contato in AGENDA:\n",
        "        buscar_contato(contato)\n",
        "        print('------------------------------------------')\n",
        "\n",
        "\n",
        "def buscar_contato(contato):\n",
        "    print(contato)\n",
        "    print('fone:', AGENDA[contato]['fone'])\n",
        "    print('email:', AGENDA[contato]['email'])\n",
        "    print('endereço: ', AGENDA[contato]['endereco'])        \n",
        "\n",
        "\n",
        "def inserir_contato(contato, fone, email, endereco):\n",
        "    AGENDA[contato] = {\n",
        "        'fone':fone,\n",
        "        'email':email,\n",
        "        'endereco':endereco\n",
        "    }\n",
        "    print('contato adiciona com sucesso')    \n",
        "\n",
        "\n",
        "def imprimir_menu():\n",
        "    print('1 - mostrar todos os contatos')\n",
        "    print('2 - Buscar contato')\n",
        "    print('3 - inserir contato')\n",
        "    print('4 - editar contato')\n",
        "    print('5 - excluir contato')\n",
        "    print('0 - Sair')   \n",
        "    print('\\n')\n",
        "    print('+++++++++++++++')\n",
        "\n",
        "#print('\\n')    \n",
        "\n",
        "imprimir_menu()\n",
        "\n",
        "opcao = input('escolha uma opçao: ')\n",
        "if(opcao == '1'):\n",
        "    mostrar_contato()\n",
        "\n",
        "if(opcao == '2'):\n",
        "    contato = input('Digite um contato: ')\n",
        "    buscar_contato(contato)\n",
        "\n",
        "if opcao == '3':\n",
        "    conato = input('Digite o nome do contato: ')\n",
        "    email = input('Digite o email do contato: ')\n",
        "    fone = input('Digite o fone do contato: ')\n",
        "    endereco = input('Digite o endereco do contato: ')\n",
        "    inserir_contato(contato, fone, email, endereco)    \n",
        "\n",
        "\n",
        "    \n",
        "\n",
        "\n",
        "\n",
        "mostrar_contato()\n",
        "#inserir_contato('page', 55555555, 'page@gmail.com', 'rua 10')\n",
        "\n",
        "#mostrar_contato()\n",
        "#buscar_contato('Glauci')"
      ],
      "metadata": {
        "colab": {
          "base_uri": "https://localhost:8080/"
        },
        "id": "__VLN5dRqkt5",
        "outputId": "7238d1fc-a6e3-4f8a-a93c-95b0c368100d"
      },
      "execution_count": 21,
      "outputs": [
        {
          "output_type": "stream",
          "name": "stdout",
          "text": [
            "1 - mostrar todos os contatos\n",
            "2 - Buscar contato\n",
            "3 - inserir contato\n",
            "4 - editar contato\n",
            "5 - excluir contato\n",
            "0 - Sair\n",
            "\n",
            "\n",
            "+++++++++++++++\n",
            "escolha uma opçao: 3\n",
            "Digite o nome do contato: page\n",
            "Digite o email do contato: eeeeeeee\n",
            "Digite o fone do contato: 1111111111\n",
            "Digite o endereco do contato: 2222\n",
            "contato adiciona com sucesso\n",
            "Agnes\n",
            "fone: 999999999\n",
            "email: agnes@gmail.com\n",
            "endereço:  rua d \n",
            "------------------------------------------\n",
            "Glauci\n",
            "fone: 1111111111\n",
            "email: eeeeeeee\n",
            "endereço:  2222\n",
            "------------------------------------------\n",
            "Mercur\n",
            "fone: 7777777777\n",
            "email: mercur@gmail.com\n",
            "endereço:  rua fffffffff \n",
            "------------------------------------------\n"
          ]
        }
      ]
    }
  ]
}