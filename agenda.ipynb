{
  "nbformat": 4,
  "nbformat_minor": 0,
  "metadata": {
    "colab": {
      "name": "agenda.ipynb",
      "provenance": [],
      "authorship_tag": "ABX9TyO4DYlX8rU7IKCm/6I2Cb97",
      "include_colab_link": true
    },
    "kernelspec": {
      "name": "python3",
      "display_name": "Python 3"
    },
    "language_info": {
      "name": "python"
    }
  },
  "cells": [
    {
      "cell_type": "markdown",
      "metadata": {
        "id": "view-in-github",
        "colab_type": "text"
      },
      "source": [
        "<a href=\"https://colab.research.google.com/github/andercreep1001/Aprendendo_python_no_G_colab/blob/main/agenda.ipynb\" target=\"_parent\"><img src=\"https://colab.research.google.com/assets/colab-badge.svg\" alt=\"Open In Colab\"/></a>"
      ]
    },
    {
      "cell_type": "markdown",
      "source": [
        "Agenda"
      ],
      "metadata": {
        "id": "y7DxJHcUeNY9"
      }
    },
    {
      "cell_type": "code",
      "source": [
        "AGENDA = {\n",
        "    'Agnes':'99999',\n",
        "    'Glauci':'99999',\n",
        "    'Mercur':'99999',\n",
        "    'Page':'99999',\n",
        "}\n",
        "\n",
        "print(AGENDA)"
      ],
      "metadata": {
        "colab": {
          "base_uri": "https://localhost:8080/"
        },
        "id": "jkLsdeioeQdE",
        "outputId": "b170c3ac-64a9-4fb6-baf7-f7d0ee8ea209"
      },
      "execution_count": null,
      "outputs": [
        {
          "output_type": "stream",
          "name": "stdout",
          "text": [
            "{'Agnes': '99999', 'Glauci': '99999', 'Mercur': '99999', 'Page': '99999'}\n"
          ]
        }
      ]
    },
    {
      "cell_type": "markdown",
      "source": [
        "Agenda 2"
      ],
      "metadata": {
        "id": "O2YKZuhie6Sk"
      }
    },
    {
      "cell_type": "code",
      "source": [
        "AGENDA = {\n",
        "    'Agnes':{\n",
        "        'fone':'999999999',\n",
        "        'email':'agnes@gmail.com',\n",
        "        'endereco':'rua d '\n",
        "    },\n",
        "    'Glauci':{\n",
        "        'fone':'8888888888',\n",
        "        'email':'glauci@gmail.com',\n",
        "        'endereco':'rua ggg '\n",
        "    },\n",
        "    'Mercur':{\n",
        "        'fone':'7777777777',\n",
        "        'email':'mercur@gmail.com',\n",
        "        'endereco':'rua fffffffff '\n",
        "    }   \n",
        "}\n",
        "\n",
        "for contato in AGENDA.values():\n",
        "    print(contato)\n",
        "\n",
        "print(AGENDA['Glauci']['fone'])\n",
        "print(AGENDA['Glauci']['endereco'])\n",
        "print(AGENDA['Mercur']['endereco'])\n",
        "\n",
        "AGENDA['Mercur']['endereco'] = 'rua kkkk'\n",
        "print(AGENDA['Mercur']['endereco'])\n",
        "\n",
        "AGENDA['Page'] = {\n",
        "    'fone':'66666666',\n",
        "    'email':'page@gmail.com',\n",
        "    'endereco':'rua ppppppp'\n",
        "}\n",
        "\n",
        "for contato in AGENDA.values():\n",
        "    print(contato['email'])"
      ],
      "metadata": {
        "colab": {
          "base_uri": "https://localhost:8080/"
        },
        "id": "9w5XlK0Oe9G7",
        "outputId": "608284f5-284e-4545-e6f7-db1355a006c9"
      },
      "execution_count": null,
      "outputs": [
        {
          "output_type": "stream",
          "name": "stdout",
          "text": [
            "{'fone': '999999999', 'email': 'agnes@gmail.com', 'endereco': 'rua d '}\n",
            "{'fone': '8888888888', 'email': 'glauci@gmail.com', 'endereco': 'rua ggg '}\n",
            "{'fone': '7777777777', 'email': 'mercur@gmail.com', 'endereco': 'rua fffffffff '}\n",
            "8888888888\n",
            "rua ggg \n",
            "rua fffffffff \n",
            "rua kkkk\n",
            "agnes@gmail.com\n",
            "glauci@gmail.com\n",
            "mercur@gmail.com\n",
            "page@gmail.com\n"
          ]
        }
      ]
    },
    {
      "cell_type": "markdown",
      "source": [
        "Agenda"
      ],
      "metadata": {
        "id": "LdzU--kPqhKy"
      }
    },
    {
      "cell_type": "code",
      "source": [
        "from types import MethodDescriptorType\n",
        "AGENDA = {}\n",
        "\n",
        "AGENDA['Agnes'] = {\n",
        "    'fone':'999999999',\n",
        "    'email':'agnes@gmail.com',\n",
        "    'endereco':'rua d '\n",
        "}\n",
        "    \n",
        "AGENDA['Glauci'] = {\n",
        "    'fone':'8888888888',\n",
        "    'email':'glauci@gmail.com',\n",
        "    'endereco':'rua ggg '\n",
        "}\n",
        "\n",
        "AGENDA['Mercur'] = {\n",
        "    'fone':'7777777777',\n",
        "    'email':'mercur@gmail.com',\n",
        "    'endereco':'rua fffffffff '\n",
        "}   \n",
        "\n",
        "\n",
        "def mostrar_contato():\n",
        "    #print(AGENDA)\n",
        "    for contato in AGENDA:\n",
        "        print(contato)\n",
        "        print(AGENDA[contato]['fone'])\n",
        "        print(AGENDA[contato]['email'])\n",
        "        print(AGENDA[contato]['endereco'])\n",
        "        print('------------------------------------------')\n",
        "\n",
        "mostrar_contato()    "
      ],
      "metadata": {
        "colab": {
          "base_uri": "https://localhost:8080/"
        },
        "id": "__VLN5dRqkt5",
        "outputId": "0258a0b9-14ba-406e-a7b9-05df6c5e03b7"
      },
      "execution_count": 8,
      "outputs": [
        {
          "output_type": "stream",
          "name": "stdout",
          "text": [
            "Agnes\n",
            "999999999\n",
            "agnes@gmail.com\n",
            "rua d \n",
            "------------------------------------------\n",
            "Glauci\n",
            "8888888888\n",
            "glauci@gmail.com\n",
            "rua ggg \n",
            "------------------------------------------\n",
            "Mercur\n",
            "7777777777\n",
            "mercur@gmail.com\n",
            "rua fffffffff \n",
            "------------------------------------------\n"
          ]
        }
      ]
    }
  ]
}