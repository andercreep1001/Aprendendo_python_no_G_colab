{
  "nbformat": 4,
  "nbformat_minor": 0,
  "metadata": {
    "colab": {
      "name": "OO_4.ipynb",
      "provenance": [],
      "authorship_tag": "ABX9TyO/AYFkVq+JRMnlDbmlqGDd",
      "include_colab_link": true
    },
    "kernelspec": {
      "name": "python3",
      "display_name": "Python 3"
    },
    "language_info": {
      "name": "python"
    }
  },
  "cells": [
    {
      "cell_type": "markdown",
      "metadata": {
        "id": "view-in-github",
        "colab_type": "text"
      },
      "source": [
        "<a href=\"https://colab.research.google.com/github/andercreep1001/Aprendendo_python_no_G_colab/blob/main/OO_4.ipynb\" target=\"_parent\"><img src=\"https://colab.research.google.com/assets/colab-badge.svg\" alt=\"Open In Colab\"/></a>"
      ]
    },
    {
      "cell_type": "markdown",
      "metadata": {
        "id": "8LTNsyExz4Pp"
      },
      "source": [
        "# **Orientação a objetos - Carro**"
      ]
    },
    {
      "cell_type": "code",
      "metadata": {
        "colab": {
          "base_uri": "https://localhost:8080/"
        },
        "id": "Z19EyaY_z8Lf",
        "outputId": "c799965e-6ec9-4ddb-bd3f-389b6dcde03a"
      },
      "source": [
        "class Car:\n",
        "  def __init__(self, marca, modelo, ano):\n",
        "    self.marca = marca\n",
        "    self.modelo = modelo\n",
        "    self.ano = ano\n",
        "    self.odometro = 0\n",
        "\n",
        "  def nome_descricao(self):\n",
        "    nome_completo = f\"{self.marca} {self.modelo} {self.ano}\"\n",
        "    return nome_completo.title()\n",
        "\n",
        "  def ler_odometro(self):\n",
        "    print(f\"Este carro tem {self.odometro} km rodados\")\n",
        "\n",
        "  def atualizar_odometro(self, km):\n",
        "    if km >= self.odometro:\n",
        "      self.odometro = km\n",
        "    else:\n",
        "      print(\"Você não pode alterar o odometro!\")      \n",
        "\n",
        "  def incrementando_odometro(self, km):\n",
        "    self.odometro += km\n",
        "#--Fim da classe Carro\n",
        "print('__________________________________________________________________')\n",
        "\n",
        "\n",
        "class CarroEletrico(Car):\n",
        "  def __init__(self, marca, modelo, ano):\n",
        "    super().__init__(marca, modelo, ano)\n",
        "\n",
        "\n",
        "\n",
        "novo_carro = Car(\"VW\", \"Polo\", \"2020\")\n",
        "#novo_carro.odometro = 25\n",
        "print(novo_carro.nome_descricao())\n",
        "novo_carro.atualizar_odometro(-1)  \n",
        "novo_carro.ler_odometro()    \n",
        "\n",
        "print(\"----------------------------------------------------------------------\")\n",
        "\n",
        "\n",
        "outro_carro = Car('Chevrolet', 'Onix', 2021)\n",
        "print(outro_carro.nome_descricao())\n",
        "outro_carro.atualizar_odometro(1000)\n",
        "outro_carro.incrementando_odometro(100)\n",
        "outro_carro.ler_odometro()\n",
        "\n",
        "print('-----------------------------------------------------------------------')\n",
        "\n",
        "carro_eletrico = CarroEletrico('Tesla', 'eletric', 2020)\n",
        "print(carro_eletrico.nome_descricao())\n",
        "carro_eletrico.incrementando_odometro(153)\n",
        "carro_eletrico.ler_odometro()"
      ],
      "execution_count": 23,
      "outputs": [
        {
          "output_type": "stream",
          "text": [
            "__________________________________________________________________\n",
            "Vw Polo 2020\n",
            "Você não pode alterar o odometro!\n",
            "Este carro tem 0 km rodados\n",
            "----------------------------------------------------------------------\n",
            "Chevrolet Onix 2021\n",
            "Este carro tem 1100 km rodados\n",
            "-----------------------------------------------------------------------\n",
            "Tesla Eletric 2020\n",
            "Este carro tem 153 km rodados\n"
          ],
          "name": "stdout"
        }
      ]
    }
  ]
}