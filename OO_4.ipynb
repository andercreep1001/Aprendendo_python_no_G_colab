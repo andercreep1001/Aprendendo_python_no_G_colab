{
  "nbformat": 4,
  "nbformat_minor": 0,
  "metadata": {
    "colab": {
      "name": "OO_4.ipynb",
      "provenance": [],
      "authorship_tag": "ABX9TyO6cOS1QweaDe6zuKojoPNx",
      "include_colab_link": true
    },
    "kernelspec": {
      "name": "python3",
      "display_name": "Python 3"
    },
    "language_info": {
      "name": "python"
    }
  },
  "cells": [
    {
      "cell_type": "markdown",
      "metadata": {
        "id": "view-in-github",
        "colab_type": "text"
      },
      "source": [
        "<a href=\"https://colab.research.google.com/github/andercreep1001/Aprendendo_python_no_G_colab/blob/main/OO_4.ipynb\" target=\"_parent\"><img src=\"https://colab.research.google.com/assets/colab-badge.svg\" alt=\"Open In Colab\"/></a>"
      ]
    },
    {
      "cell_type": "markdown",
      "metadata": {
        "id": "8LTNsyExz4Pp"
      },
      "source": [
        "# **Orientação a objetos - Carro**"
      ]
    },
    {
      "cell_type": "code",
      "metadata": {
        "colab": {
          "base_uri": "https://localhost:8080/"
        },
        "id": "Z19EyaY_z8Lf",
        "outputId": "68aa025a-4ac9-442a-f95a-e7ac52a89a4d"
      },
      "source": [
        "class Car:\n",
        "  def __init__(self, marca, modelo, ano):\n",
        "    self.marca = marca\n",
        "    self.modelo = modelo\n",
        "    self.ano = ano\n",
        "    self.odometro = 0\n",
        "\n",
        "  def nome_descricao(self):\n",
        "    nome_completo = f\"{self.marca} {self.modelo} {self.ano}\"\n",
        "    return nome_completo.title()\n",
        "\n",
        "  def ler_odometro(self):\n",
        "    print(f\"Este carro tem {self.odometro} km rodados\")\n",
        "\n",
        "  def atualizar_odometro(self, km):\n",
        "    self.odometro = km    \n",
        "\n",
        "\n",
        "novo_carro = Car(\"VW\", \"Polo\", \"2020\")\n",
        "#novo_carro.odometro = 25\n",
        "print(novo_carro.nome_descricao())\n",
        "novo_carro.atualizar_odometro(35)  \n",
        "novo_carro.ler_odometro()    "
      ],
      "execution_count": 11,
      "outputs": [
        {
          "output_type": "stream",
          "text": [
            "Vw Polo 2020\n",
            "Este carro tem 35 km rodados\n"
          ],
          "name": "stdout"
        }
      ]
    }
  ]
}