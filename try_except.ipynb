{
  "nbformat": 4,
  "nbformat_minor": 0,
  "metadata": {
    "colab": {
      "name": "try except.ipynb",
      "provenance": [],
      "authorship_tag": "ABX9TyOUYzRsYHS1CVNTvphuA4vo",
      "include_colab_link": true
    },
    "kernelspec": {
      "name": "python3",
      "display_name": "Python 3"
    },
    "language_info": {
      "name": "python"
    }
  },
  "cells": [
    {
      "cell_type": "markdown",
      "metadata": {
        "id": "view-in-github",
        "colab_type": "text"
      },
      "source": [
        "<a href=\"https://colab.research.google.com/github/andercreep1001/Aprendendo_python_no_G_colab/blob/main/try_except.ipynb\" target=\"_parent\"><img src=\"https://colab.research.google.com/assets/colab-badge.svg\" alt=\"Open In Colab\"/></a>"
      ]
    },
    {
      "cell_type": "markdown",
      "source": [
        "Tratando com try except"
      ],
      "metadata": {
        "id": "vDu3sBbPF2o1"
      }
    },
    {
      "cell_type": "code",
      "execution_count": 13,
      "metadata": {
        "colab": {
          "base_uri": "https://localhost:8080/"
        },
        "id": "7bghHEPfFzeQ",
        "outputId": "a96f2446-7ea3-44c2-e7ad-887ffa02df00"
      },
      "outputs": [
        {
          "output_type": "stream",
          "name": "stdout",
          "text": [
            "Digite um numero: 2\n",
            "Digite outro numero: 2\n",
            "1.0\n",
            "Fim de jogo!!! :(\n"
          ]
        }
      ],
      "source": [
        "def divisao(a,b):\n",
        "    try:\n",
        "        print(a/b)\n",
        "    except:\n",
        "        print('não pode dividir por zero')\n",
        "\n",
        "def divisao_0(c,v):\n",
        "    try:\n",
        "        print(c/v)\n",
        "    except Exception as e:\n",
        "        print('não pode dividir por zero')\n",
        "        print(e)            \n",
        "\n",
        "\n",
        "try:\n",
        "    a = int(input('Digite um numero: '))\n",
        "    b = int(input('Digite outro numero: '))\n",
        "    print(a/b)\n",
        "except ValueError as error:\n",
        "    print('numero invalido, digite apenas numeros: ')\n",
        "except ZeroDivisionError as error:\n",
        "    print('naõ pode dividir por zero')\n",
        "except Exception as error:\n",
        "    print('algum erro ocorreu!')\n",
        "    print('-----------------')\n",
        "    print(error)\n",
        "    print('-----------------')\n",
        "finally:\n",
        "    print('Fim de jogo!!! :(')    \n",
        "\n",
        "\n",
        "#divisao(1,0)\n",
        "#divisao_0(1,0)\n"
      ]
    }
  ]
}