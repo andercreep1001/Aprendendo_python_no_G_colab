{
  "nbformat": 4,
  "nbformat_minor": 0,
  "metadata": {
    "colab": {
      "name": "Untitled12.ipynb",
      "provenance": [],
      "authorship_tag": "ABX9TyOCUiMRvHxkmLHD6/4WK6G2",
      "include_colab_link": true
    },
    "kernelspec": {
      "name": "python3",
      "display_name": "Python 3"
    },
    "language_info": {
      "name": "python"
    }
  },
  "cells": [
    {
      "cell_type": "markdown",
      "metadata": {
        "id": "view-in-github",
        "colab_type": "text"
      },
      "source": [
        "<a href=\"https://colab.research.google.com/github/andercreep1001/Aprendendo_python_no_G_colab/blob/main/Untitled12.ipynb\" target=\"_parent\"><img src=\"https://colab.research.google.com/assets/colab-badge.svg\" alt=\"Open In Colab\"/></a>"
      ]
    },
    {
      "cell_type": "code",
      "execution_count": 8,
      "metadata": {
        "colab": {
          "base_uri": "https://localhost:8080/"
        },
        "id": "DtY_7KzUF9Mk",
        "outputId": "55510b95-8686-4d4d-e56f-3f381c535d3b"
      },
      "outputs": [
        {
          "output_type": "stream",
          "name": "stdout",
          "text": [
            "anderson desterro\n",
            "Agnes Anderson juntos\n",
            "10\n",
            "1.5\n"
          ]
        },
        {
          "output_type": "execute_result",
          "data": {
            "text/plain": [
              "2.0"
            ]
          },
          "metadata": {},
          "execution_count": 8
        }
      ],
      "source": [
        "nome = \"anderson\"\n",
        "sobrenome = \"desterro\"\n",
        "\n",
        "print(nome, sobrenome)\n",
        "print(\"Agnes\", \"Anderson\", 'juntos')\n",
        "type(nome)\n",
        "\n",
        "num = 10\n",
        "\n",
        "print(num)\n",
        "type(num)\n",
        "flo = 1.5\n",
        "print(flo)\n",
        "10/5\n"
      ]
    },
    {
      "cell_type": "markdown",
      "source": [
        "LISTAS"
      ],
      "metadata": {
        "id": "SZj0UVJXXW6d"
      }
    },
    {
      "cell_type": "code",
      "source": [
        "lista = ['Agnes', 'Glauci', 'Mercur', 'page']\n",
        "print(lista)\n",
        "\n",
        "for palavra in lista:\n",
        "    print(palavra)\n",
        "\n",
        "lista.append('loja jogos')\n",
        "print(lista)\n",
        "\n",
        "lista.remove(\"loja jogos\")\n",
        "print(lista)\n",
        "#lista[0]\n",
        "print(lista[-1])\n",
        "\n",
        "\n",
        "nome = 'Agnes'\n",
        "print(nome[0])"
      ],
      "metadata": {
        "colab": {
          "base_uri": "https://localhost:8080/"
        },
        "id": "17sU_cCcXTaP",
        "outputId": "3d543678-674c-4c08-d2b3-884321c8d31f"
      },
      "execution_count": 26,
      "outputs": [
        {
          "output_type": "stream",
          "name": "stdout",
          "text": [
            "['Agnes', 'Glauci', 'Mercur', 'page']\n",
            "Agnes\n",
            "Glauci\n",
            "Mercur\n",
            "page\n",
            "['Agnes', 'Glauci', 'Mercur', 'page', 'loja jogos']\n",
            "['Agnes', 'Glauci', 'Mercur', 'page']\n",
            "page\n",
            "A\n"
          ]
        }
      ]
    }
  ]
}