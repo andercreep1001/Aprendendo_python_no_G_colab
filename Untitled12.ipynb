{
  "nbformat": 4,
  "nbformat_minor": 0,
  "metadata": {
    "colab": {
      "name": "Untitled12.ipynb",
      "provenance": [],
      "authorship_tag": "ABX9TyMBMqQ1zjqhT0CyDyKHj3hh",
      "include_colab_link": true
    },
    "kernelspec": {
      "name": "python3",
      "display_name": "Python 3"
    },
    "language_info": {
      "name": "python"
    }
  },
  "cells": [
    {
      "cell_type": "markdown",
      "metadata": {
        "id": "view-in-github",
        "colab_type": "text"
      },
      "source": [
        "<a href=\"https://colab.research.google.com/github/andercreep1001/Aprendendo_python_no_G_colab/blob/main/Untitled12.ipynb\" target=\"_parent\"><img src=\"https://colab.research.google.com/assets/colab-badge.svg\" alt=\"Open In Colab\"/></a>"
      ]
    },
    {
      "cell_type": "code",
      "execution_count": null,
      "metadata": {
        "colab": {
          "base_uri": "https://localhost:8080/"
        },
        "id": "DtY_7KzUF9Mk",
        "outputId": "55510b95-8686-4d4d-e56f-3f381c535d3b"
      },
      "outputs": [
        {
          "output_type": "stream",
          "name": "stdout",
          "text": [
            "anderson desterro\n",
            "Agnes Anderson juntos\n",
            "10\n",
            "1.5\n"
          ]
        },
        {
          "output_type": "execute_result",
          "data": {
            "text/plain": [
              "2.0"
            ]
          },
          "metadata": {},
          "execution_count": 8
        }
      ],
      "source": [
        "nome = \"anderson\"\n",
        "sobrenome = \"desterro\"\n",
        "\n",
        "print(nome, sobrenome)\n",
        "print(\"Agnes\", \"Anderson\", 'juntos')\n",
        "type(nome)\n",
        "\n",
        "num = 10\n",
        "\n",
        "print(num)\n",
        "type(num)\n",
        "flo = 1.5\n",
        "print(flo)\n",
        "10/5\n"
      ]
    },
    {
      "cell_type": "markdown",
      "source": [
        "LISTAS"
      ],
      "metadata": {
        "id": "SZj0UVJXXW6d"
      }
    },
    {
      "cell_type": "code",
      "source": [
        "lista = ['Agnes', 'Glauci', 'Mercur', 'page']\n",
        "print(lista)\n",
        "\n",
        "for palavra in lista:\n",
        "    print(palavra)\n",
        "\n",
        "lista.append('loja jogos')\n",
        "print(lista)\n",
        "\n",
        "lista.remove(\"loja jogos\")\n",
        "print(lista)\n",
        "#lista[0]\n",
        "print(lista[-1])\n",
        "\n",
        "\n",
        "nome = 'Agnes'\n",
        "print(nome[0])"
      ],
      "metadata": {
        "colab": {
          "base_uri": "https://localhost:8080/"
        },
        "id": "17sU_cCcXTaP",
        "outputId": "3d543678-674c-4c08-d2b3-884321c8d31f"
      },
      "execution_count": null,
      "outputs": [
        {
          "output_type": "stream",
          "name": "stdout",
          "text": [
            "['Agnes', 'Glauci', 'Mercur', 'page']\n",
            "Agnes\n",
            "Glauci\n",
            "Mercur\n",
            "page\n",
            "['Agnes', 'Glauci', 'Mercur', 'page', 'loja jogos']\n",
            "['Agnes', 'Glauci', 'Mercur', 'page']\n",
            "page\n",
            "A\n"
          ]
        }
      ]
    },
    {
      "cell_type": "markdown",
      "source": [
        "tuplas"
      ],
      "metadata": {
        "id": "jkK5khRMJBAT"
      }
    },
    {
      "cell_type": "code",
      "source": [
        "cores = ('br', 'az', 'rs', 'vm')\n",
        "print(cores)\n",
        "\n",
        "for c in cores:\n",
        "    print(c)"
      ],
      "metadata": {
        "id": "eL6LwHt5JESi",
        "colab": {
          "base_uri": "https://localhost:8080/"
        },
        "outputId": "68da4179-688d-4da9-ef1f-fd3ae8facf0e"
      },
      "execution_count": 2,
      "outputs": [
        {
          "output_type": "stream",
          "name": "stdout",
          "text": [
            "('br', 'az', 'rs', 'vm')\n",
            "br\n",
            "az\n",
            "rs\n",
            "vm\n"
          ]
        }
      ]
    },
    {
      "cell_type": "markdown",
      "source": [
        "Dicionario"
      ],
      "metadata": {
        "id": "UD1Pn4zRQ7qn"
      }
    },
    {
      "cell_type": "code",
      "source": [
        "diconario = {'Agnes':'Morena gata', 'Glauci':'chama minha atenção', 'Mercur':'baixinha comivel'}\n",
        "print(diconario)\n",
        "print(diconario['Agnes'])\n",
        "\n",
        "idades = {\"Agnes\":20, 'Glauci':30, 'Marcur':25}\n",
        "print(idades)\n",
        "print(idades['Agnes'])\n",
        "print(idades['Glauci'])\n",
        "\n",
        "\n",
        "for idade in idades.values():    \n",
        "    print(idade)\n",
        "    print('---------')\n",
        "    \n",
        "for idd in idades:\n",
        "    print(idades[idd])\n"
      ],
      "metadata": {
        "colab": {
          "base_uri": "https://localhost:8080/"
        },
        "id": "I87mxy3jQ66n",
        "outputId": "dd1d30e4-08e2-4c1e-87e3-26c669c73053"
      },
      "execution_count": 14,
      "outputs": [
        {
          "output_type": "stream",
          "name": "stdout",
          "text": [
            "{'Agnes': 'Morena gata', 'Glauci': 'chama minha atenção', 'Mercur': 'baixinha comivel'}\n",
            "Morena gata\n",
            "{'Agnes': 20, 'Glauci': 30, 'Marcur': 25}\n",
            "20\n",
            "30\n",
            "20\n",
            "---------\n",
            "30\n",
            "---------\n",
            "25\n",
            "---------\n",
            "20\n",
            "30\n",
            "25\n"
          ]
        }
      ]
    },
    {
      "cell_type": "markdown",
      "source": [
        "SET -> conjuntos"
      ],
      "metadata": {
        "id": "C5SUs6p7d_xA"
      }
    },
    {
      "cell_type": "code",
      "source": [
        "conjutos = {'vm', 'az', 'br', 'pt'}\n",
        "print(conjutos)\n",
        "\n",
        "for conj in conjutos:\n",
        "    print(conj)\n",
        "\n",
        "conjutos.add('mr')\n",
        "print(conjutos)\n",
        "\n",
        "conjutos.remove('vm')\n",
        "print(conjutos)"
      ],
      "metadata": {
        "colab": {
          "base_uri": "https://localhost:8080/"
        },
        "id": "1eydISZseD44",
        "outputId": "3915b444-09d2-457c-eca9-04104656d529"
      },
      "execution_count": 23,
      "outputs": [
        {
          "output_type": "stream",
          "name": "stdout",
          "text": [
            "{'br', 'az', 'vm', 'pt'}\n",
            "br\n",
            "az\n",
            "vm\n",
            "pt\n",
            "{'pt', 'mr', 'vm', 'br', 'az'}\n",
            "{'pt', 'mr', 'br', 'az'}\n"
          ]
        }
      ]
    }
  ]
}