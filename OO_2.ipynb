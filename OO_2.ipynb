{
  "nbformat": 4,
  "nbformat_minor": 0,
  "metadata": {
    "colab": {
      "name": "OO_2.ipynb",
      "provenance": [],
      "authorship_tag": "ABX9TyNJIUf1k2lYvnqQrL9FI8YT",
      "include_colab_link": true
    },
    "kernelspec": {
      "name": "python3",
      "display_name": "Python 3"
    },
    "language_info": {
      "name": "python"
    }
  },
  "cells": [
    {
      "cell_type": "markdown",
      "metadata": {
        "id": "view-in-github",
        "colab_type": "text"
      },
      "source": [
        "<a href=\"https://colab.research.google.com/github/andercreep1001/Aprendendo_python_no_G_colab/blob/main/OO_2.ipynb\" target=\"_parent\"><img src=\"https://colab.research.google.com/assets/colab-badge.svg\" alt=\"Open In Colab\"/></a>"
      ]
    },
    {
      "cell_type": "markdown",
      "metadata": {
        "id": "DiEPbhZEpwCt"
      },
      "source": [
        "# **Orientação a objetos - Restaurante**\n"
      ]
    },
    {
      "cell_type": "code",
      "metadata": {
        "colab": {
          "base_uri": "https://localhost:8080/"
        },
        "id": "zOomCl_ipsUg",
        "outputId": "dfdb807f-6ffd-4e97-af7b-222b33edf361"
      },
      "source": [
        "class Restaurante:\n",
        "\n",
        "  def __init__(self, nome_restaurante, tipo_comida):\n",
        "    self.nome_restaurante = nome_restaurante\n",
        "    self.tipo_comida = tipo_comida\n",
        "\n",
        "  def tipo_restaurande(self):\n",
        "    print(f\"O restaurante {self.nome_restaurante} tem otimas opçoes de {self.tipo_comida}\")\n",
        "\n",
        "  def restaurante_aberto(self):\n",
        "    print(f\"o restaurante {self.nome_restaurante}, está aberto\")\n",
        "\n",
        "  \n",
        "meu_restaurante = Restaurante(\"Coma em casa\", \"Comida caseira\")\n",
        "print(f\"O nome do restaurante é {meu_restaurante.nome_restaurante}\")\n",
        "print(f\"Com a gostasa {meu_restaurante.tipo_comida}\")  \n",
        "meu_restaurante.restaurante_aberto()\n",
        "meu_restaurante.tipo_restaurande()       \n",
        "\n",
        "print(\"----------------------------------------------------------\")\n",
        "\n",
        "rest_mineiro = Restaurante(\"\\nMineiro Food\", \"Comida Mineira\")\n",
        "rest_mineiro.tipo_restaurande()\n",
        "\n",
        "print(\"----------------------------------------------------------\")\n",
        "\n",
        "resta_hambuguer = Restaurante(\"Burgue da Hora!\", \"Varias opções de Hamburguer\")\n",
        "resta_hambuguer.tipo_restaurande()"
      ],
      "execution_count": 13,
      "outputs": [
        {
          "output_type": "stream",
          "text": [
            "O nome do restaurante é Coma em casa\n",
            "Com a gostasa Comida caseira\n",
            "o restaurante Coma em casa, está aberto\n",
            "O restaurante Coma em casa tem otimas opçoes de Comida caseira\n",
            "----------------------------------------------------------\n",
            "O restaurante \n",
            "Mineiro Food tem otimas opçoes de Comida Mineira\n",
            "----------------------------------------------------------\n",
            "O restaurante Burgue da Hora! tem otimas opçoes de Varias opções de Hamburguer\n"
          ],
          "name": "stdout"
        }
      ]
    }
  ]
}