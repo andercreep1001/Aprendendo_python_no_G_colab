{
  "nbformat": 4,
  "nbformat_minor": 0,
  "metadata": {
    "colab": {
      "name": "Orientacao_objetos_python.ipynb",
      "provenance": [],
      "authorship_tag": "ABX9TyM/fDWBdA7UJd0RI4u/GxSl",
      "include_colab_link": true
    },
    "kernelspec": {
      "name": "python3",
      "display_name": "Python 3"
    },
    "language_info": {
      "name": "python"
    }
  },
  "cells": [
    {
      "cell_type": "markdown",
      "metadata": {
        "id": "view-in-github",
        "colab_type": "text"
      },
      "source": [
        "<a href=\"https://colab.research.google.com/github/andercreep1001/Aprendendo_python_no_G_colab/blob/main/Orientacao_objetos_python.ipynb\" target=\"_parent\"><img src=\"https://colab.research.google.com/assets/colab-badge.svg\" alt=\"Open In Colab\"/></a>"
      ]
    },
    {
      "cell_type": "markdown",
      "metadata": {
        "id": "zpjehsuFANjZ"
      },
      "source": [
        "# ***Orientação a objetos***"
      ]
    },
    {
      "cell_type": "code",
      "metadata": {
        "colab": {
          "base_uri": "https://localhost:8080/"
        },
        "id": "h1o_8FLiAWM_",
        "outputId": "87b8f5e8-5d9d-475a-a252-e42464a26cf3"
      },
      "source": [
        "class Pokemon:\n",
        "\n",
        "  def __init__(self, tipo, especie, level=1, nome=None):\n",
        "    self.tipo = tipo\n",
        "    self.especie = especie\n",
        "    self.nome = nome\n",
        "    self.level = level\n",
        "\n",
        "    if nome:\n",
        "      self.nome = nome\n",
        "    else:\n",
        "      self.nome = especie  \n",
        "\n",
        "  def __str__(self):\n",
        "    #return f\"{self.especie} ({self.tipo})\"  \n",
        "    return f\"{self.nome} está no nivel ({self.level}), ->\"\n",
        "\n",
        "  def atacar(self, pokemon):\n",
        "    #print(f\"{self.especie} atacou! {pokemon}\")\n",
        "    print(f\"{self} atacou {pokemon}\")\n",
        "\n",
        "\n",
        "#--------------------outra classe---------------------------------\n",
        "class PokemonEletrico(Pokemon):\n",
        "  def atacar(self, pokemon):\n",
        "    self.pokemon = pokemon\n",
        "    print(f\"{self.especie} lançou um raio no {pokemon}\")  \n",
        "\n",
        "  def choque(self):\n",
        "    print(f\"{self} deu um choque\")\n",
        "\n",
        "\n",
        "\n",
        "meu_pok = Pokemon('fogo', 'Charmander')\n",
        "print(meu_pok.atacar(tais_pok))\n",
        "\n",
        "print('\\n')\n",
        "\n",
        "tais_pok = PokemonEletrico('eletrico', 'pikachu')\n",
        "print(tais_pok.atacar(meu_pok))\n",
        "tais_pok.choque()\n",
        "\n",
        "       \n",
        "#-----------------------------------------------------------------------\n",
        "#meu_pokemon = Pokemon('Fogo', 'Charmander') #iniciando Objeto\n",
        "#print(f\"Especie: {meu_pokemon.especie} e o tipo {meu_pokemon.tipo}\")\n",
        "#print(meu_pokemon, '\\n')\n",
        "#meu_pokemon.atacar(tais_pokemon)\n",
        "#print(meu_pokemon)\n",
        "\n",
        "\n",
        "#tais_pokemon = Pokemon('Eletrico', 'pikachu')\n",
        "#print(f\"O tipo: {tais_pokemon.tipo} e a especie {tais_pokemon.especie}\")\n",
        "#print(tais_pokemon)\n",
        "#tais_pokemon.atacar(meu_pokemon)\n",
        "#print(tais_pokemon.nome)"
      ],
      "execution_count": 67,
      "outputs": [
        {
          "output_type": "stream",
          "text": [
            "Charmander está no nivel (1), -> atacou pikachu está no nivel (1), ->\n",
            "None\n",
            "\n",
            "\n",
            "pikachu lançou um raio no Charmander está no nivel (1), ->\n",
            "None\n",
            "pikachu está no nivel (1), -> deu um choque\n"
          ],
          "name": "stdout"
        }
      ]
    }
  ]
}