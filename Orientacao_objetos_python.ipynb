{
  "nbformat": 4,
  "nbformat_minor": 0,
  "metadata": {
    "colab": {
      "name": "Orientacao_objetos_python.ipynb",
      "provenance": [],
      "authorship_tag": "ABX9TyNZrsUaXWDB64FsjmCgjPWy",
      "include_colab_link": true
    },
    "kernelspec": {
      "name": "python3",
      "display_name": "Python 3"
    },
    "language_info": {
      "name": "python"
    }
  },
  "cells": [
    {
      "cell_type": "markdown",
      "metadata": {
        "id": "view-in-github",
        "colab_type": "text"
      },
      "source": [
        "<a href=\"https://colab.research.google.com/github/andercreep1001/Aprendendo_python_no_G_colab/blob/main/Orientacao_objetos_python.ipynb\" target=\"_parent\"><img src=\"https://colab.research.google.com/assets/colab-badge.svg\" alt=\"Open In Colab\"/></a>"
      ]
    },
    {
      "cell_type": "markdown",
      "metadata": {
        "id": "zpjehsuFANjZ"
      },
      "source": [
        "# ***Orientação a objetos***"
      ]
    },
    {
      "cell_type": "code",
      "metadata": {
        "colab": {
          "base_uri": "https://localhost:8080/"
        },
        "id": "h1o_8FLiAWM_",
        "outputId": "e78455dc-71cd-4bf9-cb8a-c9296e24b6d6"
      },
      "source": [
        "class Pokemon:\n",
        "\n",
        "  def __init__(self, tipo, especie):\n",
        "    self.tipo = tipo\n",
        "    self.especie = especie\n",
        "\n",
        "  def __str__(self):\n",
        "    return f\"{self.especie} ({self.tipo})\"  \n",
        "\n",
        "  def atacar(self, pokemon):\n",
        "    print(f\"{self.especie} atacou! {pokemon}\")\n",
        "   \n",
        "\n",
        "meu_pokemon = Pokemon('Fogo', 'Charmander') #iniciando Objeto\n",
        "#print(f\"Especie: {meu_pokemon.especie} e o tipo {meu_pokemon.tipo}\")\n",
        "#print(meu_pokemon, '\\n')\n",
        "meu_pokemon.atacar(tais_pokemon)\n",
        "\n",
        "tais_pokemon = Pokemon('Eletrico', 'pikachu')\n",
        "#print(f\"O tipo: {tais_pokemon.tipo} e a especie {tais_pokemon.especie}\")\n",
        "#print(tais_pokemon)\n",
        "tais_pokemon.atacar(meu_pokemon)"
      ],
      "execution_count": 26,
      "outputs": [
        {
          "output_type": "stream",
          "text": [
            "Charmander atacou! pikachu (Eletrico)\n",
            "pikachu atacou! Charmander (Fogo)\n"
          ],
          "name": "stdout"
        }
      ]
    }
  ]
}