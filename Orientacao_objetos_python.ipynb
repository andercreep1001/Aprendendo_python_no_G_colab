{
  "nbformat": 4,
  "nbformat_minor": 0,
  "metadata": {
    "colab": {
      "name": "Orientacao_objetos_python.ipynb",
      "provenance": [],
      "authorship_tag": "ABX9TyO4+gReVIrFvOC2X8pmBR96",
      "include_colab_link": true
    },
    "kernelspec": {
      "name": "python3",
      "display_name": "Python 3"
    },
    "language_info": {
      "name": "python"
    }
  },
  "cells": [
    {
      "cell_type": "markdown",
      "metadata": {
        "id": "view-in-github",
        "colab_type": "text"
      },
      "source": [
        "<a href=\"https://colab.research.google.com/github/andercreep1001/Aprendendo_python_no_G_colab/blob/main/Orientacao_objetos_python.ipynb\" target=\"_parent\"><img src=\"https://colab.research.google.com/assets/colab-badge.svg\" alt=\"Open In Colab\"/></a>"
      ]
    },
    {
      "cell_type": "markdown",
      "metadata": {
        "id": "zpjehsuFANjZ"
      },
      "source": [
        "# ***Orientação a objetos***"
      ]
    },
    {
      "cell_type": "code",
      "metadata": {
        "colab": {
          "base_uri": "https://localhost:8080/"
        },
        "id": "h1o_8FLiAWM_",
        "outputId": "cc226e84-dfee-4199-9418-14fca8ef60a1"
      },
      "source": [
        "class Pokemon:\n",
        "\n",
        "  def __init__(self, tipo, especie, nome=None):\n",
        "    self.tipo = tipo\n",
        "    self.especie = especie\n",
        "    self.nome = nome\n",
        "\n",
        "    if nome:\n",
        "      self.nome = nome\n",
        "    else:\n",
        "      self.nome = especie  \n",
        "\n",
        "  def __str__(self):\n",
        "    return f\"{self.especie} ({self.tipo})\"  \n",
        "\n",
        "  def atacar(self, pokemon):\n",
        "    #print(f\"{self.especie} atacou! {pokemon}\")\n",
        "    print(f\"{self} atacou {pokemon}\")\n",
        "   \n",
        "\n",
        "meu_pokemon = Pokemon('Fogo', 'Charmander', 'Anderson') #iniciando Objeto\n",
        "#print(f\"Especie: {meu_pokemon.especie} e o tipo {meu_pokemon.tipo}\")\n",
        "#print(meu_pokemon, '\\n')\n",
        "meu_pokemon.atacar(tais_pokemon)\n",
        "print(meu_pokemon.nome)\n",
        "\n",
        "\n",
        "tais_pokemon = Pokemon('Eletrico', 'pikachu')\n",
        "#print(f\"O tipo: {tais_pokemon.tipo} e a especie {tais_pokemon.especie}\")\n",
        "#print(tais_pokemon)\n",
        "tais_pokemon.atacar(meu_pokemon)\n",
        "print(tais_pokemon.nome)"
      ],
      "execution_count": 40,
      "outputs": [
        {
          "output_type": "stream",
          "text": [
            "Charmander (Fogo) atacou pikachu (Eletrico)\n",
            "Anderson\n",
            "pikachu (Eletrico) atacou Charmander (Fogo)\n",
            "Taís\n"
          ],
          "name": "stdout"
        }
      ]
    }
  ]
}