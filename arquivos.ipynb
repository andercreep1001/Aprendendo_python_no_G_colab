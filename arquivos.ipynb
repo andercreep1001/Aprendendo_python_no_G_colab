{
  "nbformat": 4,
  "nbformat_minor": 0,
  "metadata": {
    "colab": {
      "name": "arquivos.ipynb",
      "provenance": [],
      "mount_file_id": "1XjS9UWUzub7JgCrOKgn7K3VcJKutqzIB",
      "authorship_tag": "ABX9TyM9ZKE7qObObXGa7toHkxZb",
      "include_colab_link": true
    },
    "kernelspec": {
      "name": "python3",
      "display_name": "Python 3"
    },
    "language_info": {
      "name": "python"
    }
  },
  "cells": [
    {
      "cell_type": "markdown",
      "metadata": {
        "id": "view-in-github",
        "colab_type": "text"
      },
      "source": [
        "<a href=\"https://colab.research.google.com/github/andercreep1001/Aprendendo_python_no_G_colab/blob/main/arquivos.ipynb\" target=\"_parent\"><img src=\"https://colab.research.google.com/assets/colab-badge.svg\" alt=\"Open In Colab\"/></a>"
      ]
    },
    {
      "cell_type": "markdown",
      "source": [
        "Arquivos"
      ],
      "metadata": {
        "id": "9STZTNrPYq4V"
      }
    },
    {
      "cell_type": "code",
      "execution_count": 3,
      "metadata": {
        "colab": {
          "base_uri": "https://localhost:8080/"
        },
        "id": "PorL5zREUAoR",
        "outputId": "f4d9e39c-ccf6-4ed4-d8d0-babfd1113d57"
      },
      "outputs": [
        {
          "output_type": "stream",
          "name": "stdout",
          "text": [
            "agnes@gmail.com\n",
            "glaucia@gmail.com\n",
            "mercur@gmail.com\n"
          ]
        }
      ],
      "source": [
        "arquivo = open('/content/drive/MyDrive/Colab Notebooks/emails.txt')\n",
        "\n",
        "print(arquivo.read())"
      ]
    },
    {
      "cell_type": "code",
      "source": [
        "arquivo = open('/content/drive/MyDrive/Colab Notebooks/emails.txt') \n",
        "\n",
        "#conteudo = arquivo.read()\n",
        "#print(conteudo)\n",
        "\n",
        "conteudo = arquivo.readlines()\n",
        "for linhas in conteudo:\n",
        "    print(linhas)"
      ],
      "metadata": {
        "colab": {
          "base_uri": "https://localhost:8080/"
        },
        "id": "hmNhzbTcYo5t",
        "outputId": "3709a63f-a539-42f4-9504-2857a9008e1f"
      },
      "execution_count": 10,
      "outputs": [
        {
          "output_type": "stream",
          "name": "stdout",
          "text": [
            "agnes@gmail.com\n",
            "\n",
            "glaucia@gmail.com\n",
            "\n",
            "mercur@gmail.com\n"
          ]
        }
      ]
    },
    {
      "cell_type": "markdown",
      "source": [
        "with\n"
      ],
      "metadata": {
        "id": "JauG9d-zYpvp"
      }
    },
    {
      "cell_type": "code",
      "source": [
        "try:\n",
        "   # with open('/content/drive/MyDrive/Colab Notebooks/email.txt') as arquivo:\n",
        "    with open('/content/drive/MyDrive/Colab Notebooks/emails.txt') as arquivo:\n",
        "        print(arquivo.read())\n",
        "except FileExistsError:\n",
        "    print('arquivo não existe')        "
      ],
      "metadata": {
        "colab": {
          "base_uri": "https://localhost:8080/"
        },
        "id": "DnI6C4v5arZT",
        "outputId": "fdab48f0-ab80-441c-b66c-e17b2fa1f0ce"
      },
      "execution_count": 16,
      "outputs": [
        {
          "output_type": "stream",
          "name": "stdout",
          "text": [
            "agnes@gmail.com\n",
            "glaucia@gmail.com\n",
            "mercur@gmail.com\n"
          ]
        }
      ]
    }
  ]
}