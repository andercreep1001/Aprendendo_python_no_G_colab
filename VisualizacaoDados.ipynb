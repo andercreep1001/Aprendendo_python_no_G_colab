{
  "nbformat": 4,
  "nbformat_minor": 0,
  "metadata": {
    "colab": {
      "provenance": [],
      "authorship_tag": "ABX9TyN/LaTI09SCczH1+ipLU/dl",
      "include_colab_link": true
    },
    "kernelspec": {
      "name": "python3",
      "display_name": "Python 3"
    },
    "language_info": {
      "name": "python"
    }
  },
  "cells": [
    {
      "cell_type": "markdown",
      "metadata": {
        "id": "view-in-github",
        "colab_type": "text"
      },
      "source": [
        "<a href=\"https://colab.research.google.com/github/andercreep1001/Aprendendo_python_no_G_colab/blob/main/VisualizacaoDados.ipynb\" target=\"_parent\"><img src=\"https://colab.research.google.com/assets/colab-badge.svg\" alt=\"Open In Colab\"/></a>"
      ]
    },
    {
      "cell_type": "code",
      "execution_count": null,
      "metadata": {
        "colab": {
          "base_uri": "https://localhost:8080/",
          "height": 312
        },
        "id": "nnGVTR7mN8zL",
        "outputId": "cf0b7443-1615-40bf-bb22-eec6e3749c5f"
      },
      "outputs": [
        {
          "output_type": "display_data",
          "data": {
            "text/plain": [
              "<Figure size 432x288 with 1 Axes>"
            ],
            "image/png": "[encoded data removed]"
          },
          "metadata": {
            "needs_background": "light"
          }
        }
      ],
      "source": [
        "#pip install --user matplotlib\n",
        "\n",
        "import matplotlib.pyplot as plt\n",
        "\n",
        "squars = [1,4,9,16,25]\n",
        "\n",
        "fig, ax = plt.subplots()\n",
        "#ax.plot(squars)\n",
        "ax.plot(squars, linewidth=3)\n",
        "ax.set_title(\"Square numbers\", fontsize=23)\n",
        "ax.set_xlabel(\"Value\", fontsize=15)\n",
        "ax.set_ylabel(\"Square of value\", fontsize=15)\n",
        "ax.tick_params(axis='both', labelsize=14)\n",
        "\n",
        "plt.show()\n"
      ]
    },
    {
      "cell_type": "code",
      "source": [
        "def soma(num1, num2):\n",
        "    return num1 + num2\n",
        "\n",
        "def printSoma():\n",
        "    print(soma(5,3)) \n",
        "\n",
        "printSoma()       "
      ],
      "metadata": {
        "colab": {
          "base_uri": "https://localhost:8080/"
        },
        "id": "u37abyyYZd3D",
        "outputId": "9ddf3921-1c3f-4634-9e7b-fdca42049f96"
      },
      "execution_count": null,
      "outputs": [
        {
          "output_type": "stream",
          "name": "stdout",
          "text": [
            "8\n"
          ]
        }
      ]
    },
    {
      "cell_type": "code",
      "source": [
        "printSoma()"
      ],
      "metadata": {
        "id": "ZpIp5-01Z8gX",
        "outputId": "f1b896c1-f460-44a2-970e-8068189201f3",
        "colab": {
          "base_uri": "https://localhost:8080/"
        }
      },
      "execution_count": null,
      "outputs": [
        {
          "output_type": "stream",
          "name": "stdout",
          "text": [
            "8\n"
          ]
        }
      ]
    },
    {
      "cell_type": "code",
      "source": [
        "cont = 0\n",
        "while cont < 10:\n",
        "    print(cont)\n",
        "    cont += 2\n",
        "\n",
        "\n",
        "while True:\n",
        "    print('Digite a opção desejada: ')\n",
        "    print('1 - para ver a mensagem novamente')\n",
        "    print('2 - Sair')\n",
        "    opcao = input()\n",
        "    if opcao == '2':\n",
        "        break\n"
      ],
      "metadata": {
        "colab": {
          "base_uri": "https://localhost:8080/"
        },
        "id": "f678zcGoj2mE",
        "outputId": "a5b7ac4c-5e23-43fe-a1d1-306dd65a7e2a"
      },
      "execution_count": null,
      "outputs": [
        {
          "name": "stdout",
          "output_type": "stream",
          "text": [
            "0\n",
            "2\n",
            "4\n",
            "6\n",
            "8\n",
            "Digite a opção desejada: \n",
            "1 - para ver a mensagem novamente\n",
            "2 - Sair\n",
            "1\n",
            "Digite a opção desejada: \n",
            "1 - para ver a mensagem novamente\n",
            "2 - Sair\n",
            "2\n"
          ]
        }
      ]
    },
    {
      "cell_type": "code",
      "source": [
        "def fecha_compras(fator_desconto = 1, **valores):\n",
        "    preço_final = 0\n",
        "    for valor in valores.values():\n",
        "        preço_final += valor\n",
        "\n",
        "    print(valores)        \n",
        "    return preço_final * fator_desconto\n",
        "\n",
        "fecha_compras(banana = 3.20, maça = 5.50, goiaba = 6.50)    \n",
        "\n",
        "print(15.20*22)\n"
      ],
      "metadata": {
        "colab": {
          "base_uri": "https://localhost:8080/"
        },
        "id": "Oh7PpdIjvgXD",
        "outputId": "4424ecb8-d6aa-46c4-9885-719102d1ccb8"
      },
      "execution_count": null,
      "outputs": [
        {
          "output_type": "stream",
          "name": "stdout",
          "text": [
            "{'banana': 3.2, 'maça': 5.5, 'goiaba': 6.5}\n",
            "334.4\n"
          ]
        }
      ]
    },
    {
      "cell_type": "code",
      "source": [
        "AGENDA = {\n",
        "    \"Glauci\":{\"endereco\":\"av. 1\", \"fone\":\"9999-8888\", \"e-mail\":\"glauci@email.com\"},\n",
        "    \"Agnes\":{\"endereco\":\"av. 2\",\"fone\":\"8888-7777\", \"e-mail\":\"agnes@email.com\"},\n",
        "    \"Taís\":{\"endereco\":\"av. 3\", \"fone\":\"7777-6666\", \"e-mail\":\"tais@email.com\"},\n",
        "    \"Morena\":{\"endereco\":\"av. 4\", \"fone\":\"6666-5555\", \"e-mail\":\"morena@email.com\"}\n",
        "}\n",
        "\n",
        "AGENDA['Ruiva'] = {\"endereco\":\"av. 5\", \"fone\":\"5555-4444\", \"e-mail\":\"ruiva@email.com\"}\n",
        "\n",
        "for contato in AGENDA.values():\n",
        "    print(contato)\n",
        "\n",
        "print(f\"Fone Ruiva do ônibus: {AGENDA['Ruiva']['fone']}\")\n",
        "\n",
        "type(AGENDA['Glauci'])"
      ],
      "metadata": {
        "colab": {
          "base_uri": "https://localhost:8080/"
        },
        "id": "JFf4kpwbmd3u",
        "outputId": "d2898059-6cc5-4b91-a65c-dc41a9072698"
      },
      "execution_count": 44,
      "outputs": [
        {
          "output_type": "stream",
          "name": "stdout",
          "text": [
            "{'endereco': 'av. 1', 'fone': '9999-8888', 'e-mail': 'glauci@email.com'}\n",
            "{'endereco': 'av. 2', 'fone': '8888-7777', 'e-mail': 'agnes@email.com'}\n",
            "{'endereco': 'av. 3', 'fone': '7777-6666', 'e-mail': 'tais@email.com'}\n",
            "{'endereco': 'av. 4', 'fone': '6666-5555', 'e-mail': 'morena@email.com'}\n",
            "{'endereco': 'av. 5', 'fone': '5555-4444', 'e-mail': 'ruiva@email.com'}\n",
            "Fone Ruiva do ônibus: 5555-4444\n"
          ]
        },
        {
          "output_type": "execute_result",
          "data": {
            "text/plain": [
              "dict"
            ]
          },
          "metadata": {},
          "execution_count": 44
        }
      ]
    },
    {
      "cell_type": "code",
      "source": [
        "AGENDA = {\n",
        "    \"Glauci\":{\"endereco\":\"av. 1\", \"fone\":\"9999-8888\", \"e-mail\":\"glauci@email.com\"},\n",
        "    \"Agnes\":{\"endereco\":\"av. 2\",\"fone\":\"8888-7777\", \"e-mail\":\"agnes@email.com\"},\n",
        "    \"Taís\":{\"endereco\":\"av. 3\", \"fone\":\"7777-6666\", \"e-mail\":\"tais@email.com\"},\n",
        "}\n",
        "def mostrar_contato():\n",
        "    for contato in AGENDA:\n",
        "        #print(f\"Nome: {contato}\")\n",
        "        #print(f\"Endereço: {AGENDA[contato]['endereco']}\")\n",
        "        #print(\"Telefone: \", AGENDA[contato]['fone'])\n",
        "        #print(f\"E-mail: {AGENDA[contato]['e-mail']}\")\n",
        "        buscar_contato(contato)\n",
        "        print('--------------------------------------------------')\n",
        "\n",
        "\n",
        "def buscar_contato(contato):\n",
        "    print(f\"Nome: {contato}\")\n",
        "    print(f\"Endereço: {AGENDA[contato]['endereco']}\")\n",
        "    print(f\"Telefone: {AGENDA[contato]['fone']}\")\n",
        "    print(f\"E-mail: {AGENDA[contato]['e-mail']}\") \n",
        "\n",
        "\n",
        "def incluir_contato(contato, endereco, fone, email):\n",
        "    AGENDA[contato] = {\"endereco\":endereco, \"fone\":fone, \"e-mail\":email}\n",
        "    print(f\"Contato {contato} adicionado com sucesso!\\n\")\n",
        "\n",
        "def excluir_contato(contato):\n",
        "    AGENDA.pop(contato)\n",
        "    print(f\"Conatto {contato} excluido com sucesso!\\n\")\n",
        "\n",
        "\n",
        "\n",
        "\n",
        "#buscar_contato('Glauci')\n",
        "mostrar_contato()\n",
        "incluir_contato(\"Morena\", \"Av. 4\", \"6666-5555\", \"morena@email.com\")        \n",
        "mostrar_contato()\n",
        "excluir_contato('Morena')\n",
        "mostrar_contato()\n",
        "#print(AGENDA)\n",
        "#type(AGENDA['Glauci'])"
      ],
      "metadata": {
        "colab": {
          "base_uri": "https://localhost:8080/"
        },
        "id": "5kF8el-z7gDH",
        "outputId": "69e9b8b0-8036-4ee2-f6e8-39b263c66d19"
      },
      "execution_count": 63,
      "outputs": [
        {
          "output_type": "stream",
          "name": "stdout",
          "text": [
            "Nome: Glauci\n",
            "Endereço: av. 1\n",
            "Telefone: 9999-8888\n",
            "E-mail: glauci@email.com\n",
            "--------------------------------------------------\n",
            "Nome: Agnes\n",
            "Endereço: av. 2\n",
            "Telefone: 8888-7777\n",
            "E-mail: agnes@email.com\n",
            "--------------------------------------------------\n",
            "Nome: Taís\n",
            "Endereço: av. 3\n",
            "Telefone: 7777-6666\n",
            "E-mail: tais@email.com\n",
            "--------------------------------------------------\n",
            "Contato Morena adicionado com sucesso!\n",
            "\n",
            "Nome: Glauci\n",
            "Endereço: av. 1\n",
            "Telefone: 9999-8888\n",
            "E-mail: glauci@email.com\n",
            "--------------------------------------------------\n",
            "Nome: Agnes\n",
            "Endereço: av. 2\n",
            "Telefone: 8888-7777\n",
            "E-mail: agnes@email.com\n",
            "--------------------------------------------------\n",
            "Nome: Taís\n",
            "Endereço: av. 3\n",
            "Telefone: 7777-6666\n",
            "E-mail: tais@email.com\n",
            "--------------------------------------------------\n",
            "Nome: Morena\n",
            "Endereço: Av. 4\n",
            "Telefone: 6666-5555\n",
            "E-mail: morena@email.com\n",
            "--------------------------------------------------\n",
            "Conatto Morena excluido com sucesso!\n",
            "\n",
            "Nome: Glauci\n",
            "Endereço: av. 1\n",
            "Telefone: 9999-8888\n",
            "E-mail: glauci@email.com\n",
            "--------------------------------------------------\n",
            "Nome: Agnes\n",
            "Endereço: av. 2\n",
            "Telefone: 8888-7777\n",
            "E-mail: agnes@email.com\n",
            "--------------------------------------------------\n",
            "Nome: Taís\n",
            "Endereço: av. 3\n",
            "Telefone: 7777-6666\n",
            "E-mail: tais@email.com\n",
            "--------------------------------------------------\n"
          ]
        }
      ]
    }
  ]
}