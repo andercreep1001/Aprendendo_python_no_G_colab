{
  "nbformat": 4,
  "nbformat_minor": 0,
  "metadata": {
    "colab": {
      "name": "OO_5_classe_car.ipynb",
      "provenance": [],
      "authorship_tag": "ABX9TyMBTaMJNI8tZloKxpXiz1ZP",
      "include_colab_link": true
    },
    "kernelspec": {
      "name": "python3",
      "display_name": "Python 3"
    },
    "language_info": {
      "name": "python"
    }
  },
  "cells": [
    {
      "cell_type": "markdown",
      "metadata": {
        "id": "view-in-github",
        "colab_type": "text"
      },
      "source": [
        "<a href=\"https://colab.research.google.com/github/andercreep1001/Aprendendo_python_no_G_colab/blob/main/OO_5_classe_car.ipynb\" target=\"_parent\"><img src=\"https://colab.research.google.com/assets/colab-badge.svg\" alt=\"Open In Colab\"/></a>"
      ]
    },
    {
      "cell_type": "markdown",
      "metadata": {
        "id": "qYrdK17Lt_5Y"
      },
      "source": [
        "# **Orientação a objetos - classe Carro**"
      ]
    },
    {
      "cell_type": "code",
      "metadata": {
        "id": "64MrGHjhuFeP"
      },
      "source": [
        "class Car:\n",
        "  def __init__(self, marca, modelo, ano):\n",
        "    self.marca = marca\n",
        "    self.modelo = modelo\n",
        "    self.ano = ano\n",
        "    self.lendo_ondometro = 0\n",
        "\n",
        "  def nome_completo(self):\n",
        "    nome_total = f\"{self.marca} {self.modelo} {self.ano}\"\n",
        "    return nome_total.title()\n",
        "\n",
        "  def ler_odometro(self):\n",
        "    print(f\"Este carro tem {self.lendo_ondometro} km rodados\")\n",
        "\n",
        "  def atualizar_odometro(self, quilometragem):\n",
        "    if quilometragem >= self.lendo_ondometro:\n",
        "      self.lendo_ondometro = quilometragem\n",
        "    else:\n",
        "      print(\"Voce não pode laterar o odometro\")\n",
        "        \n",
        "  def incrementar_odometro(self, km):\n",
        "    self.lendo_ondometro = km\n",
        "\n"
      ],
      "execution_count": 3,
      "outputs": []
    }
  ]
}