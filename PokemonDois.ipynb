{
  "nbformat": 4,
  "nbformat_minor": 0,
  "metadata": {
    "colab": {
      "provenance": [],
      "authorship_tag": "ABX9TyNDpsySvUCHkz0hpuxKuAzW",
      "include_colab_link": true
    },
    "kernelspec": {
      "name": "python3",
      "display_name": "Python 3"
    },
    "language_info": {
      "name": "python"
    }
  },
  "cells": [
    {
      "cell_type": "markdown",
      "metadata": {
        "id": "view-in-github",
        "colab_type": "text"
      },
      "source": [
        "<a href=\"https://colab.research.google.com/github/andercreep1001/Aprendendo_python_no_G_colab/blob/main/PokemonDois.ipynb\" target=\"_parent\"><img src=\"https://colab.research.google.com/assets/colab-badge.svg\" alt=\"Open In Colab\"/></a>"
      ]
    },
    {
      "cell_type": "code",
      "execution_count": 15,
      "metadata": {
        "colab": {
          "base_uri": "https://localhost:8080/"
        },
        "id": "OwZB5HRd0Rwg",
        "outputId": "3c3da76a-40ff-4455-d660-af4d7e7abd80"
      },
      "outputs": [
        {
          "output_type": "stream",
          "name": "stdout",
          "text": [
            "Taís 1\n",
            "Taís 1 atacou -->> Agnes 1\n",
            "Agnes 1\n",
            "Agnes 1 atacou -->> Taís 1\n"
          ]
        }
      ],
      "source": [
        "class Pokemon():\n",
        "    def __init__(self, especi, level=1, nome=None):\n",
        "        self.especi = especi\n",
        "        self.level = level\n",
        "        self.nome = nome\n",
        "\n",
        "        if nome:\n",
        "            self.nome = nome\n",
        "        else:\n",
        "            self.nome = especi\n",
        "\n",
        "    def __str__(self):\n",
        "        return f\"{self.nome} {self.level}\"\n",
        "\n",
        "    def atacar(self, pokemon):\n",
        "        print(f\"{self} atacou -->> {pokemon}\")        \n",
        "#_______________________________________________________________\n",
        "\n",
        "class PokemonEletrico(Pokemon):\n",
        "    tipo = \"eletrico\"\n",
        "    \n",
        "    def atacar(self, pokemon):\n",
        "        print(f\"{self} atacou -->> {pokemon}\")\n",
        "\n",
        "#_______________________________________________________________\n",
        "\n",
        "class PokemonAgua(Pokemon):\n",
        "    tipo = \"agua\"\n",
        "\n",
        "    def atacar(self, pokemon):\n",
        "        print(f\"{self} atacou -->> {pokemon}\")\n",
        "\n",
        "#_______________________________________________________________\n",
        "\n",
        "class PokemonFogo(Pokemon):\n",
        "    tipo = \"fogo\"\n",
        "\n",
        "    def atacar(self, pokemon):\n",
        "        return super().atacar(pokemon)\n",
        "\n",
        "#_______________________________________________________________\n",
        "\n",
        "meu_pok = PokemonFogo(\"Taís\")\n",
        "meu_pok2 = PokemonEletrico(\"Agnes\")\n",
        "\n",
        "print(meu_pok)\n",
        "meu_pok.atacar(meu_pok2)\n",
        "print(meu_pok2)\n",
        "meu_pok2.atacar(meu_pok)\n",
        "\n",
        "\n",
        "#3333333pok = Pokemon(\"Agnes\")\n",
        "#print(pok.atacar(\"dd\"))                                "
      ]
    }
  ]
}