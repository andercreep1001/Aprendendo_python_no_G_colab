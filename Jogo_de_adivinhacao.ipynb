{
  "nbformat": 4,
  "nbformat_minor": 0,
  "metadata": {
    "colab": {
      "name": "Jogo_de_adivinhacao.ipynb",
      "provenance": [],
      "authorship_tag": "ABX9TyP8GlGNuH4I0PqOYGgFPWOh",
      "include_colab_link": true
    },
    "kernelspec": {
      "name": "python3",
      "display_name": "Python 3"
    },
    "language_info": {
      "name": "python"
    }
  },
  "cells": [
    {
      "cell_type": "markdown",
      "metadata": {
        "id": "view-in-github",
        "colab_type": "text"
      },
      "source": [
        "<a href=\"https://colab.research.google.com/github/andercreep1001/Aprendendo_python_no_G_colab/blob/main/Jogo_de_adivinhacao.ipynb\" target=\"_parent\"><img src=\"https://colab.research.google.com/assets/colab-badge.svg\" alt=\"Open In Colab\"/></a>"
      ]
    },
    {
      "cell_type": "markdown",
      "metadata": {
        "id": "P3gol9YOgvq3"
      },
      "source": [
        "## ***Jogo de adivinhação com while***"
      ]
    },
    {
      "cell_type": "code",
      "metadata": {
        "id": "-1dB-ZB5g8HO"
      },
      "source": [
        "numero_secreto = 42\n",
        "total_de_tentativas = 3\n",
        "rodada = 1\n",
        "\n",
        "while (total_de_tentativas > 0):\n",
        "  print('Tentativa {} de {}'.format(rodada, total_de_tentativas))  \n",
        "  chute = int(input('Digite o seu numero: '))\n",
        "  print('você digitou', chute)\n",
        "\n",
        "  acertou = chute == numero_secreto\n",
        "  maior = chute > numero_secreto\n",
        "  menor = chute < numero_secreto\n",
        "\n",
        "  if(acertou):\n",
        "     print('Você acertou')\n",
        "     break\n",
        "  elif(maior):\n",
        "    print('Você errou, o numero é maior')\n",
        "  elif(menor):\n",
        "    print('Você errou, o numero é menor')        \n",
        "\n",
        "  rodada = rodada + 1  \n",
        "\n",
        "print('Fim de jogo')"
      ],
      "execution_count": null,
      "outputs": []
    },
    {
      "cell_type": "markdown",
      "metadata": {
        "id": "boC_dPOSmZLX"
      },
      "source": [
        "## **Jogo com loop For**"
      ]
    },
    {
      "cell_type": "code",
      "metadata": {
        "colab": {
          "base_uri": "https://localhost:8080/"
        },
        "id": "J7Bq9lYgmr4S",
        "outputId": "62723d94-7d42-4547-f2f2-43c47fea97f1"
      },
      "source": [
        "numero_secreto = 22\n",
        "total_de_tentativas = 3\n",
        "\n",
        "for rodada in range(1, total_de_tentativas):\n",
        "  print(f\"Tentaivas {rodada} de {total_de_tentativas}\")\n",
        "\n",
        "  chute = int(input('Digite um numero: '))\n",
        "  print('Você digitou: ', chute)\n",
        "\n",
        "  acertou = numero_secreto == chute\n",
        "  maior = chute > numero_secreto\n",
        "  menor = chute < numero_secreto\n",
        "\n",
        "  if (acertou):\n",
        "    print('Você acertou!!!')\n",
        "    break\n",
        "  elif (maior):\n",
        "    print('Você errou! O numero é maior')\n",
        "  elif (menor):\n",
        "    print('Você errou! O numero é manor')    \n",
        "\n",
        "\n",
        "print('Fim de jogo')    "
      ],
      "execution_count": 9,
      "outputs": [
        {
          "output_type": "stream",
          "text": [
            "Tentaivas 1 de 3\n",
            "Digite um numero: 30\n",
            "Você digitou:  30\n",
            "Você errou! O numero é maior\n",
            "Tentaivas 2 de 3\n",
            "Digite um numero: 22\n",
            "Você digitou:  22\n",
            "Você acertou!!!\n",
            "Fim de jogo\n"
          ],
          "name": "stdout"
        }
      ]
    }
  ]
}