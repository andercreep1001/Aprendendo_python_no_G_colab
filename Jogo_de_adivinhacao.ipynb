{
  "nbformat": 4,
  "nbformat_minor": 0,
  "metadata": {
    "colab": {
      "name": "Jogo_de_adivinhacao.ipynb",
      "provenance": [],
      "authorship_tag": "ABX9TyPtuwHVqgdvKFxLK9FvBax6",
      "include_colab_link": true
    },
    "kernelspec": {
      "name": "python3",
      "display_name": "Python 3"
    },
    "language_info": {
      "name": "python"
    }
  },
  "cells": [
    {
      "cell_type": "markdown",
      "metadata": {
        "id": "view-in-github",
        "colab_type": "text"
      },
      "source": [
        "<a href=\"https://colab.research.google.com/github/andercreep1001/Aprendendo_python_no_G_colab/blob/main/Jogo_de_adivinhacao.ipynb\" target=\"_parent\"><img src=\"https://colab.research.google.com/assets/colab-badge.svg\" alt=\"Open In Colab\"/></a>"
      ]
    },
    {
      "cell_type": "markdown",
      "metadata": {
        "id": "P3gol9YOgvq3"
      },
      "source": [
        "## ***Jogo de adivinhação com while***"
      ]
    },
    {
      "cell_type": "code",
      "metadata": {
        "colab": {
          "base_uri": "https://localhost:8080/"
        },
        "id": "-1dB-ZB5g8HO",
        "outputId": "66a622fc-7e93-45ce-b6cb-b00693f47f3d"
      },
      "source": [
        "numero_secreto = 42\n",
        "total_de_tentativas = 3\n",
        "rodada = 1\n",
        "\n",
        "while (total_de_tentativas > 0):\n",
        "  print('Tentativa {} de {}'.format(rodada, total_de_tentativas))  \n",
        "  chute = int(input('Digite o seu numero: '))\n",
        "  print('você digitou', chute)\n",
        "\n",
        "  acertou = chute == numero_secreto\n",
        "  maior = chute > numero_secreto\n",
        "  menor = chute < numero_secreto\n",
        "\n",
        "  if(acertou):\n",
        "     print('Você acertou')\n",
        "     break\n",
        "  elif(maior):\n",
        "    print('Você errou, o numero é maior')\n",
        "  elif(menor):\n",
        "    print('Você errou, o numero é menor')        \n",
        "\n",
        "  rodada = rodada + 1  \n",
        "\n",
        "print('Fim de jogo')"
      ],
      "execution_count": 7,
      "outputs": [
        {
          "output_type": "stream",
          "text": [
            "Tentativa 1 de 3\n",
            "Digite o seu numero: 1\n",
            "você digitou 1\n",
            "Você errou, o numero é menor\n",
            "Tentativa 2 de 3\n",
            "Digite o seu numero: 2\n",
            "você digitou 2\n",
            "Você errou, o numero é menor\n",
            "Tentativa 3 de 3\n",
            "Digite o seu numero: 50\n",
            "você digitou 50\n",
            "Você errou, o numero é maior\n",
            "Tentativa 4 de 3\n",
            "Digite o seu numero: 42\n",
            "você digitou 42\n",
            "Você acertou\n",
            "Fim de jogo\n"
          ],
          "name": "stdout"
        }
      ]
    }
  ]
}