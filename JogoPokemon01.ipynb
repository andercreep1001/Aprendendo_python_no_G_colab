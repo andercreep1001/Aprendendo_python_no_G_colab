{
  "nbformat": 4,
  "nbformat_minor": 0,
  "metadata": {
    "colab": {
      "name": "JogoPokemon01.ipynb",
      "provenance": [],
      "authorship_tag": "ABX9TyPCOKb5RAxdyMY7dOGsjPZa",
      "include_colab_link": true
    },
    "kernelspec": {
      "name": "python3",
      "display_name": "Python 3"
    },
    "language_info": {
      "name": "python"
    }
  },
  "cells": [
    {
      "cell_type": "markdown",
      "metadata": {
        "id": "view-in-github",
        "colab_type": "text"
      },
      "source": [
        "<a href=\"https://colab.research.google.com/github/andercreep1001/Aprendendo_python_no_G_colab/blob/main/JogoPokemon01.ipynb\" target=\"_parent\"><img src=\"https://colab.research.google.com/assets/colab-badge.svg\" alt=\"Open In Colab\"/></a>"
      ]
    },
    {
      "cell_type": "markdown",
      "source": [
        "Pokemon 1.0"
      ],
      "metadata": {
        "id": "39WSf24GOEAa"
      }
    },
    {
      "cell_type": "code",
      "execution_count": 11,
      "metadata": {
        "colab": {
          "base_uri": "https://localhost:8080/"
        },
        "id": "hHzCbMRqN7iU",
        "outputId": "417516d4-15f7-4d05-fcf3-13ed3ebeb12c"
      },
      "outputs": [
        {
          "output_type": "stream",
          "name": "stdout",
          "text": [
            "Fogo\n",
            "Charmander -> Fogo \n"
          ]
        }
      ],
      "source": [
        "class Pokemon:\n",
        "    def __init__(self, tipo, especie):\n",
        "        self.tipo = tipo\n",
        "        self.especie = especie\n",
        "\n",
        "    def __str__(self):\n",
        "        #return \"agnes\"\n",
        "        #return self.especie\n",
        "        return \"{} -> {} \".format(self.especie, self.tipo)\n",
        "\n",
        "#-------------------------------------------\n",
        "\n",
        "meu_pok = Pokemon('Fogo', 'Charmander')\n",
        "print(meu_pok.tipo)\n",
        "print(meu_pok)"
      ]
    }
  ]
}