{
  "nbformat": 4,
  "nbformat_minor": 0,
  "metadata": {
    "colab": {
      "name": "JogoPokemon01.ipynb",
      "provenance": [],
      "authorship_tag": "ABX9TyMNVuDnAgD/oDBFHr4PqQWq",
      "include_colab_link": true
    },
    "kernelspec": {
      "name": "python3",
      "display_name": "Python 3"
    },
    "language_info": {
      "name": "python"
    }
  },
  "cells": [
    {
      "cell_type": "markdown",
      "metadata": {
        "id": "view-in-github",
        "colab_type": "text"
      },
      "source": [
        "<a href=\"https://colab.research.google.com/github/andercreep1001/Aprendendo_python_no_G_colab/blob/main/JogoPokemon01.ipynb\" target=\"_parent\"><img src=\"https://colab.research.google.com/assets/colab-badge.svg\" alt=\"Open In Colab\"/></a>"
      ]
    },
    {
      "cell_type": "markdown",
      "source": [
        "Pokemon 1.0"
      ],
      "metadata": {
        "id": "39WSf24GOEAa"
      }
    },
    {
      "cell_type": "code",
      "execution_count": 5,
      "metadata": {
        "colab": {
          "base_uri": "https://localhost:8080/"
        },
        "id": "hHzCbMRqN7iU",
        "outputId": "df936e63-b82f-412d-810b-952152e3e068"
      },
      "outputs": [
        {
          "output_type": "stream",
          "name": "stdout",
          "text": [
            "Fogo\n",
            "Charmander -> Fogo \n",
            "Charmander -> Fogo  atacou pikachu\n",
            "pikachu -> eletrico  atacou Charmander\n"
          ]
        }
      ],
      "source": [
        "class Pokemon:\n",
        "    def __init__(self, tipo, especie):\n",
        "        self.tipo = tipo\n",
        "        self.especie = especie\n",
        "\n",
        "    def __str__(self):\n",
        "        #return \"agnes\"\n",
        "        #return self.especie\n",
        "        return \"{} -> {} \".format(self.especie, self.tipo)\n",
        "\n",
        "    def atacar(self, pokemo):\n",
        "        print(\"{} atacou {}\".format(self, pokemo.especie))    \n",
        "\n",
        "#-------------------------------------------\n",
        "\n",
        "meu_pok = Pokemon('Fogo', 'Charmander')\n",
        "print(meu_pok.tipo)\n",
        "print(meu_pok)\n",
        "#_______________________\n",
        "amigo_pok = Pokemon(\"eletrico\", \"pikachu\")\n",
        "meu_pok.atacar(amigo_pok)\n",
        "amigo_pok.atacar(meu_pok)\n"
      ]
    }
  ]
}