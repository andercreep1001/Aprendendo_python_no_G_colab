{
  "nbformat": 4,
  "nbformat_minor": 0,
  "metadata": {
    "colab": {
      "name": "JogoPokemon01.ipynb",
      "provenance": [],
      "authorship_tag": "ABX9TyOcQUDt/WyjX5Uz0d+7PPOy",
      "include_colab_link": true
    },
    "kernelspec": {
      "name": "python3",
      "display_name": "Python 3"
    },
    "language_info": {
      "name": "python"
    }
  },
  "cells": [
    {
      "cell_type": "markdown",
      "metadata": {
        "id": "view-in-github",
        "colab_type": "text"
      },
      "source": [
        "<a href=\"https://colab.research.google.com/github/andercreep1001/Aprendendo_python_no_G_colab/blob/main/JogoPokemon01.ipynb\" target=\"_parent\"><img src=\"https://colab.research.google.com/assets/colab-badge.svg\" alt=\"Open In Colab\"/></a>"
      ]
    },
    {
      "cell_type": "markdown",
      "source": [
        "Pokemon 1.0"
      ],
      "metadata": {
        "id": "39WSf24GOEAa"
      }
    },
    {
      "cell_type": "code",
      "execution_count": 7,
      "metadata": {
        "colab": {
          "base_uri": "https://localhost:8080/"
        },
        "id": "hHzCbMRqN7iU",
        "outputId": "b88834ad-b4fd-4312-dda9-efa2020f985e"
      },
      "outputs": [
        {
          "output_type": "stream",
          "name": "stdout",
          "text": [
            "Charmander(1)  fogo\n",
            "pikachu(1)  eletrico\n",
            "Charmander(1)  lançou uma bola de fogo no pikachu\n",
            "pikachu(1)  laçou um zaio no Charmander\n"
          ]
        }
      ],
      "source": [
        "class Pokemon:\n",
        "    def __init__(self, especie, level=1, nome=None):\n",
        "        #self.tipo = tipo\n",
        "        self.especie = especie\n",
        "        self.level = level\n",
        "        if nome:\n",
        "            self.nome = nome\n",
        "        else:\n",
        "            self.nome = especie\n",
        "\n",
        "\n",
        "    def __str__(self):\n",
        "        #return \"agnes\"\n",
        "        #return self.especie\n",
        "        #return \"{} -> {} \".format(self.especie, self.tipo)\n",
        "        return \"{}({}) \".format(self.nome, self.level)\n",
        "\n",
        "    def atacar(self, pokemon):\n",
        "        print(\"{} Lançou uma bola de fogo no {}\".format(self, pokemon.nome))    \n",
        "\n",
        "#-------------------------------------------\n",
        "\n",
        "class PokemonFogo(Pokemon):\n",
        "    tipo = \"fogo\"\n",
        "    def atacar(self, pokemon):\n",
        "        print(\"{} lançou uma bola de fogo no {}\".format(self, pokemon.nome))\n",
        "\n",
        "#-------------------------------------------\n",
        "\n",
        "#-------------------------------------------\n",
        "\n",
        "class PokemonEletrico(Pokemon):\n",
        "    tipo = \"eletrico\"\n",
        "    def atacar(self, pokemon):\n",
        "        print(\"{} laçou um zaio no {}\".format(self, pokemon.nome))\n",
        "\n",
        "#-------------------------------------------\n",
        "\n",
        "\"\"\"\n",
        "meu_pok = Pokemon('Fogo', 'Charmander',20)\n",
        "print(meu_pok.tipo)\n",
        "print(meu_pok)\n",
        "#print(meu_pok.nome, meu_pok.level)\n",
        "#_______________________\n",
        "amigo_pok = Pokemon(\"eletrico\", \"pikachu\")\n",
        "print(amigo_pok)\n",
        "meu_pok.atacar(amigo_pok)\n",
        "amigo_pok.atacar(meu_pok)\n",
        "\"\"\"\n",
        "\n",
        "meu_poke = PokemonFogo(\"Charmander\")\n",
        "amigo_poke = PokemonEletrico(\"pikachu\")\n",
        "\n",
        "print(meu_poke, meu_poke.tipo)\n",
        "print(amigo_poke, amigo_poke.tipo)\n",
        "\n",
        "meu_poke.atacar(amigo_poke)\n",
        "amigo_poke.atacar(meu_poke)\n"
      ]
    }
  ]
}