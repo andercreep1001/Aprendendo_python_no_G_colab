{
  "nbformat": 4,
  "nbformat_minor": 0,
  "metadata": {
    "colab": {
      "provenance": [],
      "authorship_tag": "ABX9TyPic8jJUcBcI3c/CJUrF6SC",
      "include_colab_link": true
    },
    "kernelspec": {
      "name": "python3",
      "display_name": "Python 3"
    },
    "language_info": {
      "name": "python"
    }
  },
  "cells": [
    {
      "cell_type": "markdown",
      "metadata": {
        "id": "view-in-github",
        "colab_type": "text"
      },
      "source": [
        "<a href=\"https://colab.research.google.com/github/andercreep1001/Aprendendo_python_no_G_colab/blob/main/alien.ipynb\" target=\"_parent\"><img src=\"https://colab.research.google.com/assets/colab-badge.svg\" alt=\"Open In Colab\"/></a>"
      ]
    },
    {
      "cell_type": "markdown",
      "source": [
        "## Dicionario vazio\n"
      ],
      "metadata": {
        "id": "4OmrCMZAQAJF"
      }
    },
    {
      "cell_type": "code",
      "source": [
        "alien_0 = {}\n",
        "\n",
        "alien_0['cor'] = 'verde'\n",
        "alien_0['pontos'] = 5\n",
        "\n",
        "print(alien_0)\n"
      ],
      "metadata": {
        "colab": {
          "base_uri": "https://localhost:8080/"
        },
        "id": "WmIR4uXfQHhk",
        "outputId": "26871855-7024-4b93-d2d6-68224d117064"
      },
      "execution_count": 1,
      "outputs": [
        {
          "output_type": "stream",
          "name": "stdout",
          "text": [
            "{'cor': 'verde', 'pontos': 5}\n"
          ]
        }
      ]
    },
    {
      "cell_type": "code",
      "source": [
        "alien = {'color' : 'green'}\n",
        "print(f\"A cor é {alien['color']}\")\n",
        "\n",
        "alien['color'] = 'yelow'\n",
        "print(f\"{alien['color']}\")"
      ],
      "metadata": {
        "colab": {
          "base_uri": "https://localhost:8080/"
        },
        "id": "NwRpAu_6Qy90",
        "outputId": "6ed8b622-1a00-4592-bdc3-b2c228e351d2"
      },
      "execution_count": 9,
      "outputs": [
        {
          "output_type": "stream",
          "name": "stdout",
          "text": [
            "A cor é green\n",
            "yelow\n"
          ]
        }
      ]
    },
    {
      "cell_type": "code",
      "source": [
        "alien_0 = {'x_posicao':0, 'y_posicao':25, 'speed':'medium'}\n",
        "print(f\"A posição original: {alien_0['x_posicao']}\")\n",
        "\n",
        "if alien_0['speed'] == 'slow':\n",
        "    x_increment = 1\n",
        "elif alien_0['speed'] == 'medium':\n",
        "    x_increment = 2\n",
        "else:\n",
        "    x_increment = 3\n",
        "\n",
        "alien_0['x_posicao'] = alien_0['x_posicao'] + x_increment\n",
        "print(f\"New positio {alien_0['x_posicao']}\")        \n"
      ],
      "metadata": {
        "colab": {
          "base_uri": "https://localhost:8080/"
        },
        "id": "icHZNS-VVdBM",
        "outputId": "23907fe9-f479-461b-95c9-2750b4724330"
      },
      "execution_count": 10,
      "outputs": [
        {
          "output_type": "stream",
          "name": "stdout",
          "text": [
            "A posição original: 0\n",
            "New positio 2\n"
          ]
        }
      ]
    }
  ]
}