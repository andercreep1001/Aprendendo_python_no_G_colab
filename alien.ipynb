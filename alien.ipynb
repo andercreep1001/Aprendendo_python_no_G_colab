{
  "nbformat": 4,
  "nbformat_minor": 0,
  "metadata": {
    "colab": {
      "provenance": [],
      "authorship_tag": "ABX9TyP0/lYfruqdqzYn6EE45oHG",
      "include_colab_link": true
    },
    "kernelspec": {
      "name": "python3",
      "display_name": "Python 3"
    },
    "language_info": {
      "name": "python"
    }
  },
  "cells": [
    {
      "cell_type": "markdown",
      "metadata": {
        "id": "view-in-github",
        "colab_type": "text"
      },
      "source": [
        "<a href=\"https://colab.research.google.com/github/andercreep1001/Aprendendo_python_no_G_colab/blob/main/alien.ipynb\" target=\"_parent\"><img src=\"https://colab.research.google.com/assets/colab-badge.svg\" alt=\"Open In Colab\"/></a>"
      ]
    },
    {
      "cell_type": "markdown",
      "source": [
        "## Dicionario vazio\n"
      ],
      "metadata": {
        "id": "4OmrCMZAQAJF"
      }
    },
    {
      "cell_type": "code",
      "source": [
        "alien_0 = {}\n",
        "\n",
        "alien_0['cor'] = 'verde'\n",
        "alien_0['pontos'] = 5\n",
        "\n",
        "print(alien_0)\n"
      ],
      "metadata": {
        "colab": {
          "base_uri": "https://localhost:8080/"
        },
        "id": "WmIR4uXfQHhk",
        "outputId": "26871855-7024-4b93-d2d6-68224d117064"
      },
      "execution_count": 1,
      "outputs": [
        {
          "output_type": "stream",
          "name": "stdout",
          "text": [
            "{'cor': 'verde', 'pontos': 5}\n"
          ]
        }
      ]
    },
    {
      "cell_type": "code",
      "source": [
        "alien = {'color' : 'green'}\n",
        "print(f\"A cor é {alien['color']}\")\n",
        "\n",
        "alien['color'] = 'yelow'\n",
        "print(f\"{alien['color']}\")"
      ],
      "metadata": {
        "colab": {
          "base_uri": "https://localhost:8080/"
        },
        "id": "NwRpAu_6Qy90",
        "outputId": "6ed8b622-1a00-4592-bdc3-b2c228e351d2"
      },
      "execution_count": 9,
      "outputs": [
        {
          "output_type": "stream",
          "name": "stdout",
          "text": [
            "A cor é green\n",
            "yelow\n"
          ]
        }
      ]
    },
    {
      "cell_type": "code",
      "source": [
        "alien_0 = {'x_posicao':0, 'y_posicao':25, 'speed':'medium'}\n",
        "print(f\"A posição original: {alien_0['x_posicao']}\")\n",
        "\n",
        "if alien_0['speed'] == 'slow':\n",
        "    x_increment = 1\n",
        "elif alien_0['speed'] == 'medium':\n",
        "    x_increment = 2\n",
        "else:\n",
        "    x_increment = 3\n",
        "\n",
        "alien_0['x_posicao'] = alien_0['x_posicao'] + x_increment\n",
        "print(f\"New positio {alien_0['x_posicao']}\")        \n"
      ],
      "metadata": {
        "colab": {
          "base_uri": "https://localhost:8080/"
        },
        "id": "icHZNS-VVdBM",
        "outputId": "23907fe9-f479-461b-95c9-2750b4724330"
      },
      "execution_count": 10,
      "outputs": [
        {
          "output_type": "stream",
          "name": "stdout",
          "text": [
            "A posição original: 0\n",
            "New positio 2\n"
          ]
        }
      ]
    },
    {
      "cell_type": "code",
      "source": [
        "message = input(\"Diga-me algo: \")\n",
        "print(message)\n",
        "\n",
        "name = input(\"Coloque seu nome: \")\n",
        "print(f\"OLá, {name}\")"
      ],
      "metadata": {
        "colab": {
          "base_uri": "https://localhost:8080/"
        },
        "id": "Or0ITA5gm2bZ",
        "outputId": "5cbc3b24-cf29-4cff-cf02-38a541a3e288"
      },
      "execution_count": 12,
      "outputs": [
        {
          "output_type": "stream",
          "name": "stdout",
          "text": [
            "Diga-me algo: asd\n",
            "asd\n",
            "Coloque seu nome: tais[\n",
            "OLá, tais[\n"
          ]
        }
      ]
    },
    {
      "cell_type": "code",
      "source": [
        "prompt = \"Me diga quem é você? \"\n",
        "prompt += \"\\nQual é o seu nome? \"\n",
        "print(prompt)\n",
        "name = input(prompt)\n",
        "print(f\"\\nola {name}\")"
      ],
      "metadata": {
        "colab": {
          "base_uri": "https://localhost:8080/"
        },
        "id": "MjgFnO-bohA7",
        "outputId": "c9f00e12-be57-475c-c770-057814c23d74"
      },
      "execution_count": 16,
      "outputs": [
        {
          "output_type": "stream",
          "name": "stdout",
          "text": [
            "Me diga quem é você? \n",
            "Qual é o seu nome? \n",
            "Me diga quem é você? \n",
            "Qual é o seu nome? asd\n",
            "\n",
            "ola asd\n"
          ]
        }
      ]
    },
    {
      "cell_type": "code",
      "source": [
        "altura = input(\"qual a sua altura? \")\n",
        "altura = int(altura)\n",
        "\n",
        "if altura >= 48:\n",
        "    print(\"\\n ok\")\n",
        "else:\n",
        "    print(\"não\")"
      ],
      "metadata": {
        "colab": {
          "base_uri": "https://localhost:8080/"
        },
        "id": "4nGmgx66qHTE",
        "outputId": "ab6f7e13-f006-4f33-cfaa-f24494bb0339"
      },
      "execution_count": 19,
      "outputs": [
        {
          "output_type": "stream",
          "name": "stdout",
          "text": [
            "qual a sua altura? 48\n",
            "\n",
            " ok\n"
          ]
        }
      ]
    },
    {
      "cell_type": "code",
      "source": [
        "numero = int(input(\"o numero é impar ou par? \"))\n",
        "\n",
        "if numero % 2 == 0:\n",
        "    print(\"par\")\n",
        "else:\n",
        "    print(\"impar\")"
      ],
      "metadata": {
        "colab": {
          "base_uri": "https://localhost:8080/"
        },
        "id": "5ipCDuP2rFVW",
        "outputId": "80c300ca-810b-4834-be6e-2f0cbc1f22eb"
      },
      "execution_count": 23,
      "outputs": [
        {
          "output_type": "stream",
          "name": "stdout",
          "text": [
            "o numero é impar ou par? 88\n",
            "par\n"
          ]
        }
      ]
    },
    {
      "cell_type": "code",
      "source": [
        "def usuario():\n",
        "    print(\"ola!!\")\n",
        "\n",
        "usuario()\n",
        "\n",
        "def usuario2(nome):\n",
        "    print(f\"ola {nome}\")\n",
        "\n",
        "usuario2(\"Taís\")    "
      ],
      "metadata": {
        "colab": {
          "base_uri": "https://localhost:8080/"
        },
        "id": "kONym2sW04nG",
        "outputId": "349f028a-3348-4398-9f90-70fcaf594482"
      },
      "execution_count": 25,
      "outputs": [
        {
          "output_type": "stream",
          "name": "stdout",
          "text": [
            "ola!!\n",
            "ola Taís\n"
          ]
        }
      ]
    },
    {
      "cell_type": "code",
      "source": [
        "def animal(tipo, nome):\n",
        "    print(f\"\\nEu tenho um {tipo}\")\n",
        "    print(f\"\\nE o nome dele é: {nome}\")\n",
        "\n",
        "animal(\"gata\", \"Taís\")\n",
        "animal(\"cachorro\", \"anderson\")    "
      ],
      "metadata": {
        "colab": {
          "base_uri": "https://localhost:8080/"
        },
        "id": "yMU8Jr9212Xp",
        "outputId": "4c62c05a-d404-4479-80f4-798d63fd2872"
      },
      "execution_count": 27,
      "outputs": [
        {
          "output_type": "stream",
          "name": "stdout",
          "text": [
            "\n",
            "Eu tenho um gata\n",
            "\n",
            "E o nome dele é: Taís\n",
            "\n",
            "Eu tenho um cachorro\n",
            "\n",
            "E o nome dele é: anderson\n"
          ]
        }
      ]
    },
    {
      "cell_type": "code",
      "source": [
        "def formato_nome(nome, sobrenome):\n",
        "    completo = f\"{nome} {sobrenome}\"\n",
        "    return completo\n",
        "\n",
        "nome = formato_nome(\"Taís\", \"Nascimento\")\n",
        "print(nome)    "
      ],
      "metadata": {
        "colab": {
          "base_uri": "https://localhost:8080/"
        },
        "id": "W0RNX79z3yFT",
        "outputId": "dbf4b5f5-e5d5-4f6d-e271-b9fe5124a60e"
      },
      "execution_count": 29,
      "outputs": [
        {
          "output_type": "stream",
          "name": "stdout",
          "text": [
            "Taís Nascimento\n"
          ]
        }
      ]
    },
    {
      "cell_type": "code",
      "source": [
        "def nome_completo(primeiro, segundo, terceiro=''):\n",
        "    if terceiro:\n",
        "        completo = f\"{primeiro} {segundo} {terceiro}\"\n",
        "    else:\n",
        "        completo = f\"{primeiro} {segundo}\"\n",
        "\n",
        "    return completo    \n",
        "\n",
        "nome = nome_completo(\"Taís\", \"Nascimento\")\n",
        "print(nome)\n",
        "nome = nome_completo(\"Taís\", \"Nascimento\", \"Gata\")\n",
        "print(nome)            "
      ],
      "metadata": {
        "colab": {
          "base_uri": "https://localhost:8080/"
        },
        "id": "Z-baCPti4Wll",
        "outputId": "31650b04-518e-44fb-fa9f-f0d8deec2e8b"
      },
      "execution_count": 34,
      "outputs": [
        {
          "output_type": "stream",
          "name": "stdout",
          "text": [
            "Taís Nascimento\n",
            "Taís Nascimento Gata\n"
          ]
        }
      ]
    },
    {
      "cell_type": "code",
      "source": [
        "def criando_pessoa(nome, sobrenome):\n",
        "    pessoa = {'primeiro':nome, 'segundo':sobrenome}\n",
        "    return pessoa\n",
        "\n",
        "gata = criando_pessoa('Glauci','Santos')\n",
        "print(gata)    "
      ],
      "metadata": {
        "colab": {
          "base_uri": "https://localhost:8080/"
        },
        "id": "I5ZUMBhk51uk",
        "outputId": "9402c5c6-7894-4841-ba28-8cf147594914"
      },
      "execution_count": 36,
      "outputs": [
        {
          "output_type": "stream",
          "name": "stdout",
          "text": [
            "{'primeiro': 'Glauci', 'segundo': 'Santos'}\n"
          ]
        }
      ]
    }
  ]
}