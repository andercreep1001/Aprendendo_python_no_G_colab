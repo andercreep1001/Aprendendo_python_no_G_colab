{
  "nbformat": 4,
  "nbformat_minor": 0,
  "metadata": {
    "colab": {
      "name": "aprendendo.ipynb",
      "provenance": [],
      "authorship_tag": "ABX9TyOtIwakVmZxmdfx0A6ReE31",
      "include_colab_link": true
    },
    "kernelspec": {
      "name": "python3",
      "display_name": "Python 3"
    },
    "language_info": {
      "name": "python"
    }
  },
  "cells": [
    {
      "cell_type": "markdown",
      "metadata": {
        "id": "view-in-github",
        "colab_type": "text"
      },
      "source": [
        "<a href=\"https://colab.research.google.com/github/andercreep1001/Aprendendo_python_no_G_colab/blob/main/aprendendo.ipynb\" target=\"_parent\"><img src=\"https://colab.research.google.com/assets/colab-badge.svg\" alt=\"Open In Colab\"/></a>"
      ]
    },
    {
      "cell_type": "markdown",
      "source": [
        "Aprendendo algo\n"
      ],
      "metadata": {
        "id": "h7PRPSjh9GFK"
      }
    },
    {
      "cell_type": "code",
      "source": [
        "nome = \"agnes\"\n",
        "print(nome)\n",
        "print(nome.title())\n",
        "print(nome.upper())\n",
        "print(nome.lower())\n",
        "\n",
        "sobrenome = \"silva\"\n",
        "nome_todo = nome + \" \" + sobrenome\n",
        "print(nome_todo.title())"
      ],
      "metadata": {
        "colab": {
          "base_uri": "https://localhost:8080/"
        },
        "id": "4jo7Outw9M4m",
        "outputId": "b7338d74-f495-4f62-b52f-a7a4f94d6959"
      },
      "execution_count": 7,
      "outputs": [
        {
          "output_type": "stream",
          "name": "stdout",
          "text": [
            "agnes\n",
            "Agnes\n",
            "AGNES\n",
            "agnes\n",
            "Agnes Silva\n"
          ]
        }
      ]
    }
  ]
}