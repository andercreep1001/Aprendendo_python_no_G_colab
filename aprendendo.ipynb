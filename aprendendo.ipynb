{
  "nbformat": 4,
  "nbformat_minor": 0,
  "metadata": {
    "colab": {
      "name": "aprendendo.ipynb",
      "provenance": [],
      "authorship_tag": "ABX9TyMEulsU8XFCl18ChvIyVLr2",
      "include_colab_link": true
    },
    "kernelspec": {
      "name": "python3",
      "display_name": "Python 3"
    },
    "language_info": {
      "name": "python"
    }
  },
  "cells": [
    {
      "cell_type": "markdown",
      "metadata": {
        "id": "view-in-github",
        "colab_type": "text"
      },
      "source": [
        "<a href=\"https://colab.research.google.com/github/andercreep1001/Aprendendo_python_no_G_colab/blob/main/aprendendo.ipynb\" target=\"_parent\"><img src=\"https://colab.research.google.com/assets/colab-badge.svg\" alt=\"Open In Colab\"/></a>"
      ]
    },
    {
      "cell_type": "markdown",
      "source": [
        "Aprendendo algo\n"
      ],
      "metadata": {
        "id": "h7PRPSjh9GFK"
      }
    },
    {
      "cell_type": "code",
      "source": [
        "nome = \"agnes\"\n",
        "print(nome)\n",
        "print(nome.title())\n",
        "print(nome.upper())\n",
        "print(nome.lower())\n",
        "\n",
        "sobrenome = \"silva\"\n",
        "nome_todo = nome + \" \" + sobrenome\n",
        "print(nome_todo.title())\n",
        "print(\"Olá \" + nome_todo.title() + \"!\")\n",
        "print(\"\\t\" + nome)\n",
        "print(nome.rstrip())"
      ],
      "metadata": {
        "colab": {
          "base_uri": "https://localhost:8080/"
        },
        "id": "4jo7Outw9M4m",
        "outputId": "baf50faf-1e4d-49b4-adbb-8e5b70fe6b25"
      },
      "execution_count": 13,
      "outputs": [
        {
          "output_type": "stream",
          "name": "stdout",
          "text": [
            "agnes\n",
            "Agnes\n",
            "AGNES\n",
            "agnes\n",
            "Agnes Silva\n",
            "Olá Agnes Silva!\n",
            "\tagnes\n",
            "agnes\n"
          ]
        }
      ]
    },
    {
      "cell_type": "markdown",
      "source": [
        "Classes\n"
      ],
      "metadata": {
        "id": "AIbqau5REjD-"
      }
    },
    {
      "cell_type": "code",
      "source": [
        "class Dog:\n",
        "    def __init__(self, name, age):\n",
        "        self.name = name\n",
        "        self.age = age\n",
        "\n",
        "    def sentar(self):\n",
        "        print(self.name.title() + \" senta agora\")\n",
        "\n",
        "    def rolar(self):\n",
        "        print(self.name.title() + \" rola\")\n",
        "\n",
        "\n",
        "my_dog = Dog(\"toto\", 5)\n",
        "print(my_dog.name.title())  \n",
        "my_dog.rolar()\n",
        "my_dog.sentar()              "
      ],
      "metadata": {
        "colab": {
          "base_uri": "https://localhost:8080/"
        },
        "id": "TmXdkzhxEkWp",
        "outputId": "a20cd3ea-05e2-4a74-c27f-b95a8710b04c"
      },
      "execution_count": 21,
      "outputs": [
        {
          "output_type": "stream",
          "name": "stdout",
          "text": [
            "Toto\n",
            "Toto rola\n",
            "Toto senta agora\n"
          ]
        }
      ]
    },
    {
      "cell_type": "markdown",
      "source": [
        "-------------------------------------------\n",
        "\n",
        "classe carro"
      ],
      "metadata": {
        "id": "HIPAP2AQHbqn"
      }
    },
    {
      "cell_type": "code",
      "source": [
        "class Car:\n",
        "    def __init__(self, make, model, age):\n",
        "        self.make = make\n",
        "        self.model = model\n",
        "        self.age = age\n",
        "        self.odometer_reading = 0\n",
        "\n",
        "    def get_descricion_name(self):\n",
        "        long_name = self.make + ' '  + self.model + ' ' + str(self.age)\n",
        "        return long_name    \n",
        "\n",
        "    def read_odometer(self):\n",
        "        print(\"This is car has: \" + str(self.odometer_reading) + \" miles on it\") \n",
        "\n",
        "    def update_odometer(self, milege):\n",
        "        if milege >= self.odometer_reading:\n",
        "            self.odometer_reading = milege\n",
        "        else:\n",
        "            print('Seu carro aindo não rdou')\n",
        "\n",
        "    def incrment_ondometer(self, miles):\n",
        "        self.odometer_reading += miles\n",
        "\n",
        "\n",
        "my_car = Car(\"Fiat\", \"Palio Attract\", 2013)\n",
        "print(my_car.get_descricion_name())\n",
        "#my_car.odometer_reading = 53\n",
        "my_car.update_odometer(55)\n",
        "my_car.read_odometer()\n",
        "my_car.incrment_ondometer(50)\n",
        "my_car.read_odometer()"
      ],
      "metadata": {
        "colab": {
          "base_uri": "https://localhost:8080/"
        },
        "id": "0e_8BY2MHg26",
        "outputId": "2fb58a27-a8c0-4d8d-823b-a55e1cb4e6f5"
      },
      "execution_count": 47,
      "outputs": [
        {
          "output_type": "stream",
          "name": "stdout",
          "text": [
            "Fiat Palio Attract 2013\n",
            "This is car has: 55 miles on it\n",
            "This is car has: 105 miles on it\n"
          ]
        }
      ]
    }
  ]
}