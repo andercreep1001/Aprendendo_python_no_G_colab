{
  "nbformat": 4,
  "nbformat_minor": 0,
  "metadata": {
    "colab": {
      "name": "aprendendo.ipynb",
      "provenance": [],
      "authorship_tag": "ABX9TyNfDhoChEB8KHR5dkgQ5QuC",
      "include_colab_link": true
    },
    "kernelspec": {
      "name": "python3",
      "display_name": "Python 3"
    },
    "language_info": {
      "name": "python"
    }
  },
  "cells": [
    {
      "cell_type": "markdown",
      "metadata": {
        "id": "view-in-github",
        "colab_type": "text"
      },
      "source": [
        "<a href=\"https://colab.research.google.com/github/andercreep1001/Aprendendo_python_no_G_colab/blob/main/aprendendo.ipynb\" target=\"_parent\"><img src=\"https://colab.research.google.com/assets/colab-badge.svg\" alt=\"Open In Colab\"/></a>"
      ]
    },
    {
      "cell_type": "markdown",
      "source": [
        "Aprendendo algo\n"
      ],
      "metadata": {
        "id": "h7PRPSjh9GFK"
      }
    },
    {
      "cell_type": "code",
      "source": [
        "nome = \"agnes\"\n",
        "print(nome)\n",
        "print(nome.title())\n",
        "print(nome.upper())\n",
        "print(nome.lower())\n",
        "\n",
        "sobrenome = \"silva\"\n",
        "nome_todo = nome + \" \" + sobrenome\n",
        "print(nome_todo.title())\n",
        "print(\"Olá \" + nome_todo.title() + \"!\")\n",
        "print(\"\\t\" + nome)\n",
        "print(nome.rstrip())"
      ],
      "metadata": {
        "colab": {
          "base_uri": "https://localhost:8080/"
        },
        "id": "4jo7Outw9M4m",
        "outputId": "baf50faf-1e4d-49b4-adbb-8e5b70fe6b25"
      },
      "execution_count": 13,
      "outputs": [
        {
          "output_type": "stream",
          "name": "stdout",
          "text": [
            "agnes\n",
            "Agnes\n",
            "AGNES\n",
            "agnes\n",
            "Agnes Silva\n",
            "Olá Agnes Silva!\n",
            "\tagnes\n",
            "agnes\n"
          ]
        }
      ]
    },
    {
      "cell_type": "markdown",
      "source": [
        "Classes\n"
      ],
      "metadata": {
        "id": "AIbqau5REjD-"
      }
    },
    {
      "cell_type": "code",
      "source": [
        "class Dog:\n",
        "    def __init__(self, name, age):\n",
        "        self.name = name\n",
        "        self.age = age\n",
        "\n",
        "    def sentar(self):\n",
        "        print(self.name.title() + \"senta agora\")\n",
        "\n",
        "    def rolar(self):\n",
        "        print(self.name.title() + \" rola\")\n",
        "\n",
        "\n",
        "my_dog = Dog(\"toto\", 5)\n",
        "print(my_dog.name.title())  \n",
        "my_dog.rolar()\n",
        "my_dog.sentar()              "
      ],
      "metadata": {
        "colab": {
          "base_uri": "https://localhost:8080/"
        },
        "id": "TmXdkzhxEkWp",
        "outputId": "bed68cfb-d285-4313-d295-ab9b30bb6c84"
      },
      "execution_count": 20,
      "outputs": [
        {
          "output_type": "stream",
          "name": "stdout",
          "text": [
            "Toto\n",
            "Toto rola\n",
            "Totosenta agora\n"
          ]
        }
      ]
    }
  ]
}