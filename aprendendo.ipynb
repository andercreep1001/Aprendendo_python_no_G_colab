{
  "nbformat": 4,
  "nbformat_minor": 0,
  "metadata": {
    "colab": {
      "name": "aprendendo.ipynb",
      "provenance": [],
      "authorship_tag": "ABX9TyPGVUi90qcATM6QdZKvnavA",
      "include_colab_link": true
    },
    "kernelspec": {
      "name": "python3",
      "display_name": "Python 3"
    },
    "language_info": {
      "name": "python"
    }
  },
  "cells": [
    {
      "cell_type": "markdown",
      "metadata": {
        "id": "view-in-github",
        "colab_type": "text"
      },
      "source": [
        "<a href=\"https://colab.research.google.com/github/andercreep1001/Aprendendo_python_no_G_colab/blob/main/aprendendo.ipynb\" target=\"_parent\"><img src=\"https://colab.research.google.com/assets/colab-badge.svg\" alt=\"Open In Colab\"/></a>"
      ]
    },
    {
      "cell_type": "markdown",
      "source": [
        "Aprendendo algo\n"
      ],
      "metadata": {
        "id": "h7PRPSjh9GFK"
      }
    },
    {
      "cell_type": "code",
      "source": [
        "nome = \"agnes silva\"\n",
        "print(nome)\n",
        "print(nome.title())\n",
        "print(nome.upper())\n",
        "print(nome.lower())"
      ],
      "metadata": {
        "colab": {
          "base_uri": "https://localhost:8080/"
        },
        "id": "4jo7Outw9M4m",
        "outputId": "f8e0970a-4545-4ed5-eba2-cd8c321c65a7"
      },
      "execution_count": 4,
      "outputs": [
        {
          "output_type": "stream",
          "name": "stdout",
          "text": [
            "agnes silva\n",
            "Agnes Silva\n",
            "AGNES SILVA\n",
            "agnes silva\n"
          ]
        }
      ]
    }
  ]
}