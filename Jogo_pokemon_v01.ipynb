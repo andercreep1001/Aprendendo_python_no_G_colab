{
  "nbformat": 4,
  "nbformat_minor": 0,
  "metadata": {
    "colab": {
      "name": "Jogo_pokemon_v01.ipynb",
      "provenance": [],
      "authorship_tag": "ABX9TyNOnK1mUX99anSOA4oYQj5+",
      "include_colab_link": true
    },
    "kernelspec": {
      "name": "python3",
      "display_name": "Python 3"
    },
    "language_info": {
      "name": "python"
    }
  },
  "cells": [
    {
      "cell_type": "markdown",
      "metadata": {
        "id": "view-in-github",
        "colab_type": "text"
      },
      "source": [
        "<a href=\"https://colab.research.google.com/github/andercreep1001/Aprendendo_python_no_G_colab/blob/main/Jogo_pokemon_v01.ipynb\" target=\"_parent\"><img src=\"https://colab.research.google.com/assets/colab-badge.svg\" alt=\"Open In Colab\"/></a>"
      ]
    },
    {
      "cell_type": "markdown",
      "metadata": {
        "id": "RdWzzW3A0xOe"
      },
      "source": [
        "# ***Jogo Pokemon V0.1***"
      ]
    },
    {
      "cell_type": "code",
      "metadata": {
        "colab": {
          "base_uri": "https://localhost:8080/"
        },
        "id": "B-FrzZw10-DB",
        "outputId": "c9853c94-aeb8-4ad0-decd-46b7bb253eea"
      },
      "source": [
        "class Pokemon:\n",
        "  def __init__(self, especie, level=1, nome=None):\n",
        "    self.especie = especie\n",
        "    self.nome = nome\n",
        "    self.level = level\n",
        "\n",
        "    if nome:\n",
        "      self.nome = nome\n",
        "    else:\n",
        "      self.nome = especie  \n",
        "\n",
        "  def __str__(self):\n",
        "    return f\"{self.nome}(nivel-{self.level})\"\n",
        "\n",
        "  def atacar(self, pokemon):\n",
        "    print(f\"{self} atacou {pokemon}\")  \n",
        "#------------------------------------------------------------------------------#    \n",
        "\n",
        "class PokemonEletrico(Pokemon):\n",
        "  tipo = \"eletrico\"\n",
        "  \n",
        "  def atacar(self, pokemon):\n",
        "    print(f\"{self} lançou um choque eletrico no {pokemon}\")  \n",
        "#------------------------------------------------------------------------------#\n",
        "\n",
        "\n",
        "class PokemonFogo(Pokemon):\n",
        "  tipo = 'fogo'\n",
        "  \n",
        "  def atacar(self, pokemon):\n",
        "    print(f\"{self} lançou uma bola de fogo no {pokemon}\")\n",
        "#------------------------------------------------------------------------------#\n",
        "\n",
        "\n",
        "class PokemonAgua(Pokemon):\n",
        "  tipo = 'agua'\n",
        "\n",
        "  def atacar():\n",
        "    print(f\"{self} lançou um jato de água no {pokemon}\")\n",
        "#------------------------------------------------------------------------------#    \n",
        "\n",
        "\n",
        "meu_pokemon = Pokemon('Charmander')\n",
        "tais_pokemon = PokemonEletrico('Pikachu')\n",
        "\n",
        "#print(meu_pokemon.atacar(tais_pokemon))\n",
        "print(tais_pokemon, tais_pokemon.tipo)\n",
        "tais_pokemon.atacar(meu_pokemon)"
      ],
      "execution_count": 29,
      "outputs": [
        {
          "output_type": "stream",
          "text": [
            "Pikachu(nivel-1) eletrico\n",
            "Pikachu(nivel-1) lançou um choque eletrico no Charmander(nivel-1)\n"
          ],
          "name": "stdout"
        }
      ]
    }
  ]
}