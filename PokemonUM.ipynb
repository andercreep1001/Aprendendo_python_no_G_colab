{
  "nbformat": 4,
  "nbformat_minor": 0,
  "metadata": {
    "colab": {
      "provenance": [],
      "authorship_tag": "ABX9TyMRWxD9eRvQeY34JJzH+uv3",
      "include_colab_link": true
    },
    "kernelspec": {
      "name": "python3",
      "display_name": "Python 3"
    },
    "language_info": {
      "name": "python"
    }
  },
  "cells": [
    {
      "cell_type": "markdown",
      "metadata": {
        "id": "view-in-github",
        "colab_type": "text"
      },
      "source": [
        "<a href=\"https://colab.research.google.com/github/andercreep1001/Aprendendo_python_no_G_colab/blob/main/PokemonUM.ipynb\" target=\"_parent\"><img src=\"https://colab.research.google.com/assets/colab-badge.svg\" alt=\"Open In Colab\"/></a>"
      ]
    },
    {
      "cell_type": "code",
      "execution_count": null,
      "metadata": {
        "id": "utBDKHabxvqI",
        "colab": {
          "base_uri": "https://localhost:8080/"
        },
        "outputId": "7ea4cdbf-fa27-448f-c653-b169f0fd5c25"
      },
      "outputs": [
        {
          "output_type": "stream",
          "name": "stdout",
          "text": [
            "Pikachu agua (1)\n"
          ]
        }
      ],
      "source": [
        "class Pokemon:\n",
        "    def __init__(self, tipo, especi, level=1, nome=None):\n",
        "        self.tipo = tipo\n",
        "        self.especi = especi\n",
        "        self.nome = nome\n",
        "        self.level = level\n",
        "\n",
        "        if nome:\n",
        "            self.nome = nome\n",
        "        else:\n",
        "            self.nome = especi            \n",
        "\n",
        "    def __str__(self):\n",
        "        return f\"{self.especi} {self.tipo} {self.nome} ({self.level})\"\n",
        "\n",
        "    def atacar(self):\n",
        "        print(f\"{self} atacou\")\n",
        "        print(f\"{self.especi} atacouuu\")\n",
        "\n",
        "    def atacou(self, pokemon):\n",
        "        print(f\"{self.especi} atacou {pokemon.especi}\")        \n",
        "\n",
        "\n",
        "\n",
        "class PokemonEletrico(Pokemon):\n",
        "    def atacar(self):\n",
        "        return super().atacar()\n",
        "\n",
        "\n",
        "\n",
        "pok_eletrico = PokemonEletrico(\"Pikachu\", \"eletrico\", 11, \"Taís\")\n",
        "print(pok_amigo)"
      ]
    },
    {
      "cell_type": "code",
      "source": [],
      "metadata": {
        "id": "0FFNojTD0RjQ"
      },
      "execution_count": null,
      "outputs": []
    },
    {
      "cell_type": "code",
      "source": [],
      "metadata": {
        "id": "PT1TJkzi0R47"
      },
      "execution_count": null,
      "outputs": []
    },
    {
      "cell_type": "code",
      "source": [],
      "metadata": {
        "id": "bgNFCboE0SLa"
      },
      "execution_count": null,
      "outputs": []
    },
    {
      "cell_type": "code",
      "source": [],
      "metadata": {
        "id": "HYOm27Th0SlK"
      },
      "execution_count": null,
      "outputs": []
    }
  ]
}