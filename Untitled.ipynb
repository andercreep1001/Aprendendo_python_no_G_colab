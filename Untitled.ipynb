{
  "nbformat": 4,
  "nbformat_minor": 0,
  "metadata": {
    "colab": {
      "provenance": [],
      "authorship_tag": "ABX9TyMUB6DhynLgppOokGc6HrTb",
      "include_colab_link": true
    },
    "kernelspec": {
      "name": "python3",
      "display_name": "Python 3"
    },
    "language_info": {
      "name": "python"
    }
  },
  "cells": [
    {
      "cell_type": "markdown",
      "metadata": {
        "id": "view-in-github",
        "colab_type": "text"
      },
      "source": [
        "<a href=\"https://colab.research.google.com/github/andercreep1001/Aprendendo_python_no_G_colab/blob/main/Untitled.ipynb\" target=\"_parent\"><img src=\"https://colab.research.google.com/assets/colab-badge.svg\" alt=\"Open In Colab\"/></a>"
      ]
    },
    {
      "cell_type": "code",
      "execution_count": null,
      "metadata": {
        "colab": {
          "base_uri": "https://localhost:8080/"
        },
        "id": "9PbIXeVZm_y-",
        "outputId": "fb8feee7-f658-423d-ba0d-f161aa81c354"
      },
      "outputs": [
        {
          "output_type": "stream",
          "name": "stdout",
          "text": [
            "Taís\n"
          ]
        }
      ],
      "source": [
        "print(\"Taís\")"
      ]
    },
    {
      "cell_type": "code",
      "source": [
        "nome = input(\"Digite seu nome: \")\n",
        "cpf = input(\"Digite seu CPF: \")\n",
        "idade = input(\"Qual sua idade: \")\n",
        "\n",
        "print('------------------------------------------')\n",
        "\n",
        "print(\"Confirmação de cadastro\")\n",
        "print(nome)\n",
        "print(cpf)\n",
        "print(idade)\n",
        "\n",
        "print('------------------------------------------')"
      ],
      "metadata": {
        "colab": {
          "base_uri": "https://localhost:8080/"
        },
        "id": "d1oQAcuInMBE",
        "outputId": "265c19d9-396a-4076-9c72-402663b3d55b"
      },
      "execution_count": null,
      "outputs": [
        {
          "output_type": "stream",
          "name": "stdout",
          "text": [
            "Digite seu nome: ddddd\n",
            "Digite seu CPF: ddddddddddddddd\n",
            "Qual sua idade: dd\n",
            "------------------------------------------\n",
            "Confirmação de cadastro\n",
            "ddddd\n",
            "ddddddddddddddd\n",
            "dd\n",
            "------------------------------------------\n"
          ]
        }
      ]
    },
    {
      "cell_type": "code",
      "source": [
        "soma = int(input())\n",
        "soma2 = int(input())\n",
        "calc = soma + soma2\n",
        "dif = soma / soma2\n",
        "print(\"Soma: {0} + {1} = {2}\". format(soma,soma2,calc))\n",
        "print(int(dif))"
      ],
      "metadata": {
        "colab": {
          "base_uri": "https://localhost:8080/"
        },
        "id": "HbcX1mG4obZ-",
        "outputId": "6813d2d6-49b4-4b9e-fdd5-3713fe2d28bf"
      },
      "execution_count": null,
      "outputs": [
        {
          "output_type": "stream",
          "name": "stdout",
          "text": [
            "4\n",
            "2\n",
            "Soma: 4 + 2 = 6\n",
            "2\n"
          ]
        }
      ]
    },
    {
      "cell_type": "code",
      "source": [],
      "metadata": {
        "colab": {
          "base_uri": "https://localhost:8080/",
          "height": 165
        },
        "id": "sYLbdboA2pPY",
        "outputId": "16834e43-377e-4922-eed3-ebc71c8a7cb6"
      },
      "execution_count": 3,
      "outputs": [
        {
          "output_type": "error",
          "ename": "NameError",
          "evalue": "ignored",
          "traceback": [
            "\u001b[0;31m---------------------------------------------------------------------------\u001b[0m",
            "\u001b[0;31mNameError\u001b[0m                                 Traceback (most recent call last)",
            "\u001b[0;32m<ipython-input-3-3f635663dc27>\u001b[0m in \u001b[0;36m<module>\u001b[0;34m\u001b[0m\n\u001b[0;32m----> 1\u001b[0;31m \u001b[0mpython3\u001b[0m \u001b[0;34m-\u001b[0m\u001b[0;34m-\u001b[0m\u001b[0mversion\u001b[0m\u001b[0;34m\u001b[0m\u001b[0;34m\u001b[0m\u001b[0m\n\u001b[0m",
            "\u001b[0;31mNameError\u001b[0m: name 'python3' is not defined"
          ]
        }
      ]
    }
  ]
}