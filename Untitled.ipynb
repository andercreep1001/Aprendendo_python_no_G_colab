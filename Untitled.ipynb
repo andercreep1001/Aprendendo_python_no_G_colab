{
  "nbformat": 4,
  "nbformat_minor": 0,
  "metadata": {
    "colab": {
      "provenance": [],
      "authorship_tag": "ABX9TyPaFocBSg2w5+WK+kZo0hBf",
      "include_colab_link": true
    },
    "kernelspec": {
      "name": "python3",
      "display_name": "Python 3"
    },
    "language_info": {
      "name": "python"
    }
  },
  "cells": [
    {
      "cell_type": "markdown",
      "metadata": {
        "id": "view-in-github",
        "colab_type": "text"
      },
      "source": [
        "<a href=\"https://colab.research.google.com/github/andercreep1001/Aprendendo_python_no_G_colab/blob/main/Untitled.ipynb\" target=\"_parent\"><img src=\"https://colab.research.google.com/assets/colab-badge.svg\" alt=\"Open In Colab\"/></a>"
      ]
    },
    {
      "cell_type": "code",
      "execution_count": null,
      "metadata": {
        "colab": {
          "base_uri": "https://localhost:8080/"
        },
        "id": "9PbIXeVZm_y-",
        "outputId": "fb8feee7-f658-423d-ba0d-f161aa81c354"
      },
      "outputs": [
        {
          "output_type": "stream",
          "name": "stdout",
          "text": [
            "Taís\n"
          ]
        }
      ],
      "source": [
        "print(\"Taís\")"
      ]
    },
    {
      "cell_type": "code",
      "source": [
        "nome = input(\"Digite seu nome: \")\n",
        "cpf = input(\"Digite seu CPF: \")\n",
        "idade = input(\"Qual sua idade: \")\n",
        "\n",
        "print('------------------------------------------')\n",
        "\n",
        "print(\"Confirmação de cadastro\")\n",
        "print(nome)\n",
        "print(cpf)\n",
        "print(idade)\n",
        "\n",
        "print('------------------------------------------')"
      ],
      "metadata": {
        "colab": {
          "base_uri": "https://localhost:8080/"
        },
        "id": "d1oQAcuInMBE",
        "outputId": "265c19d9-396a-4076-9c72-402663b3d55b"
      },
      "execution_count": null,
      "outputs": [
        {
          "output_type": "stream",
          "name": "stdout",
          "text": [
            "Digite seu nome: ddddd\n",
            "Digite seu CPF: ddddddddddddddd\n",
            "Qual sua idade: dd\n",
            "------------------------------------------\n",
            "Confirmação de cadastro\n",
            "ddddd\n",
            "ddddddddddddddd\n",
            "dd\n",
            "------------------------------------------\n"
          ]
        }
      ]
    },
    {
      "cell_type": "code",
      "source": [
        "soma = int(input())\n",
        "soma2 = int(input())\n",
        "calc = soma + soma2\n",
        "dif = soma / soma2\n",
        "print(\"Soma: {0} + {1} = {2}\". format(soma,soma2,calc))\n",
        "print(int(dif))"
      ],
      "metadata": {
        "colab": {
          "base_uri": "https://localhost:8080/"
        },
        "id": "HbcX1mG4obZ-",
        "outputId": "6813d2d6-49b4-4b9e-fdd5-3713fe2d28bf"
      },
      "execution_count": null,
      "outputs": [
        {
          "output_type": "stream",
          "name": "stdout",
          "text": [
            "4\n",
            "2\n",
            "Soma: 4 + 2 = 6\n",
            "2\n"
          ]
        }
      ]
    },
    {
      "cell_type": "code",
      "source": [
        "a = 55\n",
        "b = 65\n",
        "\n",
        "print(a + b)\n",
        "print() "
      ],
      "metadata": {
        "colab": {
          "base_uri": "https://localhost:8080/"
        },
        "id": "sYLbdboA2pPY",
        "outputId": "7fe381b9-6ed7-4323-87f9-bc692d6326ae"
      },
      "execution_count": 8,
      "outputs": [
        {
          "output_type": "stream",
          "name": "stdout",
          "text": [
            "120\n",
            "\n"
          ]
        }
      ]
    },
    {
      "cell_type": "code",
      "source": [
        "men = 'mensagem'\n",
        "num = 10\n",
        "\n",
        "print(men, num)\n",
        "\n",
        "\n",
        "10/3\n",
        "\n",
        "x = 10\n",
        "x = x + 1\n",
        "x += 5\n",
        "x -= 2\n",
        "#x /= 2\n",
        "x *= 3\n",
        "x //= 10\n",
        "print(x)"
      ],
      "metadata": {
        "colab": {
          "base_uri": "https://localhost:8080/"
        },
        "id": "c0Lfn44rA3nb",
        "outputId": "e621af2b-7032-4085-c798-f6d054342bec"
      },
      "execution_count": 24,
      "outputs": [
        {
          "output_type": "stream",
          "name": "stdout",
          "text": [
            "mensagem 10\n",
            "4\n"
          ]
        }
      ]
    },
    {
      "cell_type": "code",
      "source": [
        "q = 10\n",
        "q == 10\n",
        "q != 10\n",
        "q < 10\n",
        "q > 10\n",
        "q <= 10\n",
        "q >= 10\n"
      ],
      "metadata": {
        "colab": {
          "base_uri": "https://localhost:8080/"
        },
        "id": "UUAldRUOCSGc",
        "outputId": "30330cb6-3129-4a7d-fdf6-688255afd276"
      },
      "execution_count": 31,
      "outputs": [
        {
          "output_type": "execute_result",
          "data": {
            "text/plain": [
              "True"
            ]
          },
          "metadata": {},
          "execution_count": 31
        }
      ]
    },
    {
      "cell_type": "code",
      "source": [
        "texto = 'Ola mundo doido porra!!'\n",
        "texto2 = \" ç \"\n",
        "texto.upper()\n",
        "texto.split(',')\n",
        "texto2.lstrip()\n",
        "texto2.rstrip()\n",
        "texto.replace(',', '!')\n",
        "#print(texto)"
      ],
      "metadata": {
        "colab": {
          "base_uri": "https://localhost:8080/",
          "height": 35
        },
        "id": "NvBp2G2ZC5JV",
        "outputId": "b74fb3b1-d753-4f83-8a63-516bbcd36be7"
      },
      "execution_count": 48,
      "outputs": [
        {
          "output_type": "execute_result",
          "data": {
            "text/plain": [
              "'Ola mundo doido porra!!'"
            ],
            "application/vnd.google.colaboratory.intrinsic+json": {
              "type": "string"
            }
          },
          "metadata": {},
          "execution_count": 48
        }
      ]
    },
    {
      "cell_type": "code",
      "source": [
        "nome = 'Taís Nascimento Gata'\n",
        "fone = 123456987\n",
        "\n",
        "print(\"Seu é: {}, fone: {}\".format(nome, fone))\n",
        "\n",
        "print(f\"Seu nome é {nome}, fone: {fone}\")\n"
      ],
      "metadata": {
        "colab": {
          "base_uri": "https://localhost:8080/"
        },
        "id": "P8H-9AL4FEhG",
        "outputId": "646d5f9e-9702-41c3-c0e3-68c76fdf7f28"
      },
      "execution_count": 50,
      "outputs": [
        {
          "output_type": "stream",
          "name": "stdout",
          "text": [
            "Seu é: Taís Nascimento Gata, fone: 123456987\n",
            "Seu nome é Taís Nascimento Gata, fone: 123456987\n"
          ]
        }
      ]
    },
    {
      "cell_type": "code",
      "source": [
        "if 5 > 4:\n",
        "    print(\"ok\")\n",
        "\n",
        "x = 4\n",
        "y = 6\n",
        "if x < y:\n",
        "    print(x, \"è menor que \", y)\n",
        "    \n",
        "        "
      ],
      "metadata": {
        "colab": {
          "base_uri": "https://localhost:8080/"
        },
        "id": "e0Jf6mpjHCGd",
        "outputId": "059901ab-cabb-486e-b6ca-45b8fac30805"
      },
      "execution_count": 53,
      "outputs": [
        {
          "output_type": "stream",
          "name": "stdout",
          "text": [
            "ok\n",
            "4 è menor que  6\n"
          ]
        }
      ]
    },
    {
      "cell_type": "code",
      "source": [
        "nome = \"Tais\"\n",
        "if nome == \"Agnes\":\n",
        "    print(\"seu é: \", nome)\n",
        "else:\n",
        "    print(\"Agnes\")    \n",
        "\n"
      ],
      "metadata": {
        "colab": {
          "base_uri": "https://localhost:8080/"
        },
        "id": "CjKE2QZfJCa4",
        "outputId": "a0aef071-f6a4-4d84-953e-5ba72e95cbee"
      },
      "execution_count": 56,
      "outputs": [
        {
          "output_type": "stream",
          "name": "stdout",
          "text": [
            "Agnes\n"
          ]
        }
      ]
    }
  ]
}