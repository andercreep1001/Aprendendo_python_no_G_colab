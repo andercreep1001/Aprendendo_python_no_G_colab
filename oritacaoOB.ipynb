{
  "nbformat": 4,
  "nbformat_minor": 0,
  "metadata": {
    "colab": {
      "name": "oritacaoOB.ipynb",
      "provenance": [],
      "authorship_tag": "ABX9TyNn0/QyA/A/mtNrQDqyJJ1R",
      "include_colab_link": true
    },
    "kernelspec": {
      "name": "python3",
      "display_name": "Python 3"
    },
    "language_info": {
      "name": "python"
    }
  },
  "cells": [
    {
      "cell_type": "markdown",
      "metadata": {
        "id": "view-in-github",
        "colab_type": "text"
      },
      "source": [
        "<a href=\"https://colab.research.google.com/github/andercreep1001/Aprendendo_python_no_G_colab/blob/main/oritacaoOB.ipynb\" target=\"_parent\"><img src=\"https://colab.research.google.com/assets/colab-badge.svg\" alt=\"Open In Colab\"/></a>"
      ]
    },
    {
      "cell_type": "markdown",
      "source": [
        "orientação a Objeto\n"
      ],
      "metadata": {
        "id": "sHRIm-UR-69L"
      }
    },
    {
      "cell_type": "code",
      "source": [
        "conta = {\"numero\":\"123-4\", \"titula\":\"agnes\", \"saldo\":120.00, \"limete\":1000.00}\n",
        "print(conta['numero'])\n",
        "print(conta['titula'])\n",
        "print(conta['saldo'])\n",
        "\n",
        "def criar_conta(numero, titular, saldo, limite):\n",
        "   conta = {\"numero\":numero, \"titula\":titular, \"saldo\":saldo, \"limete\":limite}\n",
        "   return conta\n",
        "\n",
        "def depositar(conta, valor):\n",
        "    conta['saldo'] += valor\n",
        "\n",
        "def sacar(conta, valor):\n",
        "    conta['saldo'] -= valor       \n",
        "\n",
        "conta1 = criar_conta(\"123-5\", \"glauci\", 500.00, 1500.00)\n",
        "print(conta1)\n",
        "\n",
        "depositar(conta1, 50.00)\n",
        "sacar(conta1, 350.00)\n",
        "print(conta1)"
      ],
      "metadata": {
        "colab": {
          "base_uri": "https://localhost:8080/"
        },
        "id": "rBB315K6-_YV",
        "outputId": "ca92d7e1-06e0-4207-9cbb-fc058b0f004e"
      },
      "execution_count": 7,
      "outputs": [
        {
          "output_type": "stream",
          "name": "stdout",
          "text": [
            "123-4\n",
            "agnes\n",
            "120.0\n",
            "{'numero': '123-5', 'titula': 'glauci', 'saldo': 500.0, 'limete': 1500.0}\n",
            "{'numero': '123-5', 'titula': 'glauci', 'saldo': 200.0, 'limete': 1500.0}\n"
          ]
        }
      ]
    }
  ]
}