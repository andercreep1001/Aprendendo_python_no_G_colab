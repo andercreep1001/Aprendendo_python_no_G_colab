{
  "nbformat": 4,
  "nbformat_minor": 0,
  "metadata": {
    "colab": {
      "provenance": [],
      "authorship_tag": "ABX9TyOBBOyZC2hs72y6h/7FZ4YN",
      "include_colab_link": true
    },
    "kernelspec": {
      "name": "python3",
      "display_name": "Python 3"
    },
    "language_info": {
      "name": "python"
    }
  },
  "cells": [
    {
      "cell_type": "markdown",
      "metadata": {
        "id": "view-in-github",
        "colab_type": "text"
      },
      "source": [
        "<a href=\"https://colab.research.google.com/github/andercreep1001/Aprendendo_python_no_G_colab/blob/main/teste_conta.ipynb\" target=\"_parent\"><img src=\"https://colab.research.google.com/assets/colab-badge.svg\" alt=\"Open In Colab\"/></a>"
      ]
    },
    {
      "cell_type": "code",
      "execution_count": 19,
      "metadata": {
        "colab": {
          "base_uri": "https://localhost:8080/"
        },
        "id": "HiQk6aF0aAOT",
        "outputId": "d702206f-63a0-45af-c65d-01891d644113"
      },
      "outputs": [
        {
          "output_type": "stream",
          "name": "stdout",
          "text": [
            "{'numero': '123-7', 'titular': 'Glauci', 'saldo': 1500.0, 'limite': 2500.0}\n",
            "{'numero': '123-7', 'titular': 'Glauci', 'saldo': 7000.0, 'limite': 2500.0}\n",
            "{'numero': '123-7', 'titular': 'Glauci', 'saldo': 5000.0, 'limite': 2500.0}\n",
            "conta: \t123-7 \n",
            "Titular: Glauci \n",
            "Saldo: \t-1000.0\n"
          ]
        }
      ],
      "source": [
        "def criar_conta(numero, titular, saldo, limite):\n",
        "    conta = {'numero':numero, 'titular':titular, 'saldo':saldo, 'limite':limite}\n",
        "    return conta\n",
        "\n",
        "def depositar(conta, valor):\n",
        "    conta['saldo'] += valor\n",
        "\n",
        "def sacar(conta, valor):\n",
        "    conta['saldo'] -= valor\n",
        "\n",
        "def extrato(conta):\n",
        "    print(f\"conta: \\t{conta['numero']} \\nTitular: {conta['titular']} \\nSaldo: \\t{conta['saldo']}\")\n",
        "#_____________________________________________________________\n",
        "\n",
        "conta = criar_conta('123-7', 'Glauci', 1500.00, 2500.00)\n",
        "print(conta)\n",
        "depositar(conta, 5500.00)\n",
        "print(conta)\n",
        "sacar(conta, 2000.00)\n",
        "print(conta)\n",
        "sacar(conta, 6000.00)\n",
        "extrato(conta)"
      ]
    }
  ]
}