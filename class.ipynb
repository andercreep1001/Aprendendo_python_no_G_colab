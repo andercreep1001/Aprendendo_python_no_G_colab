{
  "nbformat": 4,
  "nbformat_minor": 0,
  "metadata": {
    "colab": {
      "provenance": [],
      "authorship_tag": "ABX9TyO6wP3d6Bq6vAnwHcMheeBn",
      "include_colab_link": true
    },
    "kernelspec": {
      "name": "python3",
      "display_name": "Python 3"
    },
    "language_info": {
      "name": "python"
    }
  },
  "cells": [
    {
      "cell_type": "markdown",
      "metadata": {
        "id": "view-in-github",
        "colab_type": "text"
      },
      "source": [
        "<a href=\"https://colab.research.google.com/github/andercreep1001/Aprendendo_python_no_G_colab/blob/main/class.ipynb\" target=\"_parent\"><img src=\"https://colab.research.google.com/assets/colab-badge.svg\" alt=\"Open In Colab\"/></a>"
      ]
    },
    {
      "cell_type": "code",
      "execution_count": null,
      "metadata": {
        "colab": {
          "base_uri": "https://localhost:8080/"
        },
        "id": "qA9SOazaQflS",
        "outputId": "ca40d0cc-c486-4c90-cbb5-5399f6f97038"
      },
      "outputs": [
        {
          "output_type": "stream",
          "name": "stdout",
          "text": [
            "toto\n",
            "4\n",
            "Senta toto\n",
            "None\n",
            "rola toto\n"
          ]
        }
      ],
      "source": [
        "class Dog:\n",
        "    def __init__(self, nome, idade):\n",
        "        self.nome = nome\n",
        "        self.idade = idade\n",
        "\n",
        "    def senta(self):\n",
        "        print(f\"Senta {self.nome}\")\n",
        "\n",
        "    def rola(self):\n",
        "        print(f\"rola {self.nome}\")    \n",
        "\n",
        "\n",
        "meu_dog = Dog('toto',4)\n",
        "print(meu_dog.nome)\n",
        "print(meu_dog.idade)\n",
        "print(meu_dog.senta())\n",
        "meu_dog.rola()            "
      ]
    },
    {
      "cell_type": "code",
      "source": [
        "class Carro:\n",
        "    def __init__(self, marca, modelo, ano):\n",
        "        self.marca = marca\n",
        "        self.modelo = modelo\n",
        "        self.ano = ano\n",
        "\n",
        "    def descricaoCarro(self):\n",
        "        nomeCompleto = f\"{self.ano} {self.marca} {self.modelo}\"\n",
        "        return nomeCompleto.title()\n",
        "\n",
        "\n",
        "meu_carro_novo = Carro('audi', 'a4', 2019)\n",
        "print(meu_carro_novo.descricaoCarro())\n"
      ],
      "metadata": {
        "colab": {
          "base_uri": "https://localhost:8080/"
        },
        "id": "9oQtuH7FRhs0",
        "outputId": "6fb7b9aa-943b-4edd-8cc6-5d2fb6a92903"
      },
      "execution_count": 2,
      "outputs": [
        {
          "output_type": "stream",
          "name": "stdout",
          "text": [
            "2019 Audi A4\n"
          ]
        }
      ]
    }
  ]
}