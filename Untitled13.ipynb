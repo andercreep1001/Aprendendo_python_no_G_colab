{
  "nbformat": 4,
  "nbformat_minor": 0,
  "metadata": {
    "colab": {
      "name": "Untitled13.ipynb",
      "provenance": [],
      "authorship_tag": "ABX9TyPlzzyD08CQjjh+DENorslZ",
      "include_colab_link": true
    },
    "kernelspec": {
      "name": "python3",
      "display_name": "Python 3"
    },
    "language_info": {
      "name": "python"
    }
  },
  "cells": [
    {
      "cell_type": "markdown",
      "metadata": {
        "id": "view-in-github",
        "colab_type": "text"
      },
      "source": [
        "<a href=\"https://colab.research.google.com/github/andercreep1001/Aprendendo_python_no_G_colab/blob/main/Untitled13.ipynb\" target=\"_parent\"><img src=\"https://colab.research.google.com/assets/colab-badge.svg\" alt=\"Open In Colab\"/></a>"
      ]
    },
    {
      "cell_type": "markdown",
      "source": [
        "Classes e objetos"
      ],
      "metadata": {
        "id": "NoNzR4qhvq16"
      }
    },
    {
      "cell_type": "code",
      "source": [
        "class Pokemon:\n",
        "    tipo = \"fogo\"\n",
        "    especie = \"charmander\"\n",
        "\n",
        "meu_pokemon = Pokemon()\n",
        "print(type(meu_pokemon))    \n"
      ],
      "metadata": {
        "colab": {
          "base_uri": "https://localhost:8080/"
        },
        "id": "vU5FkePNvu3_",
        "outputId": "4384f261-9f07-4fc1-e5f3-08238442b261"
      },
      "execution_count": 1,
      "outputs": [
        {
          "output_type": "stream",
          "name": "stdout",
          "text": [
            "<class '__main__.Pokemon'>\n"
          ]
        }
      ]
    },
    {
      "cell_type": "code",
      "source": [
        "class Pokemon:\n",
        "    def __init__(self):\n",
        "        print(\"inicializando....\")\n",
        "\n",
        "meu_pokemon = Pokemon()        "
      ],
      "metadata": {
        "colab": {
          "base_uri": "https://localhost:8080/"
        },
        "id": "Xvt8jSHKwtk_",
        "outputId": "b2bdf4e5-79e2-4a09-ea5e-6597b693ab2a"
      },
      "execution_count": 3,
      "outputs": [
        {
          "output_type": "stream",
          "name": "stdout",
          "text": [
            "inicializando....\n"
          ]
        }
      ]
    },
    {
      "cell_type": "code",
      "source": [
        "class Pokemon:\n",
        "    def __init__(self, tipo, especie):\n",
        "        self.tipo = tipo\n",
        "        self.especie = especie\n",
        "\n",
        "meu_pokemon = Pokemon(\"fogo\", \"charmander\")\n",
        "\n",
        "amigo_pokemon = Pokemon(\"eletrico\", \"pikachu\")\n",
        "\n",
        "print(amigo_pokemon.tipo,  amigo_pokemon.especie)\n",
        "print(meu_pokemon.tipo, meu_pokemon.especie)"
      ],
      "metadata": {
        "colab": {
          "base_uri": "https://localhost:8080/"
        },
        "id": "a5H2lWyFya0f",
        "outputId": "2f538f67-d794-4691-8a01-4eb24903d112"
      },
      "execution_count": 7,
      "outputs": [
        {
          "output_type": "stream",
          "name": "stdout",
          "text": [
            "eletrico pikachu\n",
            "fogo charmander\n"
          ]
        }
      ]
    }
  ]
}