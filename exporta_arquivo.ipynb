{
  "nbformat": 4,
  "nbformat_minor": 0,
  "metadata": {
    "colab": {
      "name": "exporta_arquivo.ipynb",
      "provenance": [],
      "mount_file_id": "1TRXX33DFOLoGUP_uEp7bVrhmw3v74cso",
      "authorship_tag": "ABX9TyMoBQW4HtVBqQUX0BooFJGe",
      "include_colab_link": true
    },
    "kernelspec": {
      "name": "python3",
      "display_name": "Python 3"
    },
    "language_info": {
      "name": "python"
    }
  },
  "cells": [
    {
      "cell_type": "markdown",
      "metadata": {
        "id": "view-in-github",
        "colab_type": "text"
      },
      "source": [
        "<a href=\"https://colab.research.google.com/github/andercreep1001/Aprendendo_python_no_G_colab/blob/main/exporta_arquivo.ipynb\" target=\"_parent\"><img src=\"https://colab.research.google.com/assets/colab-badge.svg\" alt=\"Open In Colab\"/></a>"
      ]
    },
    {
      "cell_type": "markdown",
      "source": [
        "Exporta aquivivos "
      ],
      "metadata": {
        "id": "JMl4P0XIh5_r"
      }
    },
    {
      "cell_type": "code",
      "source": [
        "AGENDA = {\n",
        "    'Agnes':'linda',\n",
        "    'Galuci':'da hora'\n",
        "}\n",
        "\n",
        "def exporta_arquivo():\n",
        "    try:\n",
        "        with open('/content/drive/MyDrive/Colab Notebooks/nomes.csv', 'w') as nomes:\n",
        "            for nome in AGENDA:\n",
        "                nomes.write(nome)\n",
        "        print('teste')        \n",
        "    except:\n",
        "        print('error')\n",
        "\n",
        "exporta_arquivo()        \n"
      ],
      "metadata": {
        "colab": {
          "base_uri": "https://localhost:8080/"
        },
        "id": "zLAXyKVmh9jy",
        "outputId": "28a9dbad-ef59-4497-f1c2-25637e2085b5"
      },
      "execution_count": 7,
      "outputs": [
        {
          "output_type": "stream",
          "name": "stdout",
          "text": [
            "teste\n"
          ]
        }
      ]
    }
  ]
}