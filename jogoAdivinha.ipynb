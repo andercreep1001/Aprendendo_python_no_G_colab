{
  "nbformat": 4,
  "nbformat_minor": 0,
  "metadata": {
    "colab": {
      "name": "jogoAdivinha.ipynb",
      "provenance": [],
      "authorship_tag": "ABX9TyMuYeZ/W4GUbqpwuBWfXj02",
      "include_colab_link": true
    },
    "kernelspec": {
      "name": "python3",
      "display_name": "Python 3"
    },
    "language_info": {
      "name": "python"
    }
  },
  "cells": [
    {
      "cell_type": "markdown",
      "metadata": {
        "id": "view-in-github",
        "colab_type": "text"
      },
      "source": [
        "<a href=\"https://colab.research.google.com/github/andercreep1001/Aprendendo_python_no_G_colab/blob/main/jogoAdivinha.ipynb\" target=\"_parent\"><img src=\"https://colab.research.google.com/assets/colab-badge.svg\" alt=\"Open In Colab\"/></a>"
      ]
    },
    {
      "cell_type": "code",
      "execution_count": 3,
      "metadata": {
        "colab": {
          "base_uri": "https://localhost:8080/"
        },
        "id": "-zuF3kKadKVO",
        "outputId": "e7638118-ea2c-4b33-e5dd-01c4fab863c4"
      },
      "outputs": [
        {
          "output_type": "stream",
          "name": "stdout",
          "text": [
            "**************************************\n",
            "**        Jogo de adivinhção        **\n",
            "**************************************\n",
            "Digite um numero: 42\n",
            "Você digitou: 42\n",
            "Você errou\n",
            "Fim de jogo\n"
          ]
        }
      ],
      "source": [
        "print(\"**************************************\")\n",
        "print(\"**        Jogo de adivinhção        **\")\n",
        "print(\"**************************************\")\n",
        "\n",
        "numero_secreto = 42\n",
        "\n",
        "chute = input(\"Digite um numero: \")\n",
        "print(\"Você digitou: \" + chute)\n",
        "\n",
        "if numero_secreto == chute:\n",
        "    print(\"Você acertou!!!\")\n",
        "else:\n",
        "    print(\"Você errou\")\n",
        "\n",
        "print(\"Fim de jogo\")        "
      ]
    }
  ]
}