{
  "nbformat": 4,
  "nbformat_minor": 0,
  "metadata": {
    "colab": {
      "name": "jogoAdivinha.ipynb",
      "provenance": [],
      "authorship_tag": "ABX9TyNZPJHMm/IrUJvt9yeRch8k",
      "include_colab_link": true
    },
    "kernelspec": {
      "name": "python3",
      "display_name": "Python 3"
    },
    "language_info": {
      "name": "python"
    }
  },
  "cells": [
    {
      "cell_type": "markdown",
      "metadata": {
        "id": "view-in-github",
        "colab_type": "text"
      },
      "source": [
        "<a href=\"https://colab.research.google.com/github/andercreep1001/Aprendendo_python_no_G_colab/blob/main/jogoAdivinha.ipynb\" target=\"_parent\"><img src=\"https://colab.research.google.com/assets/colab-badge.svg\" alt=\"Open In Colab\"/></a>"
      ]
    },
    {
      "cell_type": "code",
      "execution_count": 13,
      "metadata": {
        "colab": {
          "base_uri": "https://localhost:8080/"
        },
        "id": "-zuF3kKadKVO",
        "outputId": "159024f5-be6f-4781-ff0b-ce9813f0d6a7"
      },
      "outputs": [
        {
          "output_type": "stream",
          "name": "stdout",
          "text": [
            "**************************************\n",
            "**        Jogo de adivinhção        **\n",
            "**************************************\n",
            "Digite um numero: 42\n",
            "Você digitou:  42\n",
            "Você acertou!!!\n",
            "Fim de jogo\n"
          ]
        }
      ],
      "source": [
        "print(\"**************************************\")\n",
        "print(\"**        Jogo de adivinhção        **\")\n",
        "print(\"**************************************\")\n",
        "\n",
        "numero_secreto = 42\n",
        "\n",
        "chute = int(input(\"Digite um numero: \"))\n",
        "print(\"Você digitou: \", chute)\n",
        "\n",
        "acertou = chute == numero_secreto\n",
        "maior = chute > numero_secreto\n",
        "menor = chute < numero_secreto \n",
        "\n",
        "if (acertou):\n",
        "    print(\"Você acertou!!!\")\n",
        "elif maior:\n",
        "    print(\"VocÊ errou, o numero é maior\")\n",
        "elif menor:        \n",
        "    print(\"VocÊ errou, o numero é menor\")\n",
        "else:\n",
        "    print(\"Você errou\")\n",
        "\n",
        "\"\"\"\n",
        "if numero_secreto == chute:\n",
        "    print(\"Você acertou!!!\")\n",
        "elif chute > numero_secreto:\n",
        "    print(\"VocÊ errou, o numero é maior\")\n",
        "elif chute < numero_secreto:        \n",
        "    print(\"VocÊ errou, o numero é menor\")\n",
        "else:\n",
        "    print(\"Você errou\")\n",
        "\"\"\"\n",
        "print(\"Fim de jogo\")        "
      ]
    }
  ]
}