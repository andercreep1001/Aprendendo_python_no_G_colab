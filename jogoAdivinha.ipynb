{
  "nbformat": 4,
  "nbformat_minor": 0,
  "metadata": {
    "colab": {
      "name": "jogoAdivinha.ipynb",
      "provenance": [],
      "authorship_tag": "ABX9TyPFNidfBDqxZEwICHIjvZbe",
      "include_colab_link": true
    },
    "kernelspec": {
      "name": "python3",
      "display_name": "Python 3"
    },
    "language_info": {
      "name": "python"
    }
  },
  "cells": [
    {
      "cell_type": "markdown",
      "metadata": {
        "id": "view-in-github",
        "colab_type": "text"
      },
      "source": [
        "<a href=\"https://colab.research.google.com/github/andercreep1001/Aprendendo_python_no_G_colab/blob/main/jogoAdivinha.ipynb\" target=\"_parent\"><img src=\"https://colab.research.google.com/assets/colab-badge.svg\" alt=\"Open In Colab\"/></a>"
      ]
    },
    {
      "cell_type": "code",
      "execution_count": 13,
      "metadata": {
        "colab": {
          "base_uri": "https://localhost:8080/"
        },
        "id": "-zuF3kKadKVO",
        "outputId": "159024f5-be6f-4781-ff0b-ce9813f0d6a7"
      },
      "outputs": [
        {
          "output_type": "stream",
          "name": "stdout",
          "text": [
            "**************************************\n",
            "**        Jogo de adivinhção        **\n",
            "**************************************\n",
            "Digite um numero: 42\n",
            "Você digitou:  42\n",
            "Você acertou!!!\n",
            "Fim de jogo\n"
          ]
        }
      ],
      "source": [
        "print(\"**************************************\")\n",
        "print(\"**        Jogo de adivinhção        **\")\n",
        "print(\"**************************************\")\n",
        "\n",
        "numero_secreto = 42\n",
        "\n",
        "chute = int(input(\"Digite um numero: \"))\n",
        "print(\"Você digitou: \", chute)\n",
        "\n",
        "acertou = chute == numero_secreto\n",
        "maior = chute > numero_secreto\n",
        "menor = chute < numero_secreto \n",
        "\n",
        "if (acertou):\n",
        "    print(\"Você acertou!!!\")\n",
        "elif maior:\n",
        "    print(\"VocÊ errou, o numero é maior\")\n",
        "elif menor:        \n",
        "    print(\"VocÊ errou, o numero é menor\")\n",
        "else:\n",
        "    print(\"Você errou\")\n",
        "\n",
        "\"\"\"\n",
        "if numero_secreto == chute:\n",
        "    print(\"Você acertou!!!\")\n",
        "elif chute > numero_secreto:\n",
        "    print(\"VocÊ errou, o numero é maior\")\n",
        "elif chute < numero_secreto:        \n",
        "    print(\"VocÊ errou, o numero é menor\")\n",
        "else:\n",
        "    print(\"Você errou\")\n",
        "\"\"\"\n",
        "print(\"Fim de jogo\")        "
      ]
    },
    {
      "cell_type": "markdown",
      "source": [
        "while"
      ],
      "metadata": {
        "id": "sVzdMI-_h7BX"
      }
    },
    {
      "cell_type": "code",
      "source": [
        "numero_secreto = 42\n",
        "numero_tentativas = 3\n",
        "rodada = 1\n",
        "\n",
        "while rodada <= numero_tentativas:    \n",
        "#while numero_tentativas > 0:\n",
        "    print(\"Tentativa {} de {} \".format(rodada, numero_tentativas))\n",
        "\n",
        "    chute = int(input(\"Digite um numero: \"))\n",
        "    print(\"Você digitou: \", chute)\n",
        "\n",
        "    acertou = chute == numero_secreto\n",
        "    maior = chute > numero_secreto\n",
        "    menor = chute < numero_secreto\n",
        "\n",
        "    if acertou:\n",
        "        print(\"Você acertou!!!\")\n",
        "        break\n",
        "    elif maior:    \n",
        "        print(\"VocÊ errou, o numero é maior\")\n",
        "    elif menor:        \n",
        "        print(\"VocÊ errou, o numero é menor\")\n",
        "\n",
        "    rodada = rodada + 1\n",
        "\n",
        "\n",
        "print(\"Game over\")        "
      ],
      "metadata": {
        "colab": {
          "base_uri": "https://localhost:8080/"
        },
        "id": "yrkieu4Sh8YH",
        "outputId": "e491df23-4628-4307-977e-3cd3ad1f495f"
      },
      "execution_count": 20,
      "outputs": [
        {
          "output_type": "stream",
          "name": "stdout",
          "text": [
            "Tentativa 1 de 3 \n",
            "Digite um numero: 45\n",
            "Você digitou:  45\n",
            "VocÊ errou, o numero é maior\n",
            "Tentativa 2 de 3 \n",
            "Digite um numero: 45\n",
            "Você digitou:  45\n",
            "VocÊ errou, o numero é maior\n",
            "Tentativa 3 de 3 \n",
            "Digite um numero: 1\n",
            "Você digitou:  1\n",
            "VocÊ errou, o numero é menor\n",
            "Game over\n"
          ]
        }
      ]
    },
    {
      "cell_type": "markdown",
      "source": [
        "teste"
      ],
      "metadata": {
        "id": "uTxgRjc7wYcn"
      }
    },
    {
      "cell_type": "code",
      "source": [
        "palavra_secreta = 'agnes'\n",
        "\n",
        "chute = input('escolha uma letra: ')\n",
        "\n",
        "posicao = 0\n",
        "for letra in palavra_secreta:\n",
        "    if(chute == letra):\n",
        "        print(\"encontrei a letra {} na posição {} \".format(letra, posicao))\n",
        "    posicao = posicao + 1"
      ],
      "metadata": {
        "colab": {
          "base_uri": "https://localhost:8080/"
        },
        "id": "kfkunN2zwZpO",
        "outputId": "cfe59e05-af41-44ce-dd36-943a63cae5f4"
      },
      "execution_count": 34,
      "outputs": [
        {
          "output_type": "stream",
          "name": "stdout",
          "text": [
            "escolha uma letra: g\n",
            "encontrei a letra g na posição 1 \n"
          ]
        }
      ]
    },
    {
      "cell_type": "code",
      "source": [
        "pip install pygame\n"
      ],
      "metadata": {
        "colab": {
          "base_uri": "https://localhost:8080/"
        },
        "id": "cFNviM5qSWod",
        "outputId": "4b1490f6-dd6a-41fb-dd23-fb31931e3656"
      },
      "execution_count": 38,
      "outputs": [
        {
          "output_type": "stream",
          "name": "stdout",
          "text": [
            "Collecting pygame\n",
            "  Downloading pygame-2.1.2-cp37-cp37m-manylinux_2_17_x86_64.manylinux2014_x86_64.whl (21.8 MB)\n",
            "\u001b[K     |████████████████████████████████| 21.8 MB 1.7 MB/s \n",
            "\u001b[?25hInstalling collected packages: pygame\n",
            "Successfully installed pygame-2.1.2\n"
          ]
        }
      ]
    },
    {
      "cell_type": "code",
      "source": [
        "import sys\n",
        "import pygame\n",
        "\n",
        "class AlienInvasion:\n",
        "    def __init_(self):\n",
        "        pygame.init()\n",
        "\n",
        "        self.screen = pygame.display.set.mode((1200,800))\n",
        "        pygame.display.set_caption(\"Alien Invasion\")\n",
        "        self.bg_color = (230, 230, 230)\n",
        "\n",
        "    def run_game(self):\n",
        "        while True:\n",
        "            for event in pygame.event.get():\n",
        "                if event.type == pygame.QUIT:\n",
        "                    sys.exit()\n",
        "            self.screen.fill(self.bg_color)        \n",
        "            pygame.display.flip()\n",
        "\n",
        "\n",
        "if __name__ == '__main__':\n",
        "    ai = AlienInvasion()\n",
        "    ai.run_game()"
      ],
      "metadata": {
        "colab": {
          "base_uri": "https://localhost:8080/",
          "height": 356
        },
        "id": "A6_JFgr-Vdue",
        "outputId": "3e32d4eb-bc08-4439-ccc6-eb385b4747a1"
      },
      "execution_count": 42,
      "outputs": [
        {
          "output_type": "error",
          "ename": "error",
          "evalue": "ignored",
          "traceback": [
            "\u001b[0;31m---------------------------------------------------------------------------\u001b[0m",
            "\u001b[0;31merror\u001b[0m                                     Traceback (most recent call last)",
            "\u001b[0;32m<ipython-input-42-f16e14e133e0>\u001b[0m in \u001b[0;36m<module>\u001b[0;34m()\u001b[0m\n\u001b[1;32m     21\u001b[0m \u001b[0;32mif\u001b[0m \u001b[0m__name__\u001b[0m \u001b[0;34m==\u001b[0m \u001b[0;34m'__main__'\u001b[0m\u001b[0;34m:\u001b[0m\u001b[0;34m\u001b[0m\u001b[0;34m\u001b[0m\u001b[0m\n\u001b[1;32m     22\u001b[0m     \u001b[0mai\u001b[0m \u001b[0;34m=\u001b[0m \u001b[0mAlienInvasion\u001b[0m\u001b[0;34m(\u001b[0m\u001b[0;34m)\u001b[0m\u001b[0;34m\u001b[0m\u001b[0;34m\u001b[0m\u001b[0m\n\u001b[0;32m---> 23\u001b[0;31m     \u001b[0mai\u001b[0m\u001b[0;34m.\u001b[0m\u001b[0mrun_game\u001b[0m\u001b[0;34m(\u001b[0m\u001b[0;34m)\u001b[0m\u001b[0;34m\u001b[0m\u001b[0;34m\u001b[0m\u001b[0m\n\u001b[0m",
            "\u001b[0;32m<ipython-input-42-f16e14e133e0>\u001b[0m in \u001b[0;36mrun_game\u001b[0;34m(self)\u001b[0m\n\u001b[1;32m     12\u001b[0m     \u001b[0;32mdef\u001b[0m \u001b[0mrun_game\u001b[0m\u001b[0;34m(\u001b[0m\u001b[0mself\u001b[0m\u001b[0;34m)\u001b[0m\u001b[0;34m:\u001b[0m\u001b[0;34m\u001b[0m\u001b[0;34m\u001b[0m\u001b[0m\n\u001b[1;32m     13\u001b[0m         \u001b[0;32mwhile\u001b[0m \u001b[0;32mTrue\u001b[0m\u001b[0;34m:\u001b[0m\u001b[0;34m\u001b[0m\u001b[0;34m\u001b[0m\u001b[0m\n\u001b[0;32m---> 14\u001b[0;31m             \u001b[0;32mfor\u001b[0m \u001b[0mevent\u001b[0m \u001b[0;32min\u001b[0m \u001b[0mpygame\u001b[0m\u001b[0;34m.\u001b[0m\u001b[0mevent\u001b[0m\u001b[0;34m.\u001b[0m\u001b[0mget\u001b[0m\u001b[0;34m(\u001b[0m\u001b[0;34m)\u001b[0m\u001b[0;34m:\u001b[0m\u001b[0;34m\u001b[0m\u001b[0;34m\u001b[0m\u001b[0m\n\u001b[0m\u001b[1;32m     15\u001b[0m                 \u001b[0;32mif\u001b[0m \u001b[0mevent\u001b[0m\u001b[0;34m.\u001b[0m\u001b[0mtype\u001b[0m \u001b[0;34m==\u001b[0m \u001b[0mpygame\u001b[0m\u001b[0;34m.\u001b[0m\u001b[0mQUIT\u001b[0m\u001b[0;34m:\u001b[0m\u001b[0;34m\u001b[0m\u001b[0;34m\u001b[0m\u001b[0m\n\u001b[1;32m     16\u001b[0m                     \u001b[0msys\u001b[0m\u001b[0;34m.\u001b[0m\u001b[0mexit\u001b[0m\u001b[0;34m(\u001b[0m\u001b[0;34m)\u001b[0m\u001b[0;34m\u001b[0m\u001b[0;34m\u001b[0m\u001b[0m\n",
            "\u001b[0;31merror\u001b[0m: video system not initialized"
          ]
        }
      ]
    }
  ]
}