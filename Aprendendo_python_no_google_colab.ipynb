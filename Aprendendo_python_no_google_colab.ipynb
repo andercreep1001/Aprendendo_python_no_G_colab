{
  "nbformat": 4,
  "nbformat_minor": 0,
  "metadata": {
    "colab": {
      "name": "Aprendendo python no google colab.ipynb",
      "provenance": [],
      "authorship_tag": "ABX9TyNUMtWdMHkGwKLqlGKTOGU+",
      "include_colab_link": true
    },
    "kernelspec": {
      "name": "python3",
      "display_name": "Python 3"
    },
    "language_info": {
      "name": "python"
    }
  },
  "cells": [
    {
      "cell_type": "markdown",
      "metadata": {
        "id": "view-in-github",
        "colab_type": "text"
      },
      "source": [
        "<a href=\"https://colab.research.google.com/github/andercreep1001/Aprendendo_python_no_G_colab/blob/main/Aprendendo_python_no_google_colab.ipynb\" target=\"_parent\"><img src=\"https://colab.research.google.com/assets/colab-badge.svg\" alt=\"Open In Colab\"/></a>"
      ]
    },
    {
      "cell_type": "markdown",
      "metadata": {
        "id": "X59Mz0ZYJ8_B"
      },
      "source": [
        "Variáveis\n"
      ]
    },
    {
      "cell_type": "code",
      "metadata": {
        "colab": {
          "base_uri": "https://localhost:8080/"
        },
        "id": "IGn7YKFcKE4A",
        "outputId": "8b974145-9650-4ad9-8ac8-7dc33eaa73dd"
      },
      "source": [
        "nome = \"anderson\"\n",
        "print(nome)\n",
        "nomeCompleto = \"anderson desterro\"\n",
        "print(nomeCompleto.upper()) #.upper texto em caixa alta\n",
        "print(nomeCompleto.lower()) #.lower testo em caixa baixa\n",
        "print(nomeCompleto.title()) #.title deixa a primeira letra maiuscula"
      ],
      "execution_count": 4,
      "outputs": [
        {
          "output_type": "stream",
          "text": [
            "anderson\n",
            "ANDERSON DESTERRO\n",
            "anderson desterro\n",
            "Anderson Desterro\n"
          ],
          "name": "stdout"
        }
      ]
    },
    {
      "cell_type": "code",
      "metadata": {
        "colab": {
          "base_uri": "https://localhost:8080/"
        },
        "id": "jCh6h3EhNgxa",
        "outputId": "349fb1da-af63-4e7a-89dc-1e7e2ad69d0f"
      },
      "source": [
        "nome = \"anderson\"\n",
        "sobrenome = \"desterro\"\n",
        "nomeCompleto = f\"{nome} {sobrenome}\" #concatenando dos strings\n",
        "print(nomeCompleto)\n",
        "print(nomeCompleto.title())"
      ],
      "execution_count": 6,
      "outputs": [
        {
          "output_type": "stream",
          "text": [
            "anderson desterro\n",
            "Anderson Desterro\n"
          ],
          "name": "stdout"
        }
      ]
    },
    {
      "cell_type": "code",
      "metadata": {
        "colab": {
          "base_uri": "https://localhost:8080/"
        },
        "id": "d1c9Wb_GPIIw",
        "outputId": "a5324bac-222a-4719-f796-e86344e3e3c6"
      },
      "source": [
        "nomeTodo = \"{} {}\".format(nome, sobrenome)\n",
        "print(nomeTodo)"
      ],
      "execution_count": 8,
      "outputs": [
        {
          "output_type": "stream",
          "text": [
            "anderson desterro\n"
          ],
          "name": "stdout"
        }
      ]
    }
  ]
}