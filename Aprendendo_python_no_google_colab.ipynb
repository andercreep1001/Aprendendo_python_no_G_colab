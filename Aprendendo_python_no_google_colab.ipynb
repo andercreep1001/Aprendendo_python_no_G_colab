{
  "nbformat": 4,
  "nbformat_minor": 0,
  "metadata": {
    "colab": {
      "name": "Aprendendo python no google colab.ipynb",
      "provenance": [],
      "authorship_tag": "ABX9TyPHYcLRNDhY3cKJ0eASMco5",
      "include_colab_link": true
    },
    "kernelspec": {
      "name": "python3",
      "display_name": "Python 3"
    },
    "language_info": {
      "name": "python"
    }
  },
  "cells": [
    {
      "cell_type": "markdown",
      "metadata": {
        "id": "view-in-github",
        "colab_type": "text"
      },
      "source": [
        "<a href=\"https://colab.research.google.com/github/andercreep1001/Aprendendo_python_no_G_colab/blob/main/Aprendendo_python_no_google_colab.ipynb\" target=\"_parent\"><img src=\"https://colab.research.google.com/assets/colab-badge.svg\" alt=\"Open In Colab\"/></a>"
      ]
    },
    {
      "cell_type": "markdown",
      "metadata": {
        "id": "X59Mz0ZYJ8_B"
      },
      "source": [
        "Variáveis\n"
      ]
    },
    {
      "cell_type": "code",
      "metadata": {
        "colab": {
          "base_uri": "https://localhost:8080/"
        },
        "id": "IGn7YKFcKE4A",
        "outputId": "8b974145-9650-4ad9-8ac8-7dc33eaa73dd"
      },
      "source": [
        "nome = \"anderson\"\n",
        "print(nome)\n",
        "nomeCompleto = \"anderson desterro\"\n",
        "print(nomeCompleto.upper()) #.upper texto em caixa alta\n",
        "print(nomeCompleto.lower()) #.lower testo em caixa baixa\n",
        "print(nomeCompleto.title()) #.title deixa a primeira letra maiuscula"
      ],
      "execution_count": null,
      "outputs": [
        {
          "output_type": "stream",
          "text": [
            "anderson\n",
            "ANDERSON DESTERRO\n",
            "anderson desterro\n",
            "Anderson Desterro\n"
          ],
          "name": "stdout"
        }
      ]
    },
    {
      "cell_type": "code",
      "metadata": {
        "colab": {
          "base_uri": "https://localhost:8080/"
        },
        "id": "jCh6h3EhNgxa",
        "outputId": "349fb1da-af63-4e7a-89dc-1e7e2ad69d0f"
      },
      "source": [
        "nome = \"anderson\"\n",
        "sobrenome = \"desterro\"\n",
        "nomeCompleto = f\"{nome} {sobrenome}\" #concatenando dos strings\n",
        "print(nomeCompleto)\n",
        "print(nomeCompleto.title())"
      ],
      "execution_count": null,
      "outputs": [
        {
          "output_type": "stream",
          "text": [
            "anderson desterro\n",
            "Anderson Desterro\n"
          ],
          "name": "stdout"
        }
      ]
    },
    {
      "cell_type": "code",
      "metadata": {
        "colab": {
          "base_uri": "https://localhost:8080/"
        },
        "id": "d1c9Wb_GPIIw",
        "outputId": "adcf7cb2-faa1-4ac3-86e3-7ba91b95a218"
      },
      "source": [
        "nomeTodo = \"{} {}\".format(nome, sobrenome)\n",
        "print(nomeTodo)\n",
        "print(\"\\t\", nome) # adicionado tabulçao\n",
        "print(\"casa\\napaertamento\\npousada\") #adicionando nova linha con \\n\n",
        "print(\"\\n\\nPaís:\\n\\tBrasil\\n\\tArgentina\\n\\tEUA\")"
      ],
      "execution_count": null,
      "outputs": [
        {
          "output_type": "stream",
          "text": [
            "anderson desterro\n",
            "\t anderson\n",
            "casa\n",
            "apaertamento\n",
            "pousada\n",
            "\n",
            "\n",
            "País:\n",
            "\tBrasil\n",
            "\tArgentina\n",
            "\tEUA\n"
          ],
          "name": "stdout"
        }
      ]
    },
    {
      "cell_type": "code",
      "metadata": {
        "colab": {
          "base_uri": "https://localhost:8080/",
          "height": 35
        },
        "id": "y01RCYPpU8ql",
        "outputId": "57a4df5f-53f2-4ce7-e883-a45aaa876881"
      },
      "source": [
        "nome = 'texto'\n",
        "nome.rsplit()\n",
        "nome.rstrip()"
      ],
      "execution_count": null,
      "outputs": [
        {
          "output_type": "execute_result",
          "data": {
            "application/vnd.google.colaboratory.intrinsic+json": {
              "type": "string"
            },
            "text/plain": [
              "'texto'"
            ]
          },
          "metadata": {
            "tags": []
          },
          "execution_count": 17
        }
      ]
    },
    {
      "cell_type": "markdown",
      "metadata": {
        "id": "wP7AZN89WAoA"
      },
      "source": [
        "----------------------------------------------------------------------\n",
        "**Numeros**"
      ]
    },
    {
      "cell_type": "code",
      "metadata": {
        "colab": {
          "base_uri": "https://localhost:8080/"
        },
        "id": "H2uMef6pWEgv",
        "outputId": "c097169a-2636-405c-85e6-04854fd980dd"
      },
      "source": [
        "num = 3+9\n",
        "print(num)\n",
        "\n",
        "num2 = 3-9\n",
        "print(num2)\n",
        "\n",
        "num3 = 3*9\n",
        "print(num3)\n",
        "\n",
        "num4 = 3/9\n",
        "print(num4)"
      ],
      "execution_count": null,
      "outputs": [
        {
          "output_type": "stream",
          "text": [
            "12\n",
            "-6\n",
            "27\n",
            "0.3333333333333333\n"
          ],
          "name": "stdout"
        }
      ]
    },
    {
      "cell_type": "markdown",
      "metadata": {
        "id": "1a6oI3MFkqj5"
      },
      "source": [
        "----------------------------------------------------------------------\n",
        "Listas\n",
        "----------------------------------------------------------------------"
      ]
    },
    {
      "cell_type": "code",
      "metadata": {
        "colab": {
          "base_uri": "https://localhost:8080/"
        },
        "id": "VfIHLgu3kzqO",
        "outputId": "d3410252-5e46-4c80-8710-f2cc38a397bb"
      },
      "source": [
        "times = ['Palmeiras', 'M. City', 'R. Madrid', 'Liverpol', 'PSG']\n",
        "print(times)\n",
        "print(\"chave 2 =\", times[2])\n",
        "print(\"chave 4 =\", times[4])"
      ],
      "execution_count": null,
      "outputs": [
        {
          "output_type": "stream",
          "text": [
            "['Palmeiras', 'M. City', 'R. Madrid', 'Liverpol', 'PSG']\n",
            "chave 2 = R. Madrid\n",
            "chave 4 = PSG\n"
          ],
          "name": "stdout"
        }
      ]
    },
    {
      "cell_type": "code",
      "metadata": {
        "colab": {
          "base_uri": "https://localhost:8080/"
        },
        "id": "CYzIinv0m0js",
        "outputId": "7312b0f0-0f3a-41ab-ee0a-9037fef7cdf8"
      },
      "source": [
        "print(times[0].title())\n",
        "print(times[0].upper())\n",
        "print(times[0].lower())"
      ],
      "execution_count": null,
      "outputs": [
        {
          "output_type": "stream",
          "text": [
            "Palmeiras\n",
            "PALMEIRAS\n",
            "palmeiras\n"
          ],
          "name": "stdout"
        }
      ]
    },
    {
      "cell_type": "code",
      "metadata": {
        "colab": {
          "base_uri": "https://localhost:8080/"
        },
        "id": "zF0UIBPrnnCy",
        "outputId": "01b18ddd-05a5-4900-a935-f480c6dc6594"
      },
      "source": [
        "print(times[-1]) #mostra o ultimo item da lista\n",
        "\n",
        "print(f\"Meu time do coração é o {times[0].title()}\")"
      ],
      "execution_count": null,
      "outputs": [
        {
          "output_type": "stream",
          "text": [
            "PSG\n",
            "Meu time do coração é o Palmeiras\n"
          ],
          "name": "stdout"
        }
      ]
    },
    {
      "cell_type": "code",
      "metadata": {
        "colab": {
          "base_uri": "https://localhost:8080/"
        },
        "id": "1B75tNwSpvix",
        "outputId": "da1a88ec-e9ec-48a9-e1c1-f19e2dc6db53"
      },
      "source": [
        "carros = ['Polo', 'Argo', 'Onix', 'HB20']\n",
        "marcas = ['fiat', 'VW', 'Hyundai', 'Chevrolet']\n",
        "\n",
        "print(f\"Quero comprar um {marcas[0]} {carros[1]}\")\n",
        "print(f\"Mas meu sonho é {marcas[1]} {carros[0]} ou o {marcas[3]} {carros[2]}\")"
      ],
      "execution_count": null,
      "outputs": [
        {
          "output_type": "stream",
          "text": [
            "Quero comprar um fiat Argo\n",
            "Mas meu sonho é VW Polo ou o Chevrolet Onix\n"
          ],
          "name": "stdout"
        }
      ]
    },
    {
      "cell_type": "code",
      "metadata": {
        "colab": {
          "base_uri": "https://localhost:8080/"
        },
        "id": "0VjVBfDNr-Yo",
        "outputId": "338e4ab3-6b45-43b1-f06e-a3df6095cd19"
      },
      "source": [
        "motos = ['Yamaha', 'honda', 'suzuki']\n",
        "print(motos)"
      ],
      "execution_count": null,
      "outputs": [
        {
          "output_type": "stream",
          "text": [
            "['Yamaha', 'honda', 'suzuki']\n"
          ],
          "name": "stdout"
        }
      ]
    },
    {
      "cell_type": "code",
      "metadata": {
        "colab": {
          "base_uri": "https://localhost:8080/"
        },
        "id": "xZ7TdXPCsQx5",
        "outputId": "11986ad1-9907-459a-83ec-64c871a87938"
      },
      "source": [
        "motos[0] = 'ducati'\n",
        "print(motos) "
      ],
      "execution_count": null,
      "outputs": [
        {
          "output_type": "stream",
          "text": [
            "['ducati', 'honda', 'suzuki']\n"
          ],
          "name": "stdout"
        }
      ]
    },
    {
      "cell_type": "code",
      "metadata": {
        "colab": {
          "base_uri": "https://localhost:8080/"
        },
        "id": "fHDbHlg0slJe",
        "outputId": "dd8fe121-ac59-4c49-bf2b-35a2c91f262d"
      },
      "source": [
        "motos.append('honda') #adicionado item na lista\n",
        "print(motos)"
      ],
      "execution_count": null,
      "outputs": [
        {
          "output_type": "stream",
          "text": [
            "['ducati', 'honda', 'suzuki', 'honda']\n"
          ],
          "name": "stdout"
        }
      ]
    },
    {
      "cell_type": "code",
      "metadata": {
        "colab": {
          "base_uri": "https://localhost:8080/"
        },
        "id": "BjSJgQfQupWF",
        "outputId": "bde01adc-f9a9-4a54-b66d-45b47cdf5e5d"
      },
      "source": [
        "alfabeto = []\n",
        "\n",
        "alfabeto.append('a')\n",
        "alfabeto.append('b')\n",
        "alfabeto.append('c')\n",
        "alfabeto.append('d')\n",
        "\n",
        "print(alfabeto)"
      ],
      "execution_count": null,
      "outputs": [
        {
          "output_type": "stream",
          "text": [
            "['a', 'b', 'c', 'd']\n"
          ],
          "name": "stdout"
        }
      ]
    },
    {
      "cell_type": "code",
      "metadata": {
        "colab": {
          "base_uri": "https://localhost:8080/"
        },
        "id": "KxBaFmpavs5V",
        "outputId": "914b5a37-6913-4347-bcb2-488c38882497"
      },
      "source": [
        "alfabeto.insert(4, 'e')\n",
        "alfabeto.insert(5, 'f')\n",
        "alfabeto.insert(6, 'g')\n",
        "alfabeto.insert(-1, 'h')\n",
        "print(alfabeto)"
      ],
      "execution_count": null,
      "outputs": [
        {
          "output_type": "stream",
          "text": [
            "['a', 'b', 'c', 'd', 'e', 'f', 'g', 'e', 'f', 'h', 'g']\n"
          ],
          "name": "stdout"
        }
      ]
    },
    {
      "cell_type": "code",
      "metadata": {
        "colab": {
          "base_uri": "https://localhost:8080/"
        },
        "id": "e2pZMERlw-j-",
        "outputId": "e6cf9794-330c-4fb1-dbef-3f82e702087d"
      },
      "source": [
        "del alfabeto[-1]\n",
        "del alfabeto[0]\n",
        "print(alfabeto)"
      ],
      "execution_count": null,
      "outputs": [
        {
          "output_type": "stream",
          "text": [
            "['b', 'c', 'd', 'e', 'f', 'g', 'e', 'f']\n"
          ],
          "name": "stdout"
        }
      ]
    },
    {
      "cell_type": "code",
      "metadata": {
        "colab": {
          "base_uri": "https://localhost:8080/"
        },
        "id": "H2UCebJAxnyJ",
        "outputId": "31fa1fe8-7fb4-4df7-c37f-f871d7c7b939"
      },
      "source": [
        "alfabeto.pop() #remove o ultimo item da lista\n",
        "print(alfabeto)"
      ],
      "execution_count": null,
      "outputs": [
        {
          "output_type": "stream",
          "text": [
            "['b', 'c', 'd', 'e', 'f', 'g', 'e']\n"
          ],
          "name": "stdout"
        }
      ]
    },
    {
      "cell_type": "markdown",
      "metadata": {
        "id": "3E9IddBz-Mh1"
      },
      "source": [
        "----------------------------------------------------------------------\n",
        "**Loops**"
      ]
    },
    {
      "cell_type": "code",
      "metadata": {
        "colab": {
          "base_uri": "https://localhost:8080/"
        },
        "id": "gRHS7aNC-UQz",
        "outputId": "ab135223-8b31-4309-fe76-62a5d3be3b11"
      },
      "source": [
        "magicos = ['alice', 'david', 'carolina']\n",
        "for magica in magicos:\n",
        "  print(magica)\n",
        "  print(f\"{magica.title()} fez um ótimo truque\\n\")\n",
        "\n",
        "print(\"\\tfora do lopping for\")  "
      ],
      "execution_count": 8,
      "outputs": [
        {
          "output_type": "stream",
          "text": [
            "alice\n",
            "Alice fez um ótimo truque\n",
            "\n",
            "david\n",
            "David fez um ótimo truque\n",
            "\n",
            "carolina\n",
            "Carolina fez um ótimo truque\n",
            "\n",
            "\tfora do lopping for\n"
          ],
          "name": "stdout"
        }
      ]
    },
    {
      "cell_type": "code",
      "metadata": {
        "colab": {
          "base_uri": "https://localhost:8080/"
        },
        "id": "8cUGq4jsCTXA",
        "outputId": "70bbb872-3cd6-4221-8e0b-af8bd834ca92"
      },
      "source": [
        "pizzas = ['4 queijos', 'mussarela', 'peperoni']\n",
        "for pizza in pizzas:\n",
        "  print(pizza.upper())\n",
        "  print(f\"Eu gosto muito desse sabor {pizza}\\n\")\n",
        "\n",
        "print(f\"{pizzas[0]}, {pizzas[1]}, {pizzas[2]}\")  "
      ],
      "execution_count": 15,
      "outputs": [
        {
          "output_type": "stream",
          "text": [
            "4 QUEIJOS\n",
            "Eu gosto muito desse sabor 4 queijos\n",
            "\n",
            "MUSSARELA\n",
            "Eu gosto muito desse sabor mussarela\n",
            "\n",
            "PEPERONI\n",
            "Eu gosto muito desse sabor peperoni\n",
            "\n",
            "4 queijos, mussarela, peperoni\n"
          ],
          "name": "stdout"
        }
      ]
    },
    {
      "cell_type": "code",
      "metadata": {
        "colab": {
          "base_uri": "https://localhost:8080/"
        },
        "id": "jqR-sMqEEiMS",
        "outputId": "6e38c721-3d0d-492f-ba8e-c6e50a3ba59b"
      },
      "source": [
        "for valor in range(1, 5):\n",
        "  print(valor)"
      ],
      "execution_count": 20,
      "outputs": [
        {
          "output_type": "stream",
          "text": [
            "1\n",
            "2\n",
            "3\n",
            "4\n"
          ],
          "name": "stdout"
        }
      ]
    },
    {
      "cell_type": "code",
      "metadata": {
        "colab": {
          "base_uri": "https://localhost:8080/"
        },
        "id": "qOv4f988IQrk",
        "outputId": "5af96031-7e9d-4b93-cf67-4ce55e502b3b"
      },
      "source": [
        "valor = list(range(1,5))\n",
        "print(valor)\n",
        "\n",
        "par = list(range(2,11,2))\n",
        "print(par)"
      ],
      "execution_count": 23,
      "outputs": [
        {
          "output_type": "stream",
          "text": [
            "[1, 2, 3, 4]\n",
            "[2, 4, 6, 8, 10]\n"
          ],
          "name": "stdout"
        }
      ]
    },
    {
      "cell_type": "code",
      "metadata": {
        "colab": {
          "base_uri": "https://localhost:8080/"
        },
        "id": "7u0wefK5JDlG",
        "outputId": "0db44383-6568-4982-dd99-4ec249377e41"
      },
      "source": [
        "quadrados = []\n",
        "for valor in range(1,11):\n",
        "  quadrado = valor ** 2\n",
        "  quadrados.append(quadrado)\n",
        "\n",
        "print(quadrados)  "
      ],
      "execution_count": 24,
      "outputs": [
        {
          "output_type": "stream",
          "text": [
            "[1, 4, 9, 16, 25, 36, 49, 64, 81, 100]\n"
          ],
          "name": "stdout"
        }
      ]
    },
    {
      "cell_type": "code",
      "metadata": {
        "colab": {
          "base_uri": "https://localhost:8080/"
        },
        "id": "3tbTPFUwIPEH",
        "outputId": "ac8e4e93-1061-47fa-d542-3c1f32078ae2"
      },
      "source": [
        "numeros = [0,1,2,3,4,5,6,7,8,9]\n",
        "print(f\"menor {min(numeros)}\")\n",
        "print(f\"maior {max(numeros)}\")\n",
        "print(f\"soma {sum(numeros)}\")"
      ],
      "execution_count": 30,
      "outputs": [
        {
          "output_type": "stream",
          "text": [
            "menor 0\n",
            "maior 9\n",
            "soma 45\n"
          ],
          "name": "stdout"
        }
      ]
    }
  ]
}