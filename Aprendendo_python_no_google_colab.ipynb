{
  "nbformat": 4,
  "nbformat_minor": 0,
  "metadata": {
    "colab": {
      "name": "Aprendendo python no google colab.ipynb",
      "provenance": [],
      "authorship_tag": "ABX9TyPLDxXZPSBJmx8sj57ozkeN",
      "include_colab_link": true
    },
    "kernelspec": {
      "name": "python3",
      "display_name": "Python 3"
    },
    "language_info": {
      "name": "python"
    }
  },
  "cells": [
    {
      "cell_type": "markdown",
      "metadata": {
        "id": "view-in-github",
        "colab_type": "text"
      },
      "source": [
        "<a href=\"https://colab.research.google.com/github/andercreep1001/Aprendendo_python_no_G_colab/blob/main/Aprendendo_python_no_google_colab.ipynb\" target=\"_parent\"><img src=\"https://colab.research.google.com/assets/colab-badge.svg\" alt=\"Open In Colab\"/></a>"
      ]
    },
    {
      "cell_type": "markdown",
      "metadata": {
        "id": "X59Mz0ZYJ8_B"
      },
      "source": [
        "Variáveis\n"
      ]
    },
    {
      "cell_type": "code",
      "metadata": {
        "colab": {
          "base_uri": "https://localhost:8080/"
        },
        "id": "IGn7YKFcKE4A",
        "outputId": "8b974145-9650-4ad9-8ac8-7dc33eaa73dd"
      },
      "source": [
        "nome = \"anderson\"\n",
        "print(nome)\n",
        "nomeCompleto = \"anderson desterro\"\n",
        "print(nomeCompleto.upper()) #.upper texto em caixa alta\n",
        "print(nomeCompleto.lower()) #.lower testo em caixa baixa\n",
        "print(nomeCompleto.title()) #.title deixa a primeira letra maiuscula"
      ],
      "execution_count": 4,
      "outputs": [
        {
          "output_type": "stream",
          "text": [
            "anderson\n",
            "ANDERSON DESTERRO\n",
            "anderson desterro\n",
            "Anderson Desterro\n"
          ],
          "name": "stdout"
        }
      ]
    },
    {
      "cell_type": "code",
      "metadata": {
        "colab": {
          "base_uri": "https://localhost:8080/"
        },
        "id": "jCh6h3EhNgxa",
        "outputId": "349fb1da-af63-4e7a-89dc-1e7e2ad69d0f"
      },
      "source": [
        "nome = \"anderson\"\n",
        "sobrenome = \"desterro\"\n",
        "nomeCompleto = f\"{nome} {sobrenome}\" #concatenando dos strings\n",
        "print(nomeCompleto)\n",
        "print(nomeCompleto.title())"
      ],
      "execution_count": 6,
      "outputs": [
        {
          "output_type": "stream",
          "text": [
            "anderson desterro\n",
            "Anderson Desterro\n"
          ],
          "name": "stdout"
        }
      ]
    },
    {
      "cell_type": "code",
      "metadata": {
        "colab": {
          "base_uri": "https://localhost:8080/"
        },
        "id": "d1c9Wb_GPIIw",
        "outputId": "adcf7cb2-faa1-4ac3-86e3-7ba91b95a218"
      },
      "source": [
        "nomeTodo = \"{} {}\".format(nome, sobrenome)\n",
        "print(nomeTodo)\n",
        "print(\"\\t\", nome) # adicionado tabulçao\n",
        "print(\"casa\\napaertamento\\npousada\") #adicionando nova linha con \\n\n",
        "print(\"\\n\\nPaís:\\n\\tBrasil\\n\\tArgentina\\n\\tEUA\")"
      ],
      "execution_count": 14,
      "outputs": [
        {
          "output_type": "stream",
          "text": [
            "anderson desterro\n",
            "\t anderson\n",
            "casa\n",
            "apaertamento\n",
            "pousada\n",
            "\n",
            "\n",
            "País:\n",
            "\tBrasil\n",
            "\tArgentina\n",
            "\tEUA\n"
          ],
          "name": "stdout"
        }
      ]
    },
    {
      "cell_type": "code",
      "metadata": {
        "colab": {
          "base_uri": "https://localhost:8080/",
          "height": 35
        },
        "id": "y01RCYPpU8ql",
        "outputId": "57a4df5f-53f2-4ce7-e883-a45aaa876881"
      },
      "source": [
        "nome = 'texto'\n",
        "nome.rsplit()\n",
        "nome.rstrip()"
      ],
      "execution_count": 17,
      "outputs": [
        {
          "output_type": "execute_result",
          "data": {
            "application/vnd.google.colaboratory.intrinsic+json": {
              "type": "string"
            },
            "text/plain": [
              "'texto'"
            ]
          },
          "metadata": {
            "tags": []
          },
          "execution_count": 17
        }
      ]
    },
    {
      "cell_type": "markdown",
      "metadata": {
        "id": "wP7AZN89WAoA"
      },
      "source": [
        "----------------------------------------------------------------------\n",
        "Numeros"
      ]
    },
    {
      "cell_type": "code",
      "metadata": {
        "colab": {
          "base_uri": "https://localhost:8080/"
        },
        "id": "H2uMef6pWEgv",
        "outputId": "c097169a-2636-405c-85e6-04854fd980dd"
      },
      "source": [
        "num = 3+9\n",
        "print(num)\n",
        "\n",
        "num2 = 3-9\n",
        "print(num2)\n",
        "\n",
        "num3 = 3*9\n",
        "print(num3)\n",
        "\n",
        "num4 = 3/9\n",
        "print(num4)"
      ],
      "execution_count": 21,
      "outputs": [
        {
          "output_type": "stream",
          "text": [
            "12\n",
            "-6\n",
            "27\n",
            "0.3333333333333333\n"
          ],
          "name": "stdout"
        }
      ]
    },
    {
      "cell_type": "markdown",
      "metadata": {
        "id": "1a6oI3MFkqj5"
      },
      "source": [
        "----------------------------------------------------------------------\n",
        "Listas\n",
        "----------------------------------------------------------------------"
      ]
    },
    {
      "cell_type": "code",
      "metadata": {
        "colab": {
          "base_uri": "https://localhost:8080/"
        },
        "id": "VfIHLgu3kzqO",
        "outputId": "d3410252-5e46-4c80-8710-f2cc38a397bb"
      },
      "source": [
        "times = ['Palmeiras', 'M. City', 'R. Madrid', 'Liverpol', 'PSG']\n",
        "print(times)\n",
        "print(\"chave 2 =\", times[2])\n",
        "print(\"chave 4 =\", times[4])"
      ],
      "execution_count": 29,
      "outputs": [
        {
          "output_type": "stream",
          "text": [
            "['Palmeiras', 'M. City', 'R. Madrid', 'Liverpol', 'PSG']\n",
            "chave 2 = R. Madrid\n",
            "chave 4 = PSG\n"
          ],
          "name": "stdout"
        }
      ]
    },
    {
      "cell_type": "code",
      "metadata": {
        "colab": {
          "base_uri": "https://localhost:8080/"
        },
        "id": "CYzIinv0m0js",
        "outputId": "7312b0f0-0f3a-41ab-ee0a-9037fef7cdf8"
      },
      "source": [
        "print(times[0].title())\n",
        "print(times[0].upper())\n",
        "print(times[0].lower())"
      ],
      "execution_count": 32,
      "outputs": [
        {
          "output_type": "stream",
          "text": [
            "Palmeiras\n",
            "PALMEIRAS\n",
            "palmeiras\n"
          ],
          "name": "stdout"
        }
      ]
    }
  ]
}