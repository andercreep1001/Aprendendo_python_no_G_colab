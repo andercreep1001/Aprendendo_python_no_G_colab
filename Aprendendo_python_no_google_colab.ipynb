{
  "nbformat": 4,
  "nbformat_minor": 0,
  "metadata": {
    "colab": {
      "name": "Aprendendo python no google colab.ipynb",
      "provenance": [],
      "authorship_tag": "ABX9TyPn9re9Q8W6wpW/TwuTeH5E",
      "include_colab_link": true
    },
    "kernelspec": {
      "name": "python3",
      "display_name": "Python 3"
    },
    "language_info": {
      "name": "python"
    }
  },
  "cells": [
    {
      "cell_type": "markdown",
      "metadata": {
        "id": "view-in-github",
        "colab_type": "text"
      },
      "source": [
        "<a href=\"https://colab.research.google.com/github/andercreep1001/Aprendendo_python_no_G_colab/blob/main/Aprendendo_python_no_google_colab.ipynb\" target=\"_parent\"><img src=\"https://colab.research.google.com/assets/colab-badge.svg\" alt=\"Open In Colab\"/></a>"
      ]
    },
    {
      "cell_type": "markdown",
      "metadata": {
        "id": "X59Mz0ZYJ8_B"
      },
      "source": [
        "VAriáveis"
      ]
    },
    {
      "cell_type": "code",
      "metadata": {
        "colab": {
          "base_uri": "https://localhost:8080/"
        },
        "id": "IGn7YKFcKE4A",
        "outputId": "969eca05-7598-439a-c52f-6d94d085eced"
      },
      "source": [
        "nome = \"anderson\"\n",
        "print(nome)"
      ],
      "execution_count": 2,
      "outputs": [
        {
          "output_type": "stream",
          "text": [
            "anderson\n"
          ],
          "name": "stdout"
        }
      ]
    }
  ]
}