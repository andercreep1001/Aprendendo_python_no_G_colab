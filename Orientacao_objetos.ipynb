{
  "nbformat": 4,
  "nbformat_minor": 0,
  "metadata": {
    "colab": {
      "name": "Orientacao_objetos.ipynb",
      "provenance": [],
      "authorship_tag": "ABX9TyMKCBjzjwfbzsY4DOg9EpPb",
      "include_colab_link": true
    },
    "kernelspec": {
      "name": "python3",
      "display_name": "Python 3"
    },
    "language_info": {
      "name": "python"
    }
  },
  "cells": [
    {
      "cell_type": "markdown",
      "metadata": {
        "id": "view-in-github",
        "colab_type": "text"
      },
      "source": [
        "<a href=\"https://colab.research.google.com/github/andercreep1001/Aprendendo_python_no_G_colab/blob/main/Orientacao_objetos.ipynb\" target=\"_parent\"><img src=\"https://colab.research.google.com/assets/colab-badge.svg\" alt=\"Open In Colab\"/></a>"
      ]
    },
    {
      "cell_type": "markdown",
      "metadata": {
        "id": "JVtEQObLZbPO"
      },
      "source": [
        "# **Orientação a Objetos**"
      ]
    },
    {
      "cell_type": "code",
      "metadata": {
        "colab": {
          "base_uri": "https://localhost:8080/"
        },
        "id": "6XSiiyP5ZgtC",
        "outputId": "5dd6b132-aa8f-4d43-eb14-4afd29e7d932"
      },
      "source": [
        "class Dog:\n",
        "  \"\"\"Tentando modelar um cachorro\"\"\"\n",
        "\n",
        "  def __init__(self, nome, idade):\n",
        "    \"\"\"\n",
        "      Inicializando os atributos\n",
        "      (as variáveis....)\n",
        "    \"\"\"\n",
        "    self.nome = nome\n",
        "    self.idade = idade\n",
        "\n",
        "  def sentar(self):\n",
        "    \"\"\"Simulando um cachorro sentando\"\"\"\n",
        "    print(f\"{self.nome}, senta agora\")\n",
        "\n",
        "  def deita_rola(self):\n",
        "    \"\"\"simulando o cachorro deitado e rolando\"\"\"\n",
        "    print(f\"{self.nome}, deita e rola\")  \n",
        "\n",
        "\n",
        "meu_dog = Dog(\"Milo\", 2)      \n",
        "\n",
        "print(f\"O nome do meu cachorro é {meu_dog.nome}\")\n",
        "print(f\"Ele tem {meu_dog.idade} anos de idade\")\n",
        "\n",
        "\"\"\"Fazendo o cachorro sentar deitar e rolar\"\"\"\n",
        "meu_dog.sentar()\n",
        "meu_dog.deita_rola()\n",
        "\n",
        "#Criando uma segunda instamcia do cachorro\n",
        "seu_cao = Dog(\"Lulu\", 3)\n",
        "print(f\"\\nO nome da sua cadela é {seu_cao.nome}\")\n",
        "print(f\"Ela tem {seu_cao.idade} anos de idade\")\n",
        "seu_cao.sentar()\n",
        "seu_cao.deita_rola()"
      ],
      "execution_count": 27,
      "outputs": [
        {
          "output_type": "stream",
          "text": [
            "O nome do meu cachorro é Milo\n",
            "Ele tem 2 anos de idade\n",
            "Milo, senta agora\n",
            "Milo, deita e rola\n",
            "\n",
            "O nome da sua cadela é Lulu\n",
            "Ela tem 3 anos de idade\n",
            "Lulu, senta agora\n",
            "Lulu, deita e rola\n"
          ],
          "name": "stdout"
        }
      ]
    }
  ]
}