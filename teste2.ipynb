{
  "nbformat": 4,
  "nbformat_minor": 0,
  "metadata": {
    "colab": {
      "provenance": [],
      "authorship_tag": "ABX9TyNLHP+tDOGwqz6XEmETw4om",
      "include_colab_link": true
    },
    "kernelspec": {
      "name": "python3",
      "display_name": "Python 3"
    },
    "language_info": {
      "name": "python"
    }
  },
  "cells": [
    {
      "cell_type": "markdown",
      "metadata": {
        "id": "view-in-github",
        "colab_type": "text"
      },
      "source": [
        "<a href=\"https://colab.research.google.com/github/andercreep1001/Aprendendo_python_no_G_colab/blob/main/teste2.ipynb\" target=\"_parent\"><img src=\"https://colab.research.google.com/assets/colab-badge.svg\" alt=\"Open In Colab\"/></a>"
      ]
    },
    {
      "cell_type": "code",
      "execution_count": 1,
      "metadata": {
        "colab": {
          "base_uri": "https://localhost:8080/"
        },
        "id": "MBiNDlzhqQi0",
        "outputId": "a3d659ac-9a96-4b10-9629-cb0eaa1be00e"
      },
      "outputs": [
        {
          "output_type": "stream",
          "name": "stdout",
          "text": [
            "vc acertou\n"
          ]
        }
      ],
      "source": [
        "numro = 42\n",
        "if numro == 42:\n",
        "    print(\"vc acertou\")"
      ]
    },
    {
      "cell_type": "code",
      "source": [
        "numero = 42\n",
        "adivinha = int(input('Adivinhe um numero: '))\n",
        "\n",
        "print(f'o numero digitado foi: {adivinha}')\n",
        "\n",
        "if numero == adivinha:\n",
        "    print('vc acertou')\n",
        "else:\n",
        "    print('vc errou')    "
      ],
      "metadata": {
        "colab": {
          "base_uri": "https://localhost:8080/"
        },
        "id": "eCeCPqnBwUB4",
        "outputId": "da2cfc0e-2d74-4265-f6d4-a5caae0bb72b"
      },
      "execution_count": 6,
      "outputs": [
        {
          "output_type": "stream",
          "name": "stdout",
          "text": [
            "Adivinhe um numero: 4\n",
            "o numero digitado foi: 4\n",
            "vc errou\n"
          ]
        }
      ]
    },
    {
      "cell_type": "code",
      "source": [
        "numero_secreto = 10\n",
        "\n",
        "chute = int(input('Digite um numero: '))\n",
        "\n",
        "if numero_secreto == chute:\n",
        "    print('vc acertou')\n",
        "elif chute > numero_secreto:\n",
        "    print('errou, seu chute é maior que o numero secreto')\n",
        "elif chute < numero_secreto:\n",
        "    print('errou, seu chute é menor que o numero secreto')"
      ],
      "metadata": {
        "colab": {
          "base_uri": "https://localhost:8080/"
        },
        "id": "vVoU_2Dyxz2E",
        "outputId": "d211b1e4-1444-4b7d-cbe4-036ace21d771"
      },
      "execution_count": 11,
      "outputs": [
        {
          "output_type": "stream",
          "name": "stdout",
          "text": [
            "Digite um numero: 1\n",
            "errou, seu chute é menor que o numero secreto\n"
          ]
        }
      ]
    },
    {
      "cell_type": "code",
      "source": [],
      "metadata": {
        "id": "_rztyZcS2K1S"
      },
      "execution_count": null,
      "outputs": []
    }
  ]
}