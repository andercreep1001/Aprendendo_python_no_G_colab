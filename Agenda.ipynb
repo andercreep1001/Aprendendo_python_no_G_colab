{
  "nbformat": 4,
  "nbformat_minor": 0,
  "metadata": {
    "colab": {
      "name": "Agenda.ipynb",
      "provenance": [],
      "authorship_tag": "ABX9TyOxcKHxOmYmi3bAZWfu/4da",
      "include_colab_link": true
    },
    "kernelspec": {
      "name": "python3",
      "display_name": "Python 3"
    },
    "language_info": {
      "name": "python"
    }
  },
  "cells": [
    {
      "cell_type": "markdown",
      "metadata": {
        "id": "view-in-github",
        "colab_type": "text"
      },
      "source": [
        "<a href=\"https://colab.research.google.com/github/andercreep1001/Aprendendo_python_no_G_colab/blob/main/Agenda.ipynb\" target=\"_parent\"><img src=\"https://colab.research.google.com/assets/colab-badge.svg\" alt=\"Open In Colab\"/></a>"
      ]
    },
    {
      "cell_type": "markdown",
      "metadata": {
        "id": "7cDp3XZ-kMfO"
      },
      "source": [
        "# ***Agenda simples***"
      ]
    },
    {
      "cell_type": "code",
      "metadata": {
        "colab": {
          "base_uri": "https://localhost:8080/"
        },
        "id": "TF5kww1ukPbp",
        "outputId": "72290b44-7ff8-4e59-f332-2c85dcf0940c"
      },
      "source": [
        "agenda = {'anderson':9999999, 'tais':8888888, 'agnes':77777777}\n",
        "print(agenda)\n",
        "print('Fone: Anderson - ', agenda['anderson'])\n",
        "print('Fone: Taís - ', agenda['tais'])\n",
        "print('Fone: Agnes - ', agenda['agnes'])\n"
      ],
      "execution_count": 4,
      "outputs": [
        {
          "output_type": "stream",
          "text": [
            "{'anderson': 9999999, 'tais': 8888888, 'agnes': 77777777}\n",
            "Fone: Anderson -  9999999\n",
            "Fone: Taís -  8888888\n",
            "Fone: Agnes -  77777777\n"
          ],
          "name": "stdout"
        }
      ]
    },
    {
      "cell_type": "code",
      "metadata": {
        "colab": {
          "base_uri": "https://localhost:8080/"
        },
        "id": "mYEoXaEflQY0",
        "outputId": "246bb1fa-0b06-4b24-a6fc-a6407cc576d7"
      },
      "source": [
        "agenda = {'anderson':{'Fone':'9999999','endereco':'avenida 1', 'email': 'andesterro@gmail'},\n",
        "          'tais':{'Fone':'8888888','endereco':'avenida 2', 'email':'tais@gmail'},\n",
        "          'agnes':{'Fone':'7777777','endereco':'avenida 3', 'email': 'agnes@gmail'}    \n",
        "}\n",
        "\n",
        "print(agenda)\n",
        "print(agenda['anderson'])\n",
        "print(agenda['tais'])\n",
        "print(agenda['agnes'])\n",
        "#------------------------------------------------------------------------------\n",
        "print('\\n')\n",
        "print('-----------------Mostrando Telefone------------------------------------')\n",
        "print('Fone Anderson - ', agenda['anderson']['Fone']) #mostrando o telefone\n",
        "print('Fone Taís - ', agenda['tais']['Fone'])\n",
        "print('Fone Agnes - ', agenda['agnes']['Fone'])\n",
        "#------------------------------------------------------------------------------\n",
        "print('\\n')\n",
        "print('-----------------Mostrando endereço------------------------------------')\n",
        "print('Endereço Anderson - ', agenda['anderson']['endereco'])\n",
        "print('Endereço Taís - ', agenda['tais']['endereco'])\n",
        "print('Endereço Agnes - ', agenda['agnes']['endereco'])"
      ],
      "execution_count": 24,
      "outputs": [
        {
          "output_type": "stream",
          "text": [
            "{'anderson': {'Fone': '9999999', 'endereco': 'avenida 1', 'email': 'andesterro@gmail'}, 'tais': {'Fone': '8888888', 'endereco': 'avenida 2', 'email': 'tais@gmail'}, 'agnes': {'Fone': '7777777', 'endereco': 'avenida 3', 'email': 'agnes@gmail'}}\n",
            "{'Fone': '9999999', 'endereco': 'avenida 1', 'email': 'andesterro@gmail'}\n",
            "{'Fone': '8888888', 'endereco': 'avenida 2', 'email': 'tais@gmail'}\n",
            "{'Fone': '7777777', 'endereco': 'avenida 3', 'email': 'agnes@gmail'}\n",
            "\n",
            "\n",
            "-----------------Mostrando Telefone------------------------------------\n",
            "Fone Anderson -  9999999\n",
            "Fone Taís -  8888888\n",
            "Fone Agnes -  7777777\n",
            "\n",
            "\n",
            "-----------------Mostrando endereço------------------------------------\n",
            "Endereço Anderson -  avenida 1\n",
            "Endereço Taís -  avenida 2\n",
            "Endereço Agnes -  avenida 3\n"
          ],
          "name": "stdout"
        }
      ]
    }
  ]
}