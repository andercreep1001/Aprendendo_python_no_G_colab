{
  "nbformat": 4,
  "nbformat_minor": 0,
  "metadata": {
    "colab": {
      "name": "Pessoa01.ipynb",
      "provenance": [],
      "mount_file_id": "1zVmx0sFQajvikzXRH0AIgxQxXyhj_bpq",
      "authorship_tag": "ABX9TyPsFTMiNUioukJbS0LOuaJ9",
      "include_colab_link": true
    },
    "kernelspec": {
      "name": "python3",
      "display_name": "Python 3"
    },
    "language_info": {
      "name": "python"
    }
  },
  "cells": [
    {
      "cell_type": "markdown",
      "metadata": {
        "id": "view-in-github",
        "colab_type": "text"
      },
      "source": [
        "<a href=\"https://colab.research.google.com/github/andercreep1001/Aprendendo_python_no_G_colab/blob/main/Pessoa01.ipynb\" target=\"_parent\"><img src=\"https://colab.research.google.com/assets/colab-badge.svg\" alt=\"Open In Colab\"/></a>"
      ]
    },
    {
      "cell_type": "markdown",
      "source": [
        "Classe Pessoa"
      ],
      "metadata": {
        "id": "1GSy9sfFtIca"
      }
    },
    {
      "cell_type": "code",
      "source": [
        "from google.colab import drive"
      ],
      "metadata": {
        "id": "vWy0Fvc8DbKW"
      },
      "execution_count": 14,
      "outputs": []
    },
    {
      "cell_type": "code",
      "source": [
        "!cp /content/drive/MyDrive/Colab\\ Notebooks/JogoPokemon01.py /content\n"
      ],
      "metadata": {
        "id": "MBck8heDDeVi"
      },
      "execution_count": 20,
      "outputs": []
    },
    {
      "cell_type": "code",
      "source": [
        "from JogoPokemon01 import *"
      ],
      "metadata": {
        "id": "eCD_gwgzDuFj"
      },
      "execution_count": 21,
      "outputs": []
    },
    {
      "cell_type": "code",
      "execution_count": 17,
      "metadata": {
        "colab": {
          "base_uri": "https://localhost:8080/"
        },
        "id": "q-5Q4S9TtCzW",
        "outputId": "43a12349-30a3-4de6-cbd9-91cfd4f710b7"
      },
      "outputs": [
        {
          "output_type": "stream",
          "name": "stdout",
          "text": [
            "Agnes\n",
            "[]\n"
          ]
        }
      ],
      "source": [
        "class Pessoa:\n",
        "    def __init__(self, nome=None, pokemons=[]):\n",
        "        if nome:\n",
        "            self.nome = nome\n",
        "        else:\n",
        "            nome = \"Anonimo\"\n",
        "\n",
        "        self.pokemons = pokemons\n",
        "\n",
        "    def __str__(self):\n",
        "        return self.nome           \n",
        "\n",
        "#________________________________________________\n",
        "\n",
        "class Player(Pessoa):\n",
        "    tipo = \"player\"\n",
        "\n",
        "#________________________________________________\n",
        "\n",
        "class Inimigo(Pessoa):\n",
        "    tipo = \"inimigo\"\n",
        "\n",
        "#________________________________________________\n",
        "\n",
        "\n",
        "eu = Player(\"Agnes\")\n",
        "print(eu)\n",
        "print(eu.pokemons)\n"
      ]
    }
  ]
}