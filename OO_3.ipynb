{
  "nbformat": 4,
  "nbformat_minor": 0,
  "metadata": {
    "colab": {
      "name": "OO_3.ipynb",
      "provenance": [],
      "authorship_tag": "ABX9TyMOFeT19eBQMPj1ua4DFEnk",
      "include_colab_link": true
    },
    "kernelspec": {
      "name": "python3",
      "display_name": "Python 3"
    },
    "language_info": {
      "name": "python"
    }
  },
  "cells": [
    {
      "cell_type": "markdown",
      "metadata": {
        "id": "view-in-github",
        "colab_type": "text"
      },
      "source": [
        "<a href=\"https://colab.research.google.com/github/andercreep1001/Aprendendo_python_no_G_colab/blob/main/OO_3.ipynb\" target=\"_parent\"><img src=\"https://colab.research.google.com/assets/colab-badge.svg\" alt=\"Open In Colab\"/></a>"
      ]
    },
    {
      "cell_type": "markdown",
      "metadata": {
        "id": "878V4S2uv3hB"
      },
      "source": [
        "# **Orientação a objetos - Usuario**"
      ]
    },
    {
      "cell_type": "code",
      "metadata": {
        "colab": {
          "base_uri": "https://localhost:8080/"
        },
        "id": "XqiSnyTDwAFk",
        "outputId": "d37ac229-5fd5-40f1-c7ce-fe9180a2fd03"
      },
      "source": [
        "class Usuaruio:\n",
        "  def __init__(self, nome, sobreome, olhos, cabelo, altura):\n",
        "    self.nome = nome\n",
        "    self.sobreome = sobreome\n",
        "    self.olhos = olhos\n",
        "    self.cabelo = cabelo\n",
        "    self.altura = altura\n",
        "\n",
        "  def user_descrição(self):\n",
        "    print(f\"O nome do usuario é {self.nome} {self.sobreome}\\n\")\n",
        "    print(f\"Ele tem olhos {self.olhos}\\n\")\n",
        "    print(f\"E cabelos {self.cabelo}\\n\")\n",
        "    print(f\"E {self.altura} de altura\")\n",
        "\n",
        "\n",
        "usuario = Usuaruio(\"Anderson\", \"Desterro\", \"Castanhos\", \"Castanhos\", \"1,73\")\n",
        "usuario.user_descrição()    \n",
        "\n"
      ],
      "execution_count": 10,
      "outputs": [
        {
          "output_type": "stream",
          "text": [
            "O nome do usuario é Anderson Desterro\n",
            "\n",
            "Ele tem olhos Castanhos\n",
            "\n",
            "E cabelos Castanhos\n",
            "\n",
            "E 1,73 de altura\n"
          ],
          "name": "stdout"
        }
      ]
    }
  ]
}